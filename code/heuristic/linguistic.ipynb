{
 "metadata": {
  "language_info": {
   "codemirror_mode": {
    "name": "ipython",
    "version": 3
   },
   "file_extension": ".py",
   "mimetype": "text/x-python",
   "name": "python",
   "nbconvert_exporter": "python",
   "pygments_lexer": "ipython3",
   "version": "3.7.4-final"
  },
  "orig_nbformat": 2,
  "kernelspec": {
   "name": "data-science",
   "language": "python",
   "display_name": "venv-DS"
  }
 },
 "nbformat": 4,
 "nbformat_minor": 2,
 "cells": [
  {
   "cell_type": "code",
   "execution_count": 1,
   "metadata": {},
   "outputs": [],
   "source": [
    "import spacy\n",
    "\n",
    "nlp = spacy.load(\"en_core_web_sm\")"
   ]
  },
  {
   "cell_type": "code",
   "execution_count": 6,
   "outputs": [],
   "source": [
    "from spacy.attrs import ORTH, NORM\n",
    "\n",
    "nlp.tokenizer.add_special_case('out of date', [{ORTH:'out of date', NORM: 'outdated'}])"
   ],
   "metadata": {
    "collapsed": false,
    "pycharm": {
     "name": "#%%\n"
    }
   }
  },
  {
   "cell_type": "code",
   "execution_count": 37,
   "outputs": [
    {
     "name": "stdout",
     "output_type": "stream",
     "text": [
      "This is outdated.\n",
      "That document get deprecated.\n",
      "It's not discouraged.\n",
      "Service is non-outdated.\n",
      "It's an obsolete document.\n"
     ]
    }
   ],
   "source": [
    "doc = nlp(\"This is outdated. That document get deprecated. It's not discouraged. \"\n",
    "          \"Service is non-outdated. It's an obsolete document.\")\n",
    "for sent in doc.sents:\n",
    "    print(sent)"
   ],
   "metadata": {
    "collapsed": false,
    "pycharm": {
     "name": "#%%\n"
    }
   }
  },
  {
   "cell_type": "code",
   "execution_count": 40,
   "outputs": [
    {
     "name": "stdout",
     "output_type": "stream",
     "text": [
      "lemma: this  \t dep: nsubjpass \t pos: DET \t head: outdated\n",
      "lemma: be  \t dep: auxpass \t pos: AUX \t head: outdated\n",
      "lemma: outdated  \t dep: ROOT \t pos: ADJ \t head: outdated\n",
      "lemma: .  \t dep: punct \t pos: PUNCT \t head: outdated\n",
      "lemma: that  \t dep: det \t pos: DET \t head: document\n",
      "lemma: document  \t dep: nsubjpass \t pos: NOUN \t head: deprecated\n",
      "lemma: get  \t dep: auxpass \t pos: AUX \t head: deprecated\n",
      "lemma: deprecated  \t dep: ROOT \t pos: ADJ \t head: deprecated\n",
      "lemma: .  \t dep: punct \t pos: PUNCT \t head: deprecated\n",
      "lemma: -PRON-  \t dep: nsubjpass \t pos: PRON \t head: discouraged\n",
      "lemma: be  \t dep: auxpass \t pos: AUX \t head: discouraged\n",
      "lemma: not  \t dep: neg \t pos: PART \t head: discouraged\n",
      "lemma: discourage  \t dep: ROOT \t pos: VERB \t head: discouraged\n",
      "lemma: .  \t dep: punct \t pos: PUNCT \t head: discouraged\n",
      "lemma: service  \t dep: nsubj \t pos: NOUN \t head: is\n",
      "lemma: be  \t dep: ROOT \t pos: AUX \t head: is\n",
      "lemma: non  \t dep: dep \t pos: ADJ \t head: -\n",
      "lemma: -  \t dep: dep \t pos: ADJ \t head: outdated\n",
      "lemma: outdated  \t dep: acomp \t pos: ADJ \t head: is\n",
      "lemma: .  \t dep: punct \t pos: PUNCT \t head: is\n",
      "lemma: -PRON-  \t dep: nsubj \t pos: PRON \t head: 's\n",
      "lemma: be  \t dep: ROOT \t pos: AUX \t head: 's\n",
      "lemma: an  \t dep: det \t pos: DET \t head: document\n",
      "lemma: obsolete  \t dep: amod \t pos: ADJ \t head: document\n",
      "lemma: document  \t dep: attr \t pos: NOUN \t head: 's\n",
      "lemma: .  \t dep: punct \t pos: PUNCT \t head: 's\n"
     ]
    }
   ],
   "source": [
    "for tok in doc:\n",
    "    print(\"lemma: {}  \\t dep: {} \\t pos: {} \\t head: {}\".format(tok.lemma_, tok.dep_, tok.pos_, tok.head.text))\n"
   ],
   "metadata": {
    "collapsed": false,
    "pycharm": {
     "name": "#%%\n"
    }
   }
  },
  {
   "cell_type": "code",
   "execution_count": 23,
   "outputs": [
    {
     "name": "stdout",
     "output_type": "stream",
     "text": [
      "0 4\n",
      "This .\n",
      "17\n",
      "This is outdated.\n",
      "4 9\n",
      "That .\n",
      "47\n",
      "That document get deprecated.\n",
      "9 16\n",
      "It .\n",
      "69\n",
      "It's not out of date.\n"
     ]
    }
   ],
   "source": [
    "for sent in doc.sents:\n",
    "    print(sent.start, sent.end)\n",
    "    print(doc[sent.start], doc[sent.end - 1])\n",
    "    print(sent.end_char)\n",
    "    print(str(sent))"
   ],
   "metadata": {
    "collapsed": false,
    "pycharm": {
     "name": "#%%\n"
    }
   }
  },
  {
   "cell_type": "code",
   "execution_count": null,
   "outputs": [],
   "source": [
    "from spacy.tokens import Span\n",
    "\n",
    "KEYWORDS = ['outdated']\n",
    "\n",
    "def analyse_sentence(sentence: spacy.tokens.Span):\n",
    "    \"\"\"\n",
    "    Analyse a sentence from a doc.\n",
    "    punct: ? . !\n",
    "    negative statement: not\n",
    "    dep of keyword: ROOT or amod\n",
    "    https://spacy.io/usage/linguistic-features#pos-tagging\n",
    "    \"\"\"\n",
    "    ref_doc = sentence.doc\n",
    "    text = str(sentence)\n",
    "    if any([kw in text for kw in KEYWORDS]) is False:\n",
    "        return None\n",
    "    start, end = sentence.start, sentence.end - 1\n",
    "    punct = ref_doc[end]\n"
   ],
   "metadata": {
    "collapsed": false,
    "pycharm": {
     "name": "#%%\n"
    }
   }
  }
 ]
}