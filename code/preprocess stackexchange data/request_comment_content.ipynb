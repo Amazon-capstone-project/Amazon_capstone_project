{
 "cells": [
  {
   "cell_type": "code",
   "execution_count": 1,
   "metadata": {},
   "outputs": [],
   "source": [
    "import requests"
   ]
  },
  {
   "cell_type": "code",
   "execution_count": 6,
   "metadata": {},
   "outputs": [],
   "source": [
    "def get_comment_content(c_id: str):\n",
    "    url = 'https://api.stackexchange.com/2.2/comments/{cid}?order=desc&sort=creation&site=stackoverflow&filter=!9_bDE0.uJ'.format(cid = c_id)\n",
    "    resp = requests.get(url)\n",
    "    return resp.json().get('items')[0].get('body_markdown')  "
   ]
  }
 ],
 "metadata": {
  "kernelspec": {
   "display_name": "Python 3",
   "language": "python",
   "name": "python3"
  },
  "language_info": {
   "codemirror_mode": {
    "name": "ipython",
    "version": 3
   },
   "file_extension": ".py",
   "mimetype": "text/x-python",
   "name": "python",
   "nbconvert_exporter": "python",
   "pygments_lexer": "ipython3",
   "version": "3.7.4"
  }
 },
 "nbformat": 4,
 "nbformat_minor": 2
}
