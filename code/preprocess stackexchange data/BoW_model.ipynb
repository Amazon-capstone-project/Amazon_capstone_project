{
 "cells": [
  {
   "cell_type": "code",
   "execution_count": 91,
   "metadata": {},
   "outputs": [],
   "source": [
    "#import all packages\n",
    "import pandas as pd\n",
    "import numpy as np\n",
    "from sklearn.feature_extraction.text import CountVectorizer\n",
    "from sklearn.feature_extraction.text import TfidfTransformer\n",
    "from sklearn.model_selection import train_test_split\n",
    "from sklearn.naive_bayes import BernoulliNB\n",
    "from sklearn.naive_bayes import MultinomialNB\n",
    "from sklearn.linear_model import LogisticRegression\n",
    "from sklearn.preprocessing import OneHotEncoder\n",
    "from sklearn.metrics import f1_score"
   ]
  },
  {
   "cell_type": "markdown",
   "metadata": {},
   "source": [
    "# 1. Comment Data"
   ]
  },
  {
   "cell_type": "code",
   "execution_count": 237,
   "metadata": {},
   "outputs": [],
   "source": [
    "data_comment = pd.read_csv('./data/commentTestData.csv', error_bad_lines=False, sep='\\t')"
   ]
  },
  {
   "cell_type": "code",
   "execution_count": 238,
   "metadata": {},
   "outputs": [
    {
     "data": {
      "text/html": [
       "<div>\n",
       "<style scoped>\n",
       "    .dataframe tbody tr th:only-of-type {\n",
       "        vertical-align: middle;\n",
       "    }\n",
       "\n",
       "    .dataframe tbody tr th {\n",
       "        vertical-align: top;\n",
       "    }\n",
       "\n",
       "    .dataframe thead th {\n",
       "        text-align: right;\n",
       "    }\n",
       "</style>\n",
       "<table border=\"1\" class=\"dataframe\">\n",
       "  <thead>\n",
       "    <tr style=\"text-align: right;\">\n",
       "      <th></th>\n",
       "      <th>Id</th>\n",
       "      <th>PostId</th>\n",
       "      <th>Score</th>\n",
       "      <th>Text</th>\n",
       "      <th>CreationDate</th>\n",
       "      <th>UserId</th>\n",
       "      <th>link</th>\n",
       "      <th>outdated (manually checked)</th>\n",
       "      <th>description</th>\n",
       "      <th>link outdated</th>\n",
       "      <th>...</th>\n",
       "      <th>phrases</th>\n",
       "      <th>strucutures</th>\n",
       "      <th>point out deprecated version</th>\n",
       "      <th>provide alternatives</th>\n",
       "      <th>share a link</th>\n",
       "      <th>provide code</th>\n",
       "      <th>others</th>\n",
       "      <th>other notes</th>\n",
       "      <th>link to updated post</th>\n",
       "      <th>for question (1) / for answer (2)</th>\n",
       "    </tr>\n",
       "  </thead>\n",
       "  <tbody>\n",
       "    <tr>\n",
       "      <td>0</td>\n",
       "      <td>29746988</td>\n",
       "      <td>5502390</td>\n",
       "      <td>2</td>\n",
       "      <td>The test page http://blog.kosny.com/testpages/...</td>\n",
       "      <td>2013-11-14T15:46:55.083</td>\n",
       "      <td>595094</td>\n",
       "      <td>https://stackoverflow.com/questions/5502390</td>\n",
       "      <td>True</td>\n",
       "      <td>code format in answer outdated</td>\n",
       "      <td>0.0</td>\n",
       "      <td>...</td>\n",
       "      <td>NaN</td>\n",
       "      <td>NaN</td>\n",
       "      <td>1.0</td>\n",
       "      <td>1.0</td>\n",
       "      <td>1.0</td>\n",
       "      <td>0.0</td>\n",
       "      <td>0.0</td>\n",
       "      <td>NaN</td>\n",
       "      <td>NaN</td>\n",
       "      <td>2.0</td>\n",
       "    </tr>\n",
       "    <tr>\n",
       "      <td>1</td>\n",
       "      <td>22037703</td>\n",
       "      <td>15550433</td>\n",
       "      <td>0</td>\n",
       "      <td>@believeme That example uses deprecated mysql ...</td>\n",
       "      <td>2013-03-21T15:32:21.667</td>\n",
       "      <td>790224</td>\n",
       "      <td>https://stackoverflow.com/questions/15550433</td>\n",
       "      <td>True</td>\n",
       "      <td>another comment outdated</td>\n",
       "      <td>0.0</td>\n",
       "      <td>...</td>\n",
       "      <td>NaN</td>\n",
       "      <td>NaN</td>\n",
       "      <td>1.0</td>\n",
       "      <td>0.0</td>\n",
       "      <td>0.0</td>\n",
       "      <td>0.0</td>\n",
       "      <td>0.0</td>\n",
       "      <td>outdated mysql library</td>\n",
       "      <td>NaN</td>\n",
       "      <td>1.0</td>\n",
       "    </tr>\n",
       "    <tr>\n",
       "      <td>2</td>\n",
       "      <td>58927510</td>\n",
       "      <td>33262467</td>\n",
       "      <td>1</td>\n",
       "      <td>This is the best answer now, as aws 1 is depre...</td>\n",
       "      <td>2016-02-25T09:05:49.150</td>\n",
       "      <td>993592</td>\n",
       "      <td>https://stackoverflow.com/questions/33262467</td>\n",
       "      <td>True</td>\n",
       "      <td>comment in one answer to point out another ans...</td>\n",
       "      <td>0.0</td>\n",
       "      <td>...</td>\n",
       "      <td>NaN</td>\n",
       "      <td>NaN</td>\n",
       "      <td>1.0</td>\n",
       "      <td>0.0</td>\n",
       "      <td>0.0</td>\n",
       "      <td>0.0</td>\n",
       "      <td>0.0</td>\n",
       "      <td>NaN</td>\n",
       "      <td>NaN</td>\n",
       "      <td>2.0</td>\n",
       "    </tr>\n",
       "    <tr>\n",
       "      <td>3</td>\n",
       "      <td>102026242</td>\n",
       "      <td>42477724</td>\n",
       "      <td>1</td>\n",
       "      <td>Is this still meant to work, because it appear...</td>\n",
       "      <td>2019-09-04T23:18:00.197</td>\n",
       "      <td>3674263</td>\n",
       "      <td>https://stackoverflow.com/questions/42477724</td>\n",
       "      <td>False</td>\n",
       "      <td>asks for possible outdated version</td>\n",
       "      <td>0.0</td>\n",
       "      <td>...</td>\n",
       "      <td>possibly outdated</td>\n",
       "      <td>NaN</td>\n",
       "      <td>1.0</td>\n",
       "      <td>0.0</td>\n",
       "      <td>0.0</td>\n",
       "      <td>0.0</td>\n",
       "      <td>0.0</td>\n",
       "      <td>NaN</td>\n",
       "      <td>NaN</td>\n",
       "      <td>2.0</td>\n",
       "    </tr>\n",
       "    <tr>\n",
       "      <td>4</td>\n",
       "      <td>111893971</td>\n",
       "      <td>63275335</td>\n",
       "      <td>0</td>\n",
       "      <td>Hi. I tried /home/webapp as well and that didn...</td>\n",
       "      <td>2020-08-06T06:06:30.027</td>\n",
       "      <td>1304505</td>\n",
       "      <td>https://stackoverflow.com/questions/63275335</td>\n",
       "      <td>False</td>\n",
       "      <td>asks for possible outdated version</td>\n",
       "      <td>0.0</td>\n",
       "      <td>...</td>\n",
       "      <td>seems to be outdated</td>\n",
       "      <td>NaN</td>\n",
       "      <td>1.0</td>\n",
       "      <td>0.0</td>\n",
       "      <td>0.0</td>\n",
       "      <td>0.0</td>\n",
       "      <td>0.0</td>\n",
       "      <td>NaN</td>\n",
       "      <td>NaN</td>\n",
       "      <td>2.0</td>\n",
       "    </tr>\n",
       "  </tbody>\n",
       "</table>\n",
       "<p>5 rows × 30 columns</p>\n",
       "</div>"
      ],
      "text/plain": [
       "          Id    PostId  Score  \\\n",
       "0   29746988   5502390      2   \n",
       "1   22037703  15550433      0   \n",
       "2   58927510  33262467      1   \n",
       "3  102026242  42477724      1   \n",
       "4  111893971  63275335      0   \n",
       "\n",
       "                                                Text             CreationDate  \\\n",
       "0  The test page http://blog.kosny.com/testpages/...  2013-11-14T15:46:55.083   \n",
       "1  @believeme That example uses deprecated mysql ...  2013-03-21T15:32:21.667   \n",
       "2  This is the best answer now, as aws 1 is depre...  2016-02-25T09:05:49.150   \n",
       "3  Is this still meant to work, because it appear...  2019-09-04T23:18:00.197   \n",
       "4  Hi. I tried /home/webapp as well and that didn...  2020-08-06T06:06:30.027   \n",
       "\n",
       "    UserId                                          link  \\\n",
       "0   595094   https://stackoverflow.com/questions/5502390   \n",
       "1   790224  https://stackoverflow.com/questions/15550433   \n",
       "2   993592  https://stackoverflow.com/questions/33262467   \n",
       "3  3674263  https://stackoverflow.com/questions/42477724   \n",
       "4  1304505  https://stackoverflow.com/questions/63275335   \n",
       "\n",
       "   outdated (manually checked)  \\\n",
       "0                         True   \n",
       "1                         True   \n",
       "2                         True   \n",
       "3                        False   \n",
       "4                        False   \n",
       "\n",
       "                                         description  link outdated  ...  \\\n",
       "0                     code format in answer outdated            0.0  ...   \n",
       "1                           another comment outdated            0.0  ...   \n",
       "2  comment in one answer to point out another ans...            0.0  ...   \n",
       "3                 asks for possible outdated version            0.0  ...   \n",
       "4                 asks for possible outdated version            0.0  ...   \n",
       "\n",
       "                phrases  strucutures  point out deprecated version  \\\n",
       "0                   NaN          NaN                           1.0   \n",
       "1                   NaN          NaN                           1.0   \n",
       "2                   NaN          NaN                           1.0   \n",
       "3     possibly outdated          NaN                           1.0   \n",
       "4  seems to be outdated          NaN                           1.0   \n",
       "\n",
       "   provide alternatives  share a link  provide code  others  \\\n",
       "0                   1.0           1.0           0.0     0.0   \n",
       "1                   0.0           0.0           0.0     0.0   \n",
       "2                   0.0           0.0           0.0     0.0   \n",
       "3                   0.0           0.0           0.0     0.0   \n",
       "4                   0.0           0.0           0.0     0.0   \n",
       "\n",
       "              other notes link to updated post  \\\n",
       "0                     NaN                  NaN   \n",
       "1  outdated mysql library                  NaN   \n",
       "2                     NaN                  NaN   \n",
       "3                     NaN                  NaN   \n",
       "4                     NaN                  NaN   \n",
       "\n",
       "  for question (1) / for answer (2)  \n",
       "0                               2.0  \n",
       "1                               1.0  \n",
       "2                               2.0  \n",
       "3                               2.0  \n",
       "4                               2.0  \n",
       "\n",
       "[5 rows x 30 columns]"
      ]
     },
     "execution_count": 238,
     "metadata": {},
     "output_type": "execute_result"
    }
   ],
   "source": [
    "data_comment.head()"
   ]
  },
  {
   "cell_type": "code",
   "execution_count": 239,
   "metadata": {},
   "outputs": [
    {
     "data": {
      "text/plain": [
       "Index(['Id', 'PostId', 'Score', 'Text', 'CreationDate', 'UserId', 'link',\n",
       "       'outdated (manually checked)', 'description', 'link outdated',\n",
       "       'answer outdated', 'question outdated', 'already outdated when posted',\n",
       "       'other reasons', 'uncertain', 'partly outdated', 'totally outdated',\n",
       "       'is aws-related', 'related service', 'keywords', 'phrases',\n",
       "       'strucutures', 'point out deprecated version', 'provide alternatives',\n",
       "       'share a link', 'provide code', 'others', 'other notes',\n",
       "       'link to updated post', 'for question (1) / for answer (2)'],\n",
       "      dtype='object')"
      ]
     },
     "execution_count": 239,
     "metadata": {},
     "output_type": "execute_result"
    }
   ],
   "source": [
    "data_comment.columns"
   ]
  },
  {
   "cell_type": "code",
   "execution_count": 242,
   "metadata": {},
   "outputs": [],
   "source": [
    "#drop unuseful features\n",
    "data_comment = data_comment.drop(columns=['description', 'uncertain', 'phrases', 'strucutures', \n",
    "                                          'other notes', 'link to updated post'])"
   ]
  },
  {
   "cell_type": "code",
   "execution_count": 243,
   "metadata": {},
   "outputs": [
    {
     "data": {
      "text/html": [
       "<div>\n",
       "<style scoped>\n",
       "    .dataframe tbody tr th:only-of-type {\n",
       "        vertical-align: middle;\n",
       "    }\n",
       "\n",
       "    .dataframe tbody tr th {\n",
       "        vertical-align: top;\n",
       "    }\n",
       "\n",
       "    .dataframe thead th {\n",
       "        text-align: right;\n",
       "    }\n",
       "</style>\n",
       "<table border=\"1\" class=\"dataframe\">\n",
       "  <thead>\n",
       "    <tr style=\"text-align: right;\">\n",
       "      <th></th>\n",
       "      <th>Id</th>\n",
       "      <th>PostId</th>\n",
       "      <th>Score</th>\n",
       "      <th>Text</th>\n",
       "      <th>CreationDate</th>\n",
       "      <th>UserId</th>\n",
       "      <th>link</th>\n",
       "      <th>outdated (manually checked)</th>\n",
       "      <th>link outdated</th>\n",
       "      <th>answer outdated</th>\n",
       "      <th>...</th>\n",
       "      <th>totally outdated</th>\n",
       "      <th>is aws-related</th>\n",
       "      <th>related service</th>\n",
       "      <th>keywords</th>\n",
       "      <th>point out deprecated version</th>\n",
       "      <th>provide alternatives</th>\n",
       "      <th>share a link</th>\n",
       "      <th>provide code</th>\n",
       "      <th>others</th>\n",
       "      <th>for question (1) / for answer (2)</th>\n",
       "    </tr>\n",
       "  </thead>\n",
       "  <tbody>\n",
       "    <tr>\n",
       "      <td>0</td>\n",
       "      <td>29746988</td>\n",
       "      <td>5502390</td>\n",
       "      <td>2</td>\n",
       "      <td>The test page http://blog.kosny.com/testpages/...</td>\n",
       "      <td>2013-11-14T15:46:55.083</td>\n",
       "      <td>595094</td>\n",
       "      <td>https://stackoverflow.com/questions/5502390</td>\n",
       "      <td>True</td>\n",
       "      <td>0.0</td>\n",
       "      <td>0.0</td>\n",
       "      <td>...</td>\n",
       "      <td>1.0</td>\n",
       "      <td>no</td>\n",
       "      <td>NaN</td>\n",
       "      <td>out of date</td>\n",
       "      <td>1.0</td>\n",
       "      <td>1.0</td>\n",
       "      <td>1.0</td>\n",
       "      <td>0.0</td>\n",
       "      <td>0.0</td>\n",
       "      <td>2.0</td>\n",
       "    </tr>\n",
       "    <tr>\n",
       "      <td>1</td>\n",
       "      <td>22037703</td>\n",
       "      <td>15550433</td>\n",
       "      <td>0</td>\n",
       "      <td>@believeme That example uses deprecated mysql ...</td>\n",
       "      <td>2013-03-21T15:32:21.667</td>\n",
       "      <td>790224</td>\n",
       "      <td>https://stackoverflow.com/questions/15550433</td>\n",
       "      <td>True</td>\n",
       "      <td>0.0</td>\n",
       "      <td>0.0</td>\n",
       "      <td>...</td>\n",
       "      <td>0.0</td>\n",
       "      <td>no</td>\n",
       "      <td>NaN</td>\n",
       "      <td>deprecated</td>\n",
       "      <td>1.0</td>\n",
       "      <td>0.0</td>\n",
       "      <td>0.0</td>\n",
       "      <td>0.0</td>\n",
       "      <td>0.0</td>\n",
       "      <td>1.0</td>\n",
       "    </tr>\n",
       "    <tr>\n",
       "      <td>2</td>\n",
       "      <td>58927510</td>\n",
       "      <td>33262467</td>\n",
       "      <td>1</td>\n",
       "      <td>This is the best answer now, as aws 1 is depre...</td>\n",
       "      <td>2016-02-25T09:05:49.150</td>\n",
       "      <td>993592</td>\n",
       "      <td>https://stackoverflow.com/questions/33262467</td>\n",
       "      <td>True</td>\n",
       "      <td>0.0</td>\n",
       "      <td>1.0</td>\n",
       "      <td>...</td>\n",
       "      <td>0.0</td>\n",
       "      <td>yes</td>\n",
       "      <td>aws-sdk-ruby</td>\n",
       "      <td>deprecated</td>\n",
       "      <td>1.0</td>\n",
       "      <td>0.0</td>\n",
       "      <td>0.0</td>\n",
       "      <td>0.0</td>\n",
       "      <td>0.0</td>\n",
       "      <td>2.0</td>\n",
       "    </tr>\n",
       "    <tr>\n",
       "      <td>3</td>\n",
       "      <td>102026242</td>\n",
       "      <td>42477724</td>\n",
       "      <td>1</td>\n",
       "      <td>Is this still meant to work, because it appear...</td>\n",
       "      <td>2019-09-04T23:18:00.197</td>\n",
       "      <td>3674263</td>\n",
       "      <td>https://stackoverflow.com/questions/42477724</td>\n",
       "      <td>False</td>\n",
       "      <td>0.0</td>\n",
       "      <td>0.0</td>\n",
       "      <td>...</td>\n",
       "      <td>0.0</td>\n",
       "      <td>yes</td>\n",
       "      <td>amazon-elastic-beanstalk</td>\n",
       "      <td>outdated</td>\n",
       "      <td>1.0</td>\n",
       "      <td>0.0</td>\n",
       "      <td>0.0</td>\n",
       "      <td>0.0</td>\n",
       "      <td>0.0</td>\n",
       "      <td>2.0</td>\n",
       "    </tr>\n",
       "    <tr>\n",
       "      <td>4</td>\n",
       "      <td>111893971</td>\n",
       "      <td>63275335</td>\n",
       "      <td>0</td>\n",
       "      <td>Hi. I tried /home/webapp as well and that didn...</td>\n",
       "      <td>2020-08-06T06:06:30.027</td>\n",
       "      <td>1304505</td>\n",
       "      <td>https://stackoverflow.com/questions/63275335</td>\n",
       "      <td>False</td>\n",
       "      <td>0.0</td>\n",
       "      <td>0.0</td>\n",
       "      <td>...</td>\n",
       "      <td>0.0</td>\n",
       "      <td>yes</td>\n",
       "      <td>amazon-ec2, amazon-elastic-beanstalk</td>\n",
       "      <td>outdated</td>\n",
       "      <td>1.0</td>\n",
       "      <td>0.0</td>\n",
       "      <td>0.0</td>\n",
       "      <td>0.0</td>\n",
       "      <td>0.0</td>\n",
       "      <td>2.0</td>\n",
       "    </tr>\n",
       "  </tbody>\n",
       "</table>\n",
       "<p>5 rows × 24 columns</p>\n",
       "</div>"
      ],
      "text/plain": [
       "          Id    PostId  Score  \\\n",
       "0   29746988   5502390      2   \n",
       "1   22037703  15550433      0   \n",
       "2   58927510  33262467      1   \n",
       "3  102026242  42477724      1   \n",
       "4  111893971  63275335      0   \n",
       "\n",
       "                                                Text             CreationDate  \\\n",
       "0  The test page http://blog.kosny.com/testpages/...  2013-11-14T15:46:55.083   \n",
       "1  @believeme That example uses deprecated mysql ...  2013-03-21T15:32:21.667   \n",
       "2  This is the best answer now, as aws 1 is depre...  2016-02-25T09:05:49.150   \n",
       "3  Is this still meant to work, because it appear...  2019-09-04T23:18:00.197   \n",
       "4  Hi. I tried /home/webapp as well and that didn...  2020-08-06T06:06:30.027   \n",
       "\n",
       "    UserId                                          link  \\\n",
       "0   595094   https://stackoverflow.com/questions/5502390   \n",
       "1   790224  https://stackoverflow.com/questions/15550433   \n",
       "2   993592  https://stackoverflow.com/questions/33262467   \n",
       "3  3674263  https://stackoverflow.com/questions/42477724   \n",
       "4  1304505  https://stackoverflow.com/questions/63275335   \n",
       "\n",
       "   outdated (manually checked)  link outdated  answer outdated  ...  \\\n",
       "0                         True            0.0              0.0  ...   \n",
       "1                         True            0.0              0.0  ...   \n",
       "2                         True            0.0              1.0  ...   \n",
       "3                        False            0.0              0.0  ...   \n",
       "4                        False            0.0              0.0  ...   \n",
       "\n",
       "   totally outdated  is aws-related                       related service  \\\n",
       "0               1.0              no                                   NaN   \n",
       "1               0.0              no                                   NaN   \n",
       "2               0.0             yes                          aws-sdk-ruby   \n",
       "3               0.0             yes              amazon-elastic-beanstalk   \n",
       "4               0.0             yes  amazon-ec2, amazon-elastic-beanstalk   \n",
       "\n",
       "      keywords  point out deprecated version provide alternatives  \\\n",
       "0  out of date                           1.0                  1.0   \n",
       "1   deprecated                           1.0                  0.0   \n",
       "2   deprecated                           1.0                  0.0   \n",
       "3     outdated                           1.0                  0.0   \n",
       "4     outdated                           1.0                  0.0   \n",
       "\n",
       "  share a link provide code  others  for question (1) / for answer (2)  \n",
       "0          1.0          0.0     0.0                                2.0  \n",
       "1          0.0          0.0     0.0                                1.0  \n",
       "2          0.0          0.0     0.0                                2.0  \n",
       "3          0.0          0.0     0.0                                2.0  \n",
       "4          0.0          0.0     0.0                                2.0  \n",
       "\n",
       "[5 rows x 24 columns]"
      ]
     },
     "execution_count": 243,
     "metadata": {},
     "output_type": "execute_result"
    }
   ],
   "source": [
    "data_comment.head()"
   ]
  },
  {
   "cell_type": "markdown",
   "metadata": {},
   "source": [
    "## 1.1 BoW"
   ]
  },
  {
   "cell_type": "code",
   "execution_count": 282,
   "metadata": {},
   "outputs": [],
   "source": [
    "#use only text as training data\n",
    "X = data_comment['Text']\n",
    "y = data_comment['outdated (manually checked)']"
   ]
  },
  {
   "cell_type": "code",
   "execution_count": 295,
   "metadata": {},
   "outputs": [],
   "source": [
    "X_train, X_test, y_train, y_test = train_test_split(X, y, test_size=0.2)"
   ]
  },
  {
   "cell_type": "code",
   "execution_count": 284,
   "metadata": {},
   "outputs": [
    {
     "data": {
      "text/plain": [
       "126"
      ]
     },
     "execution_count": 284,
     "metadata": {},
     "output_type": "execute_result"
    }
   ],
   "source": [
    "len(X_train)"
   ]
  },
  {
   "cell_type": "code",
   "execution_count": 296,
   "metadata": {},
   "outputs": [],
   "source": [
    "X_train = X_train.fillna('fillna')"
   ]
  },
  {
   "cell_type": "code",
   "execution_count": 297,
   "metadata": {},
   "outputs": [],
   "source": [
    "count_vect = CountVectorizer()\n",
    "X_train_counts = count_vect.fit_transform(X_train)"
   ]
  },
  {
   "cell_type": "code",
   "execution_count": 12,
   "metadata": {},
   "outputs": [
    {
     "data": {
      "text/plain": [
       "(126, 1268)"
      ]
     },
     "execution_count": 12,
     "metadata": {},
     "output_type": "execute_result"
    }
   ],
   "source": [
    "X_train_counts.shape"
   ]
  },
  {
   "cell_type": "code",
   "execution_count": 298,
   "metadata": {},
   "outputs": [],
   "source": [
    "tfidf_transformer = TfidfTransformer()\n",
    "X_train_tfidf = tfidf_transformer.fit_transform(X_train_counts)"
   ]
  },
  {
   "cell_type": "code",
   "execution_count": 289,
   "metadata": {},
   "outputs": [
    {
     "data": {
      "text/plain": [
       "(126, 1324)"
      ]
     },
     "execution_count": 289,
     "metadata": {},
     "output_type": "execute_result"
    }
   ],
   "source": [
    "X_train_tfidf.shape"
   ]
  },
  {
   "cell_type": "code",
   "execution_count": 299,
   "metadata": {},
   "outputs": [],
   "source": [
    "clf = MultinomialNB().fit(X_train_tfidf, y_train)\n",
    "clfLR = LogisticRegression(C=50).fit(X_train_tfidf, y_train)"
   ]
  },
  {
   "cell_type": "code",
   "execution_count": 300,
   "metadata": {},
   "outputs": [],
   "source": [
    "X_test_counts = count_vect.transform(X_test)\n",
    "X_test_tfidf = tfidf_transformer.transform(X_test_counts)"
   ]
  },
  {
   "cell_type": "code",
   "execution_count": 301,
   "metadata": {},
   "outputs": [],
   "source": [
    "predicted = clf.predict(X_test_tfidf)"
   ]
  },
  {
   "cell_type": "code",
   "execution_count": 302,
   "metadata": {},
   "outputs": [
    {
     "data": {
      "text/plain": [
       "0.71875"
      ]
     },
     "execution_count": 302,
     "metadata": {},
     "output_type": "execute_result"
    }
   ],
   "source": [
    "clf.score(X_test_tfidf, y_test)"
   ]
  },
  {
   "cell_type": "code",
   "execution_count": 303,
   "metadata": {},
   "outputs": [
    {
     "data": {
      "text/plain": [
       "0.75"
      ]
     },
     "execution_count": 303,
     "metadata": {},
     "output_type": "execute_result"
    }
   ],
   "source": [
    "clfLR.score(X_test_tfidf, y_test)"
   ]
  },
  {
   "cell_type": "code",
   "execution_count": 304,
   "metadata": {},
   "outputs": [
    {
     "data": {
      "text/plain": [
       "0.8518518518518519"
      ]
     },
     "execution_count": 304,
     "metadata": {},
     "output_type": "execute_result"
    }
   ],
   "source": [
    "f1_score(y_test, clfLR.predict(X_test_tfidf))"
   ]
  },
  {
   "cell_type": "code",
   "execution_count": 305,
   "metadata": {},
   "outputs": [
    {
     "data": {
      "text/plain": [
       "0.8363636363636363"
      ]
     },
     "execution_count": 305,
     "metadata": {},
     "output_type": "execute_result"
    }
   ],
   "source": [
    "f1_score(y_test, clf.predict(X_test_tfidf))"
   ]
  },
  {
   "cell_type": "markdown",
   "metadata": {},
   "source": [
    "## 1.2 Other Features"
   ]
  },
  {
   "cell_type": "code",
   "execution_count": 115,
   "metadata": {},
   "outputs": [],
   "source": [
    "X = data_comment[['Score', 'link outdated',\n",
    "       'answer outdated', 'question outdated', \n",
    "       'other reasons', 'partly outdated', 'totally outdated',\n",
    "       'is aws-related', 'keywords',\n",
    "       'point out deprecated version', 'provide alternatives',\n",
    "       'share a link', 'provide code', 'others',\n",
    "       'for question (1) / for answer (2)']]\n",
    "y = data_comment['outdated (manually checked)']"
   ]
  },
  {
   "cell_type": "code",
   "execution_count": 116,
   "metadata": {},
   "outputs": [],
   "source": [
    "X.fillna('0')\n",
    "key_word_dummies = pd.get_dummies(X.keywords, prefix='keyword_')\n",
    "aws_related_dummies = pd.get_dummies(X['is aws-related'], prefix='aws_related_')\n",
    "X = pd.concat([X, key_word_dummies], axis = 1)\n",
    "X = pd.concat([X, aws_related_dummies], axis = 1)\n",
    "X = X.drop(columns = 'keywords')\n",
    "X = X.drop(columns = 'is aws-related')"
   ]
  },
  {
   "cell_type": "code",
   "execution_count": 117,
   "metadata": {},
   "outputs": [],
   "source": [
    "X_train, X_test, y_train, y_test = train_test_split(X, y, test_size=0.2)"
   ]
  },
  {
   "cell_type": "code",
   "execution_count": 118,
   "metadata": {},
   "outputs": [],
   "source": [
    "X_train = X_train.fillna('0')\n",
    "X_test = X_test.fillna('0')"
   ]
  },
  {
   "cell_type": "code",
   "execution_count": 24,
   "metadata": {},
   "outputs": [
    {
     "data": {
      "text/plain": [
       "126"
      ]
     },
     "execution_count": 24,
     "metadata": {},
     "output_type": "execute_result"
    }
   ],
   "source": [
    "len(X_train)"
   ]
  },
  {
   "cell_type": "code",
   "execution_count": 119,
   "metadata": {},
   "outputs": [],
   "source": [
    "clf = BernoulliNB().fit(X_train, y_train)\n",
    "clfLR = LogisticRegression(C=50).fit(X_train, y_train)"
   ]
  },
  {
   "cell_type": "code",
   "execution_count": 120,
   "metadata": {},
   "outputs": [
    {
     "data": {
      "text/plain": [
       "0.78125"
      ]
     },
     "execution_count": 120,
     "metadata": {},
     "output_type": "execute_result"
    }
   ],
   "source": [
    "clf.score(X_test, y_test)"
   ]
  },
  {
   "cell_type": "code",
   "execution_count": 121,
   "metadata": {},
   "outputs": [
    {
     "data": {
      "text/plain": [
       "0.96875"
      ]
     },
     "execution_count": 121,
     "metadata": {},
     "output_type": "execute_result"
    }
   ],
   "source": [
    "clfLR.score(X_test, y_test)"
   ]
  },
  {
   "cell_type": "code",
   "execution_count": 27,
   "metadata": {},
   "outputs": [
    {
     "data": {
      "text/plain": [
       "0.8571428571428571"
      ]
     },
     "execution_count": 27,
     "metadata": {},
     "output_type": "execute_result"
    }
   ],
   "source": [
    "f1_score(y_test, clf.predict(X_test))"
   ]
  },
  {
   "cell_type": "code",
   "execution_count": 122,
   "metadata": {},
   "outputs": [
    {
     "data": {
      "text/plain": [
       "0.9777777777777777"
      ]
     },
     "execution_count": 122,
     "metadata": {},
     "output_type": "execute_result"
    }
   ],
   "source": [
    "f1_score(y_test, clfLR.predict(X_test))"
   ]
  },
  {
   "cell_type": "code",
   "execution_count": 28,
   "metadata": {},
   "outputs": [
    {
     "data": {
      "text/plain": [
       "array([False,  True, False, False, False, False,  True,  True,  True,\n",
       "        True,  True,  True,  True,  True, False,  True,  True,  True,\n",
       "       False, False, False, False,  True,  True, False, False,  True,\n",
       "       False, False,  True,  True, False])"
      ]
     },
     "execution_count": 28,
     "metadata": {},
     "output_type": "execute_result"
    }
   ],
   "source": [
    "clf.predict(X_test)"
   ]
  },
  {
   "cell_type": "code",
   "execution_count": 29,
   "metadata": {},
   "outputs": [
    {
     "data": {
      "text/plain": [
       "48     False\n",
       "65      True\n",
       "105    False\n",
       "49      True\n",
       "66     False\n",
       "152    False\n",
       "153     True\n",
       "76      True\n",
       "132     True\n",
       "135     True\n",
       "50     False\n",
       "54      True\n",
       "30      True\n",
       "147     True\n",
       "45     False\n",
       "57      True\n",
       "9       True\n",
       "34      True\n",
       "0       True\n",
       "46      True\n",
       "83     False\n",
       "148    False\n",
       "2       True\n",
       "104     True\n",
       "44     False\n",
       "3      False\n",
       "92      True\n",
       "70     False\n",
       "74     False\n",
       "56      True\n",
       "16     False\n",
       "40     False\n",
       "Name: outdated (manually checked), dtype: bool"
      ]
     },
     "execution_count": 29,
     "metadata": {},
     "output_type": "execute_result"
    }
   ],
   "source": [
    "y_test"
   ]
  },
  {
   "cell_type": "markdown",
   "metadata": {},
   "source": [
    "# 2. Answer Data"
   ]
  },
  {
   "cell_type": "code",
   "execution_count": 30,
   "metadata": {},
   "outputs": [],
   "source": [
    "data_answer = pd.read_csv('./data/AnswerTestData_1.csv', encoding=\"ISO-8859-1\")"
   ]
  },
  {
   "cell_type": "markdown",
   "metadata": {},
   "source": [
    "## 2.1 BoW"
   ]
  },
  {
   "cell_type": "code",
   "execution_count": 332,
   "metadata": {},
   "outputs": [],
   "source": [
    "#use only text as training data\n",
    "X = data_answer['Text']\n",
    "y = data_answer['outdated (manually checked)']"
   ]
  },
  {
   "cell_type": "code",
   "execution_count": 333,
   "metadata": {},
   "outputs": [],
   "source": [
    "X_train, X_test, y_train, y_test = train_test_split(X, y, test_size=0.2)"
   ]
  },
  {
   "cell_type": "code",
   "execution_count": 334,
   "metadata": {},
   "outputs": [],
   "source": [
    "X_train = X_train.fillna('fillna')\n",
    "count_vect = CountVectorizer()\n",
    "X_train_counts = count_vect.fit_transform(X_train)\n",
    "tfidf_transformer = TfidfTransformer()\n",
    "X_train_tfidf = tfidf_transformer.fit_transform(X_train_counts)"
   ]
  },
  {
   "cell_type": "code",
   "execution_count": 335,
   "metadata": {},
   "outputs": [],
   "source": [
    "clf = MultinomialNB().fit(X_train_tfidf, y_train)\n",
    "clfLR = LogisticRegression(C=50).fit(X_train_tfidf, y_train)"
   ]
  },
  {
   "cell_type": "code",
   "execution_count": 336,
   "metadata": {},
   "outputs": [],
   "source": [
    "X_test_counts = count_vect.transform(X_test)\n",
    "X_test_tfidf = tfidf_transformer.transform(X_test_counts)"
   ]
  },
  {
   "cell_type": "code",
   "execution_count": 337,
   "metadata": {},
   "outputs": [
    {
     "data": {
      "text/plain": [
       "0.75"
      ]
     },
     "execution_count": 337,
     "metadata": {},
     "output_type": "execute_result"
    }
   ],
   "source": [
    "clf.score(X_test_tfidf, y_test)"
   ]
  },
  {
   "cell_type": "code",
   "execution_count": 338,
   "metadata": {},
   "outputs": [
    {
     "data": {
      "text/plain": [
       "0.8"
      ]
     },
     "execution_count": 338,
     "metadata": {},
     "output_type": "execute_result"
    }
   ],
   "source": [
    "clfLR.score(X_test_tfidf, y_test)"
   ]
  },
  {
   "cell_type": "code",
   "execution_count": 339,
   "metadata": {},
   "outputs": [
    {
     "data": {
      "text/plain": [
       "0.8571428571428571"
      ]
     },
     "execution_count": 339,
     "metadata": {},
     "output_type": "execute_result"
    }
   ],
   "source": [
    "f1_score(y_test, clf.predict(X_test_tfidf))"
   ]
  },
  {
   "cell_type": "code",
   "execution_count": 340,
   "metadata": {},
   "outputs": [
    {
     "data": {
      "text/plain": [
       "0.8749999999999999"
      ]
     },
     "execution_count": 340,
     "metadata": {},
     "output_type": "execute_result"
    }
   ],
   "source": [
    "f1_score(y_test, clfLR.predict(X_test_tfidf))"
   ]
  },
  {
   "cell_type": "markdown",
   "metadata": {},
   "source": [
    "## 2.2 Other Features"
   ]
  },
  {
   "cell_type": "code",
   "execution_count": 38,
   "metadata": {},
   "outputs": [
    {
     "data": {
      "text/plain": [
       "Index(['Unnamed: 0', 'Id', 'PostId', 'link', 'outdated (manually checked)',\n",
       "       'description', 'link outdated', 'answer outdated',\n",
       "       'service in question outdated', 'other reasons', 'partly outdated',\n",
       "       'totally outdated', 'is aws-related', 'related service', 'keywords',\n",
       "       'phrases', 'strucutures', 'point out deprecated version',\n",
       "       'provide alternatives', 'share a link', 'provide code', 'others',\n",
       "       'Text'],\n",
       "      dtype='object')"
      ]
     },
     "execution_count": 38,
     "metadata": {},
     "output_type": "execute_result"
    }
   ],
   "source": [
    "data_answer.columns"
   ]
  },
  {
   "cell_type": "code",
   "execution_count": 39,
   "metadata": {},
   "outputs": [],
   "source": [
    "X = data_answer[['link outdated',\n",
    "       'answer outdated', 'service in question outdated', 'other reasons',\n",
    "       'partly outdated', 'totally outdated', 'is aws-related',\n",
    "       'keywords', \n",
    "       'point out deprecated version', 'provide alternatives', 'share a link',\n",
    "       'provide code', 'others']]\n",
    "y = data_answer['outdated (manually checked)']"
   ]
  },
  {
   "cell_type": "code",
   "execution_count": 40,
   "metadata": {},
   "outputs": [],
   "source": [
    "X.fillna('0')\n",
    "key_word_dummies = pd.get_dummies(X.keywords, prefix='keyword_')\n",
    "aws_related_dummies = pd.get_dummies(X['is aws-related'], prefix='aws_related_')\n",
    "X = pd.concat([X, key_word_dummies], axis = 1)\n",
    "X = pd.concat([X, aws_related_dummies], axis = 1)\n",
    "X = X.drop(columns = 'keywords')\n",
    "X = X.drop(columns = 'is aws-related')"
   ]
  },
  {
   "cell_type": "code",
   "execution_count": 41,
   "metadata": {},
   "outputs": [],
   "source": [
    "X_train, X_test, y_train, y_test = train_test_split(X, y, test_size=0.2)"
   ]
  },
  {
   "cell_type": "code",
   "execution_count": 42,
   "metadata": {},
   "outputs": [],
   "source": [
    "X_train = X_train.fillna('0')\n",
    "X_test = X_test.fillna('0')"
   ]
  },
  {
   "cell_type": "code",
   "execution_count": 43,
   "metadata": {},
   "outputs": [],
   "source": [
    "clf = BernoulliNB().fit(X_train, y_train)"
   ]
  },
  {
   "cell_type": "code",
   "execution_count": 44,
   "metadata": {},
   "outputs": [
    {
     "data": {
      "text/plain": [
       "0.85"
      ]
     },
     "execution_count": 44,
     "metadata": {},
     "output_type": "execute_result"
    }
   ],
   "source": [
    "clf.score(X_test, y_test)"
   ]
  },
  {
   "cell_type": "code",
   "execution_count": 45,
   "metadata": {},
   "outputs": [
    {
     "data": {
      "text/plain": [
       "0.896551724137931"
      ]
     },
     "execution_count": 45,
     "metadata": {},
     "output_type": "execute_result"
    }
   ],
   "source": [
    "f1_score(y_test, clf.predict(X_test))"
   ]
  },
  {
   "cell_type": "markdown",
   "metadata": {},
   "source": [
    "# 3. Combined Data (Comment&Answer)"
   ]
  },
  {
   "cell_type": "code",
   "execution_count": 46,
   "metadata": {},
   "outputs": [
    {
     "data": {
      "text/plain": [
       "Index(['Id', 'PostId', 'Score', 'Text', 'CreationDate', 'UserId', 'link',\n",
       "       'outdated (manually checked)', 'link outdated', 'answer outdated',\n",
       "       'question outdated', 'already outdated when posted', 'other reasons',\n",
       "       'partly outdated', 'totally outdated', 'is aws-related',\n",
       "       'related service', 'keywords', 'point out deprecated version',\n",
       "       'provide alternatives', 'share a link', 'provide code', 'others',\n",
       "       'for question (1) / for answer (2)'],\n",
       "      dtype='object')"
      ]
     },
     "execution_count": 46,
     "metadata": {},
     "output_type": "execute_result"
    }
   ],
   "source": [
    "data_comment.columns"
   ]
  },
  {
   "cell_type": "code",
   "execution_count": 47,
   "metadata": {},
   "outputs": [
    {
     "data": {
      "text/plain": [
       "Index(['Unnamed: 0', 'Id', 'PostId', 'link', 'outdated (manually checked)',\n",
       "       'description', 'link outdated', 'answer outdated',\n",
       "       'service in question outdated', 'other reasons', 'partly outdated',\n",
       "       'totally outdated', 'is aws-related', 'related service', 'keywords',\n",
       "       'phrases', 'strucutures', 'point out deprecated version',\n",
       "       'provide alternatives', 'share a link', 'provide code', 'others',\n",
       "       'Text'],\n",
       "      dtype='object')"
      ]
     },
     "execution_count": 47,
     "metadata": {},
     "output_type": "execute_result"
    }
   ],
   "source": [
    "data_answer.columns"
   ]
  },
  {
   "cell_type": "code",
   "execution_count": 48,
   "metadata": {},
   "outputs": [],
   "source": [
    "data_comment['is_comment'] = 1\n",
    "data_answer['is_comment'] = 0"
   ]
  },
  {
   "cell_type": "code",
   "execution_count": 49,
   "metadata": {},
   "outputs": [],
   "source": [
    "data = pd.concat([data_comment, data_answer], axis = 0, join = 'inner')"
   ]
  },
  {
   "cell_type": "code",
   "execution_count": 50,
   "metadata": {},
   "outputs": [
    {
     "data": {
      "text/plain": [
       "258"
      ]
     },
     "execution_count": 50,
     "metadata": {},
     "output_type": "execute_result"
    }
   ],
   "source": [
    "len(data)"
   ]
  },
  {
   "cell_type": "code",
   "execution_count": 51,
   "metadata": {},
   "outputs": [
    {
     "data": {
      "text/plain": [
       "Index(['Id', 'PostId', 'Text', 'link', 'outdated (manually checked)',\n",
       "       'link outdated', 'answer outdated', 'other reasons', 'partly outdated',\n",
       "       'totally outdated', 'is aws-related', 'related service', 'keywords',\n",
       "       'point out deprecated version', 'provide alternatives', 'share a link',\n",
       "       'provide code', 'others', 'is_comment'],\n",
       "      dtype='object')"
      ]
     },
     "execution_count": 51,
     "metadata": {},
     "output_type": "execute_result"
    }
   ],
   "source": [
    "data.columns"
   ]
  },
  {
   "cell_type": "markdown",
   "metadata": {},
   "source": [
    "## 3.1 BoW"
   ]
  },
  {
   "cell_type": "code",
   "execution_count": 341,
   "metadata": {},
   "outputs": [],
   "source": [
    "#use only text as training data\n",
    "X = data['Text']\n",
    "y = data['outdated (manually checked)']"
   ]
  },
  {
   "cell_type": "code",
   "execution_count": 342,
   "metadata": {},
   "outputs": [],
   "source": [
    "X_train, X_test, y_train, y_test = train_test_split(X, y, test_size=0.1)"
   ]
  },
  {
   "cell_type": "code",
   "execution_count": 343,
   "metadata": {},
   "outputs": [],
   "source": [
    "X_train = X_train.fillna('fillna')\n",
    "count_vect = CountVectorizer()\n",
    "X_train_counts = count_vect.fit_transform(X_train)\n",
    "tfidf_transformer = TfidfTransformer()\n",
    "X_train_tfidf = tfidf_transformer.fit_transform(X_train_counts)"
   ]
  },
  {
   "cell_type": "code",
   "execution_count": 55,
   "metadata": {},
   "outputs": [
    {
     "data": {
      "text/plain": [
       "232"
      ]
     },
     "execution_count": 55,
     "metadata": {},
     "output_type": "execute_result"
    }
   ],
   "source": [
    "len(X_train)"
   ]
  },
  {
   "cell_type": "code",
   "execution_count": 344,
   "metadata": {},
   "outputs": [],
   "source": [
    "clf = MultinomialNB().fit(X_train_tfidf, y_train)\n",
    "clfLR = LogisticRegression(C=50).fit(X_train_tfidf, y_train)"
   ]
  },
  {
   "cell_type": "code",
   "execution_count": 345,
   "metadata": {},
   "outputs": [],
   "source": [
    "X_test_counts = count_vect.transform(X_test)\n",
    "X_test_tfidf = tfidf_transformer.transform(X_test_counts)"
   ]
  },
  {
   "cell_type": "code",
   "execution_count": 346,
   "metadata": {},
   "outputs": [
    {
     "data": {
      "text/plain": [
       "0.7692307692307693"
      ]
     },
     "execution_count": 346,
     "metadata": {},
     "output_type": "execute_result"
    }
   ],
   "source": [
    "clf.score(X_test_tfidf, y_test)"
   ]
  },
  {
   "cell_type": "code",
   "execution_count": 347,
   "metadata": {},
   "outputs": [
    {
     "data": {
      "text/plain": [
       "0.6153846153846154"
      ]
     },
     "execution_count": 347,
     "metadata": {},
     "output_type": "execute_result"
    }
   ],
   "source": [
    "clfLR.score(X_test_tfidf, y_test)"
   ]
  },
  {
   "cell_type": "code",
   "execution_count": 348,
   "metadata": {},
   "outputs": [
    {
     "data": {
      "text/plain": [
       "0.8695652173913044"
      ]
     },
     "execution_count": 348,
     "metadata": {},
     "output_type": "execute_result"
    }
   ],
   "source": [
    "f1_score(y_test, clf.predict(X_test_tfidf))"
   ]
  },
  {
   "cell_type": "code",
   "execution_count": 349,
   "metadata": {},
   "outputs": [
    {
     "data": {
      "text/plain": [
       "0.761904761904762"
      ]
     },
     "execution_count": 349,
     "metadata": {},
     "output_type": "execute_result"
    }
   ],
   "source": [
    "f1_score(y_test, clfLR.predict(X_test_tfidf))"
   ]
  },
  {
   "cell_type": "markdown",
   "metadata": {},
   "source": [
    "## 3.2 Other Features"
   ]
  },
  {
   "cell_type": "code",
   "execution_count": 60,
   "metadata": {},
   "outputs": [],
   "source": [
    "X = data[['link outdated',\n",
    "       'answer outdated', 'other reasons', 'partly outdated',\n",
    "       'totally outdated', 'is aws-related', 'keywords',\n",
    "       'point out deprecated version', 'provide alternatives', 'share a link',\n",
    "       'provide code', 'others', 'is_comment']]\n",
    "y = data['outdated (manually checked)']"
   ]
  },
  {
   "cell_type": "code",
   "execution_count": 61,
   "metadata": {},
   "outputs": [],
   "source": [
    "X.fillna('0')\n",
    "key_word_dummies = pd.get_dummies(X.keywords, prefix='keyword_')\n",
    "aws_related_dummies = pd.get_dummies(X['is aws-related'], prefix='aws_related_')\n",
    "X = pd.concat([X, key_word_dummies], axis = 1)\n",
    "X = pd.concat([X, aws_related_dummies], axis = 1)\n",
    "X = X.drop(columns = 'keywords')\n",
    "X = X.drop(columns = 'is aws-related')"
   ]
  },
  {
   "cell_type": "code",
   "execution_count": 62,
   "metadata": {},
   "outputs": [],
   "source": [
    "X_train, X_test, y_train, y_test = train_test_split(X, y, test_size=0.2)"
   ]
  },
  {
   "cell_type": "code",
   "execution_count": 63,
   "metadata": {},
   "outputs": [],
   "source": [
    "X_train = X_train.fillna('0')\n",
    "X_test = X_test.fillna('0')"
   ]
  },
  {
   "cell_type": "code",
   "execution_count": 64,
   "metadata": {},
   "outputs": [],
   "source": [
    "clf = BernoulliNB().fit(X_train, y_train)"
   ]
  },
  {
   "cell_type": "code",
   "execution_count": 65,
   "metadata": {},
   "outputs": [
    {
     "data": {
      "text/plain": [
       "0.8653846153846154"
      ]
     },
     "execution_count": 65,
     "metadata": {},
     "output_type": "execute_result"
    }
   ],
   "source": [
    "clf.score(X_test, y_test)"
   ]
  },
  {
   "cell_type": "code",
   "execution_count": 66,
   "metadata": {},
   "outputs": [
    {
     "data": {
      "text/plain": [
       "0.9014084507042254"
      ]
     },
     "execution_count": 66,
     "metadata": {},
     "output_type": "execute_result"
    }
   ],
   "source": [
    "f1_score(y_test, clf.predict(X_test))"
   ]
  },
  {
   "cell_type": "markdown",
   "metadata": {},
   "source": [
    "## 3.3 Predictions on Other Data (Answer)"
   ]
  },
  {
   "cell_type": "code",
   "execution_count": 135,
   "metadata": {},
   "outputs": [],
   "source": [
    "answer_data = pd.read_csv('./data/stackoverflow_amazon_a_outdated.csv', encoding=\"ISO-8859-1\")\n",
    "answer_test_data = pd.read_csv('./data/AnswerTestData_1.csv', encoding=\"ISO-8859-1\")"
   ]
  },
  {
   "cell_type": "code",
   "execution_count": 136,
   "metadata": {},
   "outputs": [],
   "source": [
    "row_indices = []\n",
    "for i in range(len(answer_data)):\n",
    "    for j in range(len(answer_test_data)):\n",
    "        if answer_data.iloc[i]['Id'] == answer_test_data.iloc[j]['Id']:\n",
    "            row_indices.append(i)"
   ]
  },
  {
   "cell_type": "code",
   "execution_count": 137,
   "metadata": {},
   "outputs": [],
   "source": [
    "answer_predict_data = answer_data.drop(row_indices)"
   ]
  },
  {
   "cell_type": "code",
   "execution_count": 138,
   "metadata": {},
   "outputs": [
    {
     "data": {
      "text/plain": [
       "807"
      ]
     },
     "execution_count": 138,
     "metadata": {},
     "output_type": "execute_result"
    }
   ],
   "source": [
    "len(answer_predict_data)"
   ]
  },
  {
   "cell_type": "code",
   "execution_count": 328,
   "metadata": {},
   "outputs": [],
   "source": [
    "#use only text as training data\n",
    "X = data['Text']\n",
    "y = data['outdated (manually checked)']\n",
    "\n",
    "predictions = []\n",
    "for i in range(5):\n",
    "    X_train, X_test, y_train, y_test = train_test_split(X, y, test_size=1)\n",
    "    X_train = X_train.fillna('fillna')\n",
    "    count_vect = CountVectorizer()\n",
    "    X_train_counts = count_vect.fit_transform(X_train)\n",
    "    tfidf_transformer = TfidfTransformer()\n",
    "    X_train_tfidf = tfidf_transformer.fit_transform(X_train_counts)\n",
    "\n",
    "    clf = LogisticRegression(C=50).fit(X_train_tfidf, y_train)\n",
    "\n",
    "    X_test = answer_predict_data['Body']\n",
    "    X_test_counts = count_vect.transform(X_test)\n",
    "    X_test_tfidf = tfidf_transformer.transform(X_test_counts)\n",
    "\n",
    "    prediction = clf.predict(X_test_tfidf)\n",
    "    predictions.append(prediction)"
   ]
  },
  {
   "cell_type": "code",
   "execution_count": 329,
   "metadata": {},
   "outputs": [],
   "source": [
    "counts = np.sum(predictions, axis = 0)"
   ]
  },
  {
   "cell_type": "code",
   "execution_count": 330,
   "metadata": {},
   "outputs": [],
   "source": [
    "for i in range(len(counts)):\n",
    "    if counts[i] == 5:\n",
    "        prediction[i] = True\n",
    "    else:\n",
    "        prediction[i] = False"
   ]
  },
  {
   "cell_type": "code",
   "execution_count": 331,
   "metadata": {},
   "outputs": [
    {
     "data": {
      "text/plain": [
       "{False: 190, True: 617}"
      ]
     },
     "execution_count": 331,
     "metadata": {},
     "output_type": "execute_result"
    }
   ],
   "source": [
    "unique, counts = np.unique(prediction, return_counts=True)\n",
    "dict(zip(unique, counts))"
   ]
  },
  {
   "cell_type": "code",
   "execution_count": 320,
   "metadata": {},
   "outputs": [
    {
     "data": {
      "text/plain": [
       "True     67\n",
       "False    33\n",
       "Name: outdated (manually checked), dtype: int64"
      ]
     },
     "execution_count": 320,
     "metadata": {},
     "output_type": "execute_result"
    }
   ],
   "source": [
    "answer_test_data['outdated (manually checked)'].value_counts()"
   ]
  },
  {
   "cell_type": "code",
   "execution_count": 321,
   "metadata": {},
   "outputs": [
    {
     "data": {
      "text/plain": [
       "True     177\n",
       "False     81\n",
       "Name: outdated (manually checked), dtype: int64"
      ]
     },
     "execution_count": 321,
     "metadata": {},
     "output_type": "execute_result"
    }
   ],
   "source": [
    "data['outdated (manually checked)'].value_counts()"
   ]
  },
  {
   "cell_type": "code",
   "execution_count": 219,
   "metadata": {},
   "outputs": [],
   "source": [
    "answer_predict_data['prediction'] = prediction"
   ]
  },
  {
   "cell_type": "code",
   "execution_count": 220,
   "metadata": {},
   "outputs": [
    {
     "data": {
      "text/html": [
       "<div>\n",
       "<style scoped>\n",
       "    .dataframe tbody tr th:only-of-type {\n",
       "        vertical-align: middle;\n",
       "    }\n",
       "\n",
       "    .dataframe tbody tr th {\n",
       "        vertical-align: top;\n",
       "    }\n",
       "\n",
       "    .dataframe thead th {\n",
       "        text-align: right;\n",
       "    }\n",
       "</style>\n",
       "<table border=\"1\" class=\"dataframe\">\n",
       "  <thead>\n",
       "    <tr style=\"text-align: right;\">\n",
       "      <th></th>\n",
       "      <th>Id</th>\n",
       "      <th>PostTypeId</th>\n",
       "      <th>ParentId</th>\n",
       "      <th>CreationDate</th>\n",
       "      <th>Score</th>\n",
       "      <th>Body</th>\n",
       "      <th>OwnerUserId</th>\n",
       "      <th>LastEditorUserId</th>\n",
       "      <th>LastEditDate</th>\n",
       "      <th>LastActivityDate</th>\n",
       "      <th>CommentCount</th>\n",
       "      <th>ContentLicense</th>\n",
       "      <th>OwnerDisplayName</th>\n",
       "      <th>CommunityOwnedDate</th>\n",
       "      <th>Unnamed: 14</th>\n",
       "      <th>link</th>\n",
       "      <th>prediction</th>\n",
       "    </tr>\n",
       "  </thead>\n",
       "  <tbody>\n",
       "    <tr>\n",
       "      <td>30</td>\n",
       "      <td>9076551</td>\n",
       "      <td>2</td>\n",
       "      <td>9069447</td>\n",
       "      <td>2012-01-31T08:33:18.883</td>\n",
       "      <td>9</td>\n",
       "      <td>&lt;p&gt;Given your constraints, the desired functio...</td>\n",
       "      <td>45773.0</td>\n",
       "      <td>-1.0</td>\n",
       "      <td>2017-05-23T11:53:17.133</td>\n",
       "      <td>2013-11-08T13:41:50.727</td>\n",
       "      <td>1</td>\n",
       "      <td>CC BY-SA 3.0</td>\n",
       "      <td>NaN</td>\n",
       "      <td>NaN</td>\n",
       "      <td>NaN</td>\n",
       "      <td>https://stackoverflow.com/questions/9076551</td>\n",
       "      <td>True</td>\n",
       "    </tr>\n",
       "    <tr>\n",
       "      <td>31</td>\n",
       "      <td>9179801</td>\n",
       "      <td>2</td>\n",
       "      <td>7487292</td>\n",
       "      <td>2012-02-07T16:20:03.357</td>\n",
       "      <td>4</td>\n",
       "      <td>&lt;p&gt;Note that according to Amazon, at &lt;a href=\"...</td>\n",
       "      <td>98694.0</td>\n",
       "      <td>NaN</td>\n",
       "      <td>NaN</td>\n",
       "      <td>2012-02-07T16:20:03.357</td>\n",
       "      <td>0</td>\n",
       "      <td>CC BY-SA 3.0</td>\n",
       "      <td>NaN</td>\n",
       "      <td>NaN</td>\n",
       "      <td>NaN</td>\n",
       "      <td>https://stackoverflow.com/questions/9179801</td>\n",
       "      <td>True</td>\n",
       "    </tr>\n",
       "    <tr>\n",
       "      <td>32</td>\n",
       "      <td>9440295</td>\n",
       "      <td>2</td>\n",
       "      <td>9280539</td>\n",
       "      <td>2012-02-25T01:30:14.873</td>\n",
       "      <td>0</td>\n",
       "      <td>&lt;p&gt;I'd like to note that AWS is deprecated whe...</td>\n",
       "      <td>526849.0</td>\n",
       "      <td>NaN</td>\n",
       "      <td>NaN</td>\n",
       "      <td>2012-02-25T01:30:14.873</td>\n",
       "      <td>0</td>\n",
       "      <td>CC BY-SA 3.0</td>\n",
       "      <td>NaN</td>\n",
       "      <td>NaN</td>\n",
       "      <td>NaN</td>\n",
       "      <td>https://stackoverflow.com/questions/9440295</td>\n",
       "      <td>True</td>\n",
       "    </tr>\n",
       "    <tr>\n",
       "      <td>34</td>\n",
       "      <td>9560483</td>\n",
       "      <td>2</td>\n",
       "      <td>9559973</td>\n",
       "      <td>2012-03-05T01:06:55.170</td>\n",
       "      <td>1</td>\n",
       "      <td>&lt;blockquote&gt;\\r  &lt;p&gt;Is there a way to expand it...</td>\n",
       "      <td>45773.0</td>\n",
       "      <td>NaN</td>\n",
       "      <td>NaN</td>\n",
       "      <td>2012-03-05T01:06:55.170</td>\n",
       "      <td>3</td>\n",
       "      <td>CC BY-SA 3.0</td>\n",
       "      <td>NaN</td>\n",
       "      <td>NaN</td>\n",
       "      <td>NaN</td>\n",
       "      <td>https://stackoverflow.com/questions/9560483</td>\n",
       "      <td>False</td>\n",
       "    </tr>\n",
       "    <tr>\n",
       "      <td>35</td>\n",
       "      <td>9638670</td>\n",
       "      <td>2</td>\n",
       "      <td>9506791</td>\n",
       "      <td>2012-03-09T17:50:46.747</td>\n",
       "      <td>1</td>\n",
       "      <td>&lt;p&gt;i would say API documentation is outdated:&lt;...</td>\n",
       "      <td>1246870.0</td>\n",
       "      <td>NaN</td>\n",
       "      <td>NaN</td>\n",
       "      <td>2012-03-09T17:50:46.747</td>\n",
       "      <td>2</td>\n",
       "      <td>CC BY-SA 3.0</td>\n",
       "      <td>NaN</td>\n",
       "      <td>NaN</td>\n",
       "      <td>NaN</td>\n",
       "      <td>https://stackoverflow.com/questions/9638670</td>\n",
       "      <td>True</td>\n",
       "    </tr>\n",
       "  </tbody>\n",
       "</table>\n",
       "</div>"
      ],
      "text/plain": [
       "         Id  PostTypeId  ParentId             CreationDate  Score  \\\n",
       "30  9076551           2   9069447  2012-01-31T08:33:18.883      9   \n",
       "31  9179801           2   7487292  2012-02-07T16:20:03.357      4   \n",
       "32  9440295           2   9280539  2012-02-25T01:30:14.873      0   \n",
       "34  9560483           2   9559973  2012-03-05T01:06:55.170      1   \n",
       "35  9638670           2   9506791  2012-03-09T17:50:46.747      1   \n",
       "\n",
       "                                                 Body  OwnerUserId  \\\n",
       "30  <p>Given your constraints, the desired functio...      45773.0   \n",
       "31  <p>Note that according to Amazon, at <a href=\"...      98694.0   \n",
       "32  <p>I'd like to note that AWS is deprecated whe...     526849.0   \n",
       "34  <blockquote>\\r  <p>Is there a way to expand it...      45773.0   \n",
       "35  <p>i would say API documentation is outdated:<...    1246870.0   \n",
       "\n",
       "    LastEditorUserId             LastEditDate         LastActivityDate  \\\n",
       "30              -1.0  2017-05-23T11:53:17.133  2013-11-08T13:41:50.727   \n",
       "31               NaN                      NaN  2012-02-07T16:20:03.357   \n",
       "32               NaN                      NaN  2012-02-25T01:30:14.873   \n",
       "34               NaN                      NaN  2012-03-05T01:06:55.170   \n",
       "35               NaN                      NaN  2012-03-09T17:50:46.747   \n",
       "\n",
       "    CommentCount ContentLicense OwnerDisplayName CommunityOwnedDate  \\\n",
       "30             1   CC BY-SA 3.0              NaN                NaN   \n",
       "31             0   CC BY-SA 3.0              NaN                NaN   \n",
       "32             0   CC BY-SA 3.0              NaN                NaN   \n",
       "34             3   CC BY-SA 3.0              NaN                NaN   \n",
       "35             2   CC BY-SA 3.0              NaN                NaN   \n",
       "\n",
       "    Unnamed: 14                                         link  prediction  \n",
       "30          NaN  https://stackoverflow.com/questions/9076551        True  \n",
       "31          NaN  https://stackoverflow.com/questions/9179801        True  \n",
       "32          NaN  https://stackoverflow.com/questions/9440295        True  \n",
       "34          NaN  https://stackoverflow.com/questions/9560483       False  \n",
       "35          NaN  https://stackoverflow.com/questions/9638670        True  "
      ]
     },
     "execution_count": 220,
     "metadata": {},
     "output_type": "execute_result"
    }
   ],
   "source": [
    "answer_predict_data.head()"
   ]
  },
  {
   "cell_type": "code",
   "execution_count": 221,
   "metadata": {},
   "outputs": [],
   "source": [
    "answer_predict_data.to_csv('./data/answer_prediction_by_model.csv')"
   ]
  },
  {
   "cell_type": "markdown",
   "metadata": {},
   "source": [
    "## 3.4 Predictions on Other Data (Comment)"
   ]
  },
  {
   "cell_type": "code",
   "execution_count": 267,
   "metadata": {},
   "outputs": [],
   "source": [
    "answer_comment_data = pd.read_csv('./data/stackoverflow_amazon_a_comment_outdated.csv', encoding=\"ISO-8859-1\")\n",
    "question_comment_data = pd.read_csv('./data/stackoverflow_amazon_q_comment_outdated.csv', encoding=\"ISO-8859-1\")\n",
    "comment_test_data = pd.read_csv('./data/commentTestData.csv',error_bad_lines=False, sep='\\t')"
   ]
  },
  {
   "cell_type": "code",
   "execution_count": 268,
   "metadata": {},
   "outputs": [],
   "source": [
    "comment_data = pd.concat([answer_comment_data, question_comment_data], axis = 0)\n",
    "comment_test_data = data_comment"
   ]
  },
  {
   "cell_type": "code",
   "execution_count": 254,
   "metadata": {},
   "outputs": [
    {
     "data": {
      "text/plain": [
       "Index(['Id', 'PostId', 'Score', 'Text', 'CreationDate', 'UserId', 'link',\n",
       "       'Unnamed: 7', 'Unnamed: 8', 'Unnamed: 9', 'Unnamed: 10', 'Unnamed: 11',\n",
       "       'ContentLicense'],\n",
       "      dtype='object')"
      ]
     },
     "execution_count": 254,
     "metadata": {},
     "output_type": "execute_result"
    }
   ],
   "source": [
    "comment_data.columns"
   ]
  },
  {
   "cell_type": "code",
   "execution_count": 269,
   "metadata": {},
   "outputs": [],
   "source": [
    "comment_data = comment_data.drop(columns = ['Unnamed: 7', 'Unnamed: 8', 'Unnamed: 9', 'Unnamed: 10', 'Unnamed: 11'])\n",
    "comment_predict_data = comment_data"
   ]
  },
  {
   "cell_type": "code",
   "execution_count": 270,
   "metadata": {},
   "outputs": [
    {
     "ename": "KeyError",
     "evalue": "'[561] not found in axis'",
     "output_type": "error",
     "traceback": [
      "\u001b[0;31m---------------------------------------------------------------------------\u001b[0m",
      "\u001b[0;31mKeyError\u001b[0m                                  Traceback (most recent call last)",
      "\u001b[0;32m<ipython-input-270-3d463cf6e667>\u001b[0m in \u001b[0;36m<module>\u001b[0;34m\u001b[0m\n\u001b[1;32m      3\u001b[0m     \u001b[0;32mfor\u001b[0m \u001b[0mj\u001b[0m \u001b[0;32min\u001b[0m \u001b[0mrange\u001b[0m\u001b[0;34m(\u001b[0m\u001b[0mlen\u001b[0m\u001b[0;34m(\u001b[0m\u001b[0mcomment_test_data\u001b[0m\u001b[0;34m)\u001b[0m\u001b[0;34m)\u001b[0m\u001b[0;34m:\u001b[0m\u001b[0;34m\u001b[0m\u001b[0;34m\u001b[0m\u001b[0m\n\u001b[1;32m      4\u001b[0m         \u001b[0;32mif\u001b[0m \u001b[0mcomment_data\u001b[0m\u001b[0;34m.\u001b[0m\u001b[0miloc\u001b[0m\u001b[0;34m[\u001b[0m\u001b[0mi\u001b[0m\u001b[0;34m]\u001b[0m\u001b[0;34m[\u001b[0m\u001b[0;34m'Id'\u001b[0m\u001b[0;34m]\u001b[0m \u001b[0;34m==\u001b[0m \u001b[0mcomment_test_data\u001b[0m\u001b[0;34m.\u001b[0m\u001b[0miloc\u001b[0m\u001b[0;34m[\u001b[0m\u001b[0mj\u001b[0m\u001b[0;34m]\u001b[0m\u001b[0;34m[\u001b[0m\u001b[0;34m'Id'\u001b[0m\u001b[0;34m]\u001b[0m\u001b[0;34m:\u001b[0m\u001b[0;34m\u001b[0m\u001b[0;34m\u001b[0m\u001b[0m\n\u001b[0;32m----> 5\u001b[0;31m             \u001b[0mcomment_predict_data\u001b[0m \u001b[0;34m=\u001b[0m \u001b[0mcomment_predict_data\u001b[0m\u001b[0;34m.\u001b[0m\u001b[0mdrop\u001b[0m\u001b[0;34m(\u001b[0m\u001b[0mi\u001b[0m\u001b[0;34m)\u001b[0m\u001b[0;34m\u001b[0m\u001b[0;34m\u001b[0m\u001b[0m\n\u001b[0m\u001b[1;32m      6\u001b[0m             \u001b[0mrow_indices\u001b[0m\u001b[0;34m.\u001b[0m\u001b[0mappend\u001b[0m\u001b[0;34m(\u001b[0m\u001b[0mi\u001b[0m\u001b[0;34m)\u001b[0m\u001b[0;34m\u001b[0m\u001b[0;34m\u001b[0m\u001b[0m\n",
      "\u001b[0;32m~/anaconda3/lib/python3.7/site-packages/pandas/core/frame.py\u001b[0m in \u001b[0;36mdrop\u001b[0;34m(self, labels, axis, index, columns, level, inplace, errors)\u001b[0m\n\u001b[1;32m   4100\u001b[0m             \u001b[0mlevel\u001b[0m\u001b[0;34m=\u001b[0m\u001b[0mlevel\u001b[0m\u001b[0;34m,\u001b[0m\u001b[0;34m\u001b[0m\u001b[0;34m\u001b[0m\u001b[0m\n\u001b[1;32m   4101\u001b[0m             \u001b[0minplace\u001b[0m\u001b[0;34m=\u001b[0m\u001b[0minplace\u001b[0m\u001b[0;34m,\u001b[0m\u001b[0;34m\u001b[0m\u001b[0;34m\u001b[0m\u001b[0m\n\u001b[0;32m-> 4102\u001b[0;31m             \u001b[0merrors\u001b[0m\u001b[0;34m=\u001b[0m\u001b[0merrors\u001b[0m\u001b[0;34m,\u001b[0m\u001b[0;34m\u001b[0m\u001b[0;34m\u001b[0m\u001b[0m\n\u001b[0m\u001b[1;32m   4103\u001b[0m         )\n\u001b[1;32m   4104\u001b[0m \u001b[0;34m\u001b[0m\u001b[0m\n",
      "\u001b[0;32m~/anaconda3/lib/python3.7/site-packages/pandas/core/generic.py\u001b[0m in \u001b[0;36mdrop\u001b[0;34m(self, labels, axis, index, columns, level, inplace, errors)\u001b[0m\n\u001b[1;32m   3912\u001b[0m         \u001b[0;32mfor\u001b[0m \u001b[0maxis\u001b[0m\u001b[0;34m,\u001b[0m \u001b[0mlabels\u001b[0m \u001b[0;32min\u001b[0m \u001b[0maxes\u001b[0m\u001b[0;34m.\u001b[0m\u001b[0mitems\u001b[0m\u001b[0;34m(\u001b[0m\u001b[0;34m)\u001b[0m\u001b[0;34m:\u001b[0m\u001b[0;34m\u001b[0m\u001b[0;34m\u001b[0m\u001b[0m\n\u001b[1;32m   3913\u001b[0m             \u001b[0;32mif\u001b[0m \u001b[0mlabels\u001b[0m \u001b[0;32mis\u001b[0m \u001b[0;32mnot\u001b[0m \u001b[0;32mNone\u001b[0m\u001b[0;34m:\u001b[0m\u001b[0;34m\u001b[0m\u001b[0;34m\u001b[0m\u001b[0m\n\u001b[0;32m-> 3914\u001b[0;31m                 \u001b[0mobj\u001b[0m \u001b[0;34m=\u001b[0m \u001b[0mobj\u001b[0m\u001b[0;34m.\u001b[0m\u001b[0m_drop_axis\u001b[0m\u001b[0;34m(\u001b[0m\u001b[0mlabels\u001b[0m\u001b[0;34m,\u001b[0m \u001b[0maxis\u001b[0m\u001b[0;34m,\u001b[0m \u001b[0mlevel\u001b[0m\u001b[0;34m=\u001b[0m\u001b[0mlevel\u001b[0m\u001b[0;34m,\u001b[0m \u001b[0merrors\u001b[0m\u001b[0;34m=\u001b[0m\u001b[0merrors\u001b[0m\u001b[0;34m)\u001b[0m\u001b[0;34m\u001b[0m\u001b[0;34m\u001b[0m\u001b[0m\n\u001b[0m\u001b[1;32m   3915\u001b[0m \u001b[0;34m\u001b[0m\u001b[0m\n\u001b[1;32m   3916\u001b[0m         \u001b[0;32mif\u001b[0m \u001b[0minplace\u001b[0m\u001b[0;34m:\u001b[0m\u001b[0;34m\u001b[0m\u001b[0;34m\u001b[0m\u001b[0m\n",
      "\u001b[0;32m~/anaconda3/lib/python3.7/site-packages/pandas/core/generic.py\u001b[0m in \u001b[0;36m_drop_axis\u001b[0;34m(self, labels, axis, level, errors)\u001b[0m\n\u001b[1;32m   3963\u001b[0m                 \u001b[0mlabels_missing\u001b[0m \u001b[0;34m=\u001b[0m \u001b[0;34m(\u001b[0m\u001b[0maxis\u001b[0m\u001b[0;34m.\u001b[0m\u001b[0mget_indexer_for\u001b[0m\u001b[0;34m(\u001b[0m\u001b[0mlabels\u001b[0m\u001b[0;34m)\u001b[0m \u001b[0;34m==\u001b[0m \u001b[0;34m-\u001b[0m\u001b[0;36m1\u001b[0m\u001b[0;34m)\u001b[0m\u001b[0;34m.\u001b[0m\u001b[0many\u001b[0m\u001b[0;34m(\u001b[0m\u001b[0;34m)\u001b[0m\u001b[0;34m\u001b[0m\u001b[0;34m\u001b[0m\u001b[0m\n\u001b[1;32m   3964\u001b[0m                 \u001b[0;32mif\u001b[0m \u001b[0merrors\u001b[0m \u001b[0;34m==\u001b[0m \u001b[0;34m\"raise\"\u001b[0m \u001b[0;32mand\u001b[0m \u001b[0mlabels_missing\u001b[0m\u001b[0;34m:\u001b[0m\u001b[0;34m\u001b[0m\u001b[0;34m\u001b[0m\u001b[0m\n\u001b[0;32m-> 3965\u001b[0;31m                     \u001b[0;32mraise\u001b[0m \u001b[0mKeyError\u001b[0m\u001b[0;34m(\u001b[0m\u001b[0;34m\"{} not found in axis\"\u001b[0m\u001b[0;34m.\u001b[0m\u001b[0mformat\u001b[0m\u001b[0;34m(\u001b[0m\u001b[0mlabels\u001b[0m\u001b[0;34m)\u001b[0m\u001b[0;34m)\u001b[0m\u001b[0;34m\u001b[0m\u001b[0;34m\u001b[0m\u001b[0m\n\u001b[0m\u001b[1;32m   3966\u001b[0m \u001b[0;34m\u001b[0m\u001b[0m\n\u001b[1;32m   3967\u001b[0m             \u001b[0mslicer\u001b[0m \u001b[0;34m=\u001b[0m \u001b[0;34m[\u001b[0m\u001b[0mslice\u001b[0m\u001b[0;34m(\u001b[0m\u001b[0;32mNone\u001b[0m\u001b[0;34m)\u001b[0m\u001b[0;34m]\u001b[0m \u001b[0;34m*\u001b[0m \u001b[0mself\u001b[0m\u001b[0;34m.\u001b[0m\u001b[0mndim\u001b[0m\u001b[0;34m\u001b[0m\u001b[0;34m\u001b[0m\u001b[0m\n",
      "\u001b[0;31mKeyError\u001b[0m: '[561] not found in axis'"
     ]
    }
   ],
   "source": [
    "row_indices = []\n",
    "for i in range(len(comment_data)):\n",
    "    for j in range(len(comment_test_data)):\n",
    "        if comment_data.iloc[i]['Id'] == comment_test_data.iloc[j]['Id']:\n",
    "            comment_predict_data = comment_predict_data.drop(i)\n",
    "            row_indices.append(i)"
   ]
  },
  {
   "cell_type": "code",
   "execution_count": 265,
   "metadata": {},
   "outputs": [
    {
     "ename": "KeyError",
     "evalue": "'[917] not found in axis'",
     "output_type": "error",
     "traceback": [
      "\u001b[0;31m---------------------------------------------------------------------------\u001b[0m",
      "\u001b[0;31mKeyError\u001b[0m                                  Traceback (most recent call last)",
      "\u001b[0;32m<ipython-input-265-ea2241af39f9>\u001b[0m in \u001b[0;36m<module>\u001b[0;34m\u001b[0m\n\u001b[0;32m----> 1\u001b[0;31m \u001b[0mcomment_predict_data\u001b[0m \u001b[0;34m=\u001b[0m \u001b[0mcomment_data\u001b[0m\u001b[0;34m.\u001b[0m\u001b[0mdrop\u001b[0m\u001b[0;34m(\u001b[0m\u001b[0;36m917\u001b[0m\u001b[0;34m)\u001b[0m\u001b[0;34m\u001b[0m\u001b[0;34m\u001b[0m\u001b[0m\n\u001b[0m",
      "\u001b[0;32m~/anaconda3/lib/python3.7/site-packages/pandas/core/frame.py\u001b[0m in \u001b[0;36mdrop\u001b[0;34m(self, labels, axis, index, columns, level, inplace, errors)\u001b[0m\n\u001b[1;32m   4100\u001b[0m             \u001b[0mlevel\u001b[0m\u001b[0;34m=\u001b[0m\u001b[0mlevel\u001b[0m\u001b[0;34m,\u001b[0m\u001b[0;34m\u001b[0m\u001b[0;34m\u001b[0m\u001b[0m\n\u001b[1;32m   4101\u001b[0m             \u001b[0minplace\u001b[0m\u001b[0;34m=\u001b[0m\u001b[0minplace\u001b[0m\u001b[0;34m,\u001b[0m\u001b[0;34m\u001b[0m\u001b[0;34m\u001b[0m\u001b[0m\n\u001b[0;32m-> 4102\u001b[0;31m             \u001b[0merrors\u001b[0m\u001b[0;34m=\u001b[0m\u001b[0merrors\u001b[0m\u001b[0;34m,\u001b[0m\u001b[0;34m\u001b[0m\u001b[0;34m\u001b[0m\u001b[0m\n\u001b[0m\u001b[1;32m   4103\u001b[0m         )\n\u001b[1;32m   4104\u001b[0m \u001b[0;34m\u001b[0m\u001b[0m\n",
      "\u001b[0;32m~/anaconda3/lib/python3.7/site-packages/pandas/core/generic.py\u001b[0m in \u001b[0;36mdrop\u001b[0;34m(self, labels, axis, index, columns, level, inplace, errors)\u001b[0m\n\u001b[1;32m   3912\u001b[0m         \u001b[0;32mfor\u001b[0m \u001b[0maxis\u001b[0m\u001b[0;34m,\u001b[0m \u001b[0mlabels\u001b[0m \u001b[0;32min\u001b[0m \u001b[0maxes\u001b[0m\u001b[0;34m.\u001b[0m\u001b[0mitems\u001b[0m\u001b[0;34m(\u001b[0m\u001b[0;34m)\u001b[0m\u001b[0;34m:\u001b[0m\u001b[0;34m\u001b[0m\u001b[0;34m\u001b[0m\u001b[0m\n\u001b[1;32m   3913\u001b[0m             \u001b[0;32mif\u001b[0m \u001b[0mlabels\u001b[0m \u001b[0;32mis\u001b[0m \u001b[0;32mnot\u001b[0m \u001b[0;32mNone\u001b[0m\u001b[0;34m:\u001b[0m\u001b[0;34m\u001b[0m\u001b[0;34m\u001b[0m\u001b[0m\n\u001b[0;32m-> 3914\u001b[0;31m                 \u001b[0mobj\u001b[0m \u001b[0;34m=\u001b[0m \u001b[0mobj\u001b[0m\u001b[0;34m.\u001b[0m\u001b[0m_drop_axis\u001b[0m\u001b[0;34m(\u001b[0m\u001b[0mlabels\u001b[0m\u001b[0;34m,\u001b[0m \u001b[0maxis\u001b[0m\u001b[0;34m,\u001b[0m \u001b[0mlevel\u001b[0m\u001b[0;34m=\u001b[0m\u001b[0mlevel\u001b[0m\u001b[0;34m,\u001b[0m \u001b[0merrors\u001b[0m\u001b[0;34m=\u001b[0m\u001b[0merrors\u001b[0m\u001b[0;34m)\u001b[0m\u001b[0;34m\u001b[0m\u001b[0;34m\u001b[0m\u001b[0m\n\u001b[0m\u001b[1;32m   3915\u001b[0m \u001b[0;34m\u001b[0m\u001b[0m\n\u001b[1;32m   3916\u001b[0m         \u001b[0;32mif\u001b[0m \u001b[0minplace\u001b[0m\u001b[0;34m:\u001b[0m\u001b[0;34m\u001b[0m\u001b[0;34m\u001b[0m\u001b[0m\n",
      "\u001b[0;32m~/anaconda3/lib/python3.7/site-packages/pandas/core/generic.py\u001b[0m in \u001b[0;36m_drop_axis\u001b[0;34m(self, labels, axis, level, errors)\u001b[0m\n\u001b[1;32m   3963\u001b[0m                 \u001b[0mlabels_missing\u001b[0m \u001b[0;34m=\u001b[0m \u001b[0;34m(\u001b[0m\u001b[0maxis\u001b[0m\u001b[0;34m.\u001b[0m\u001b[0mget_indexer_for\u001b[0m\u001b[0;34m(\u001b[0m\u001b[0mlabels\u001b[0m\u001b[0;34m)\u001b[0m \u001b[0;34m==\u001b[0m \u001b[0;34m-\u001b[0m\u001b[0;36m1\u001b[0m\u001b[0;34m)\u001b[0m\u001b[0;34m.\u001b[0m\u001b[0many\u001b[0m\u001b[0;34m(\u001b[0m\u001b[0;34m)\u001b[0m\u001b[0;34m\u001b[0m\u001b[0;34m\u001b[0m\u001b[0m\n\u001b[1;32m   3964\u001b[0m                 \u001b[0;32mif\u001b[0m \u001b[0merrors\u001b[0m \u001b[0;34m==\u001b[0m \u001b[0;34m\"raise\"\u001b[0m \u001b[0;32mand\u001b[0m \u001b[0mlabels_missing\u001b[0m\u001b[0;34m:\u001b[0m\u001b[0;34m\u001b[0m\u001b[0;34m\u001b[0m\u001b[0m\n\u001b[0;32m-> 3965\u001b[0;31m                     \u001b[0;32mraise\u001b[0m \u001b[0mKeyError\u001b[0m\u001b[0;34m(\u001b[0m\u001b[0;34m\"{} not found in axis\"\u001b[0m\u001b[0;34m.\u001b[0m\u001b[0mformat\u001b[0m\u001b[0;34m(\u001b[0m\u001b[0mlabels\u001b[0m\u001b[0;34m)\u001b[0m\u001b[0;34m)\u001b[0m\u001b[0;34m\u001b[0m\u001b[0;34m\u001b[0m\u001b[0m\n\u001b[0m\u001b[1;32m   3966\u001b[0m \u001b[0;34m\u001b[0m\u001b[0m\n\u001b[1;32m   3967\u001b[0m             \u001b[0mslicer\u001b[0m \u001b[0;34m=\u001b[0m \u001b[0;34m[\u001b[0m\u001b[0mslice\u001b[0m\u001b[0;34m(\u001b[0m\u001b[0;32mNone\u001b[0m\u001b[0;34m)\u001b[0m\u001b[0;34m]\u001b[0m \u001b[0;34m*\u001b[0m \u001b[0mself\u001b[0m\u001b[0;34m.\u001b[0m\u001b[0mndim\u001b[0m\u001b[0;34m\u001b[0m\u001b[0;34m\u001b[0m\u001b[0m\n",
      "\u001b[0;31mKeyError\u001b[0m: '[917] not found in axis'"
     ]
    }
   ],
   "source": [
    "comment_predict_data = comment_data.drop(917)"
   ]
  },
  {
   "cell_type": "code",
   "execution_count": null,
   "metadata": {},
   "outputs": [],
   "source": []
  }
 ],
 "metadata": {
  "kernelspec": {
   "display_name": "Python 3",
   "language": "python",
   "name": "python3"
  },
  "language_info": {
   "codemirror_mode": {
    "name": "ipython",
    "version": 3
   },
   "file_extension": ".py",
   "mimetype": "text/x-python",
   "name": "python",
   "nbconvert_exporter": "python",
   "pygments_lexer": "ipython3",
   "version": "3.7.3"
  }
 },
 "nbformat": 4,
 "nbformat_minor": 4
}
