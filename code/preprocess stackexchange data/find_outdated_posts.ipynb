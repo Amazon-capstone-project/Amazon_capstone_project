{
 "cells": [
  {
   "cell_type": "code",
   "execution_count": 134,
   "metadata": {},
   "outputs": [],
   "source": [
    "import json\n",
    "import pandas as pd"
   ]
  },
  {
   "cell_type": "code",
   "execution_count": 2,
   "metadata": {},
   "outputs": [],
   "source": [
    "def load_jsonl(input_path) -> list:\n",
    "    data = []\n",
    "    with open(input_path, 'r', encoding='utf-8') as f:\n",
    "        for line in f:\n",
    "            data.append(json.loads(line.rstrip('\\n|\\r')))\n",
    "    print('Loaded {} records from {}'.format(len(data), input_path))\n",
    "    return data"
   ]
  },
  {
   "cell_type": "code",
   "execution_count": 3,
   "metadata": {},
   "outputs": [
    {
     "name": "stdout",
     "output_type": "stream",
     "text": [
      "Loaded 221 records from ./week2/se_cs_ds.jsonl\n"
     ]
    }
   ],
   "source": [
    "# load jsonl file to list of dictionaries\n",
    "data_path='./week2/se_cs_ds.jsonl'\n",
    "data=load_jsonl(data_path)"
   ]
  },
  {
   "cell_type": "code",
   "execution_count": 167,
   "metadata": {},
   "outputs": [],
   "source": [
    "# function to check for keywords in comments\n",
    "def find_outdated_in_comments(data):\n",
    "    outdated_comments = pd.DataFrame(columns = ['Id', 'Text', 'PostId'])\n",
    "    id_column = []\n",
    "    text_column = []\n",
    "    postid_column = []\n",
    "    for post in data:\n",
    "        if post['CommentCount'] != 0:\n",
    "            for comment in post['comments']:\n",
    "                if ('outdated' in comment['Text'] or 'deprecated' in comment['Text']\n",
    "                    or 'obsolete' in comment['Text'] or 'out of date' in comment['Text']):\n",
    "                    id_column.append(comment['Id'])\n",
    "                    text_column.append(comment['Text'])\n",
    "                    postid_column.append(comment['PostId'])\n",
    "                    #print('CommentId: ', comment['Id'])\n",
    "                    #print('Text: ', comment['Text'])\n",
    "                    #print('PostId: ', comment['PostId'])\n",
    "    outdated_comments['Id'] = id_column\n",
    "    outdated_comments['Text'] = text_column\n",
    "    outdated_comments['PostId'] = postid_column\n",
    "    return outdated_comments"
   ]
  },
  {
   "cell_type": "code",
   "execution_count": 168,
   "metadata": {},
   "outputs": [],
   "source": [
    "# function to check for keywords in answers\n",
    "def find_outdated_in_answers(data):\n",
    "    outdated_answers = pd.DataFrame(columns = ['Id', 'Body', 'PostId'])\n",
    "    id_column = []\n",
    "    body_column = []\n",
    "    postid_column = []\n",
    "    for post in data:\n",
    "        if post['AnswerCount'] != 0:\n",
    "            answers = post['answers']\n",
    "            answerKeys = list(answers.keys())\n",
    "            for i in range(len(answerKeys)):\n",
    "                answer = answers[answerKeys[i]]\n",
    "                body = answer['Body']\n",
    "                if ('outdated' in body or 'deprecated' in body or 'obsolete' in body or 'out of date' in body):\n",
    "                    id_column.append(answer['Id'])\n",
    "                    body_column.append(answer['Body'])\n",
    "                    postid_column.append(answer['ParentId'])\n",
    "                    #print('AnswerId: ', answer['Id'])\n",
    "                    #print('Body: ', answer['Body'])\n",
    "                    #print('PostId: ', answer['ParentId'])\n",
    "    outdated_answers['Id'] = id_column\n",
    "    outdated_answers['Body'] = body_column\n",
    "    outdated_answers['PostId'] = postid_column\n",
    "    return outdated_answers"
   ]
  },
  {
   "cell_type": "code",
   "execution_count": 169,
   "metadata": {},
   "outputs": [
    {
     "data": {
      "text/html": [
       "<div>\n",
       "<style scoped>\n",
       "    .dataframe tbody tr th:only-of-type {\n",
       "        vertical-align: middle;\n",
       "    }\n",
       "\n",
       "    .dataframe tbody tr th {\n",
       "        vertical-align: top;\n",
       "    }\n",
       "\n",
       "    .dataframe thead th {\n",
       "        text-align: right;\n",
       "    }\n",
       "</style>\n",
       "<table border=\"1\" class=\"dataframe\">\n",
       "  <thead>\n",
       "    <tr style=\"text-align: right;\">\n",
       "      <th></th>\n",
       "      <th>Id</th>\n",
       "      <th>Text</th>\n",
       "      <th>PostId</th>\n",
       "    </tr>\n",
       "  </thead>\n",
       "  <tbody>\n",
       "  </tbody>\n",
       "</table>\n",
       "</div>"
      ],
      "text/plain": [
       "Empty DataFrame\n",
       "Columns: [Id, Text, PostId]\n",
       "Index: []"
      ]
     },
     "execution_count": 169,
     "metadata": {},
     "output_type": "execute_result"
    }
   ],
   "source": [
    "outdated_comments = find_outdated_in_comments(data)"
   ]
  },
  {
   "cell_type": "code",
   "execution_count": 172,
   "metadata": {},
   "outputs": [
    {
     "data": {
      "text/html": [
       "<div>\n",
       "<style scoped>\n",
       "    .dataframe tbody tr th:only-of-type {\n",
       "        vertical-align: middle;\n",
       "    }\n",
       "\n",
       "    .dataframe tbody tr th {\n",
       "        vertical-align: top;\n",
       "    }\n",
       "\n",
       "    .dataframe thead th {\n",
       "        text-align: right;\n",
       "    }\n",
       "</style>\n",
       "<table border=\"1\" class=\"dataframe\">\n",
       "  <thead>\n",
       "    <tr style=\"text-align: right;\">\n",
       "      <th></th>\n",
       "      <th>Id</th>\n",
       "      <th>Body</th>\n",
       "      <th>PostId</th>\n",
       "    </tr>\n",
       "  </thead>\n",
       "  <tbody>\n",
       "    <tr>\n",
       "      <td>0</td>\n",
       "      <td>370087</td>\n",
       "      <td>&lt;ol&gt;\\n&lt;li&gt;&lt;p&gt;What is your \"error budget\"? i.e....</td>\n",
       "      <td>357929</td>\n",
       "    </tr>\n",
       "  </tbody>\n",
       "</table>\n",
       "</div>"
      ],
      "text/plain": [
       "       Id                                               Body  PostId\n",
       "0  370087  <ol>\\n<li><p>What is your \"error budget\"? i.e....  357929"
      ]
     },
     "execution_count": 172,
     "metadata": {},
     "output_type": "execute_result"
    }
   ],
   "source": [
    "outdated_answers = find_outdated_in_answers(data)"
   ]
  },
  {
   "cell_type": "code",
   "execution_count": null,
   "metadata": {},
   "outputs": [],
   "source": []
  }
 ],
 "metadata": {
  "kernelspec": {
   "display_name": "Python 3",
   "language": "python",
   "name": "python3"
  },
  "language_info": {
   "codemirror_mode": {
    "name": "ipython",
    "version": 3
   },
   "file_extension": ".py",
   "mimetype": "text/x-python",
   "name": "python",
   "nbconvert_exporter": "python",
   "pygments_lexer": "ipython3",
   "version": "3.7.3"
  }
 },
 "nbformat": 4,
 "nbformat_minor": 4
}
