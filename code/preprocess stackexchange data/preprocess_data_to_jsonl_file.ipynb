{
 "cells": [
  {
   "cell_type": "code",
   "execution_count": 1,
   "metadata": {},
   "outputs": [],
   "source": [
    "import json\n",
    "\n",
    "def load_jsonl(input_path) -> list:\n",
    "    \"\"\"\n",
    "    Read list of objects from a JSON lines file.\n",
    "    \"\"\"\n",
    "    data = []\n",
    "    with open(input_path, 'r', encoding='utf-8') as f:\n",
    "        for line in f:\n",
    "            data.append(json.loads(line.rstrip('\\n|\\r')))\n",
    "    print('Loaded {} records from {}'.format(len(data), input_path))\n",
    "    return data    "
   ]
  },
  {
   "cell_type": "code",
   "execution_count": 19,
   "metadata": {},
   "outputs": [
    {
     "name": "stdout",
     "output_type": "stream",
     "text": [
      "Loaded 6000 records from ../data/6000_posts_sample.jsonl\n"
     ]
    }
   ],
   "source": [
    "# load jsonl file to list of dictionaries\n",
    "data_path='../data/6000_posts_sample.jsonl'\n",
    "data=load_jsonl(data_path)"
   ]
  },
  {
   "cell_type": "code",
   "execution_count": 21,
   "metadata": {
    "scrolled": false
   },
   "outputs": [
    {
     "name": "stdout",
     "output_type": "stream",
     "text": [
      "['r', 'csv', 'memory', 'compression', 'rds']\n",
      "['tags', 'terraform', 'eks']\n",
      "['architecture', 'active-directory', 'windows-server', 'rds']\n",
      "['nginx', 'load-balancing', 'elastic-load-balancer']\n"
     ]
    }
   ],
   "source": [
    "#find posts contain no tags related to aws or amazon\n",
    "for i in data:\n",
    "    full_tags=''.join(i['tags'])\n",
    "    if 'amazon' not in full_tags and 'aws' not in full_tags:\n",
    "        print(i['tags'])"
   ]
  },
  {
   "cell_type": "markdown",
   "metadata": {},
   "source": [
    "It turns out there are only four posts with no aws or amazon, so we can just filter aws/amazon tags first."
   ]
  },
  {
   "cell_type": "code",
   "execution_count": 22,
   "metadata": {},
   "outputs": [],
   "source": [
    "#find aws-related tags\n",
    "tags=[]\n",
    "for i in data:\n",
    "    for j in i['tags']:\n",
    "        if 'amazon' in j or 'aws' in j:\n",
    "            if j not in tags:\n",
    "                tags.append(j)\n",
    "                "
   ]
  },
  {
   "cell_type": "code",
   "execution_count": 23,
   "metadata": {},
   "outputs": [],
   "source": [
    "#write tags to files\n",
    "with open('../data/aws_related.txt', 'w') as f:\n",
    "    for item in tags:\n",
    "        f.write(\"%s\\n\" % item)"
   ]
  },
  {
   "cell_type": "code",
   "execution_count": null,
   "metadata": {},
   "outputs": [],
   "source": []
  }
 ],
 "metadata": {
  "kernelspec": {
   "display_name": "Python 3",
   "language": "python",
   "name": "python3"
  },
  "language_info": {
   "codemirror_mode": {
    "name": "ipython",
    "version": 3
   },
   "file_extension": ".py",
   "mimetype": "text/x-python",
   "name": "python",
   "nbconvert_exporter": "python",
   "pygments_lexer": "ipython3",
   "version": "3.7.3"
  }
 },
 "nbformat": 4,
 "nbformat_minor": 4
}
