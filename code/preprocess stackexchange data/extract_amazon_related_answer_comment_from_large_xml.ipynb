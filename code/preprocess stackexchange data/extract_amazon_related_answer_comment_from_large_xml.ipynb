{
 "cells": [
  {
   "cell_type": "code",
   "execution_count": null,
   "metadata": {},
   "outputs": [],
   "source": [
    "import csv\n",
    "import time\n",
    "import xml.etree.ElementTree as ET"
   ]
  },
  {
   "cell_type": "markdown",
   "metadata": {},
   "source": [
    "We want to extract the comments related to the answers we have found."
   ]
  },
  {
   "cell_type": "code",
   "execution_count": 1,
   "metadata": {
    "scrolled": false
   },
   "outputs": [
    {
     "name": "stdout",
     "output_type": "stream",
     "text": [
      "CSV header: ['Id', 'PostTypeId', 'ParentId', 'CreationDate', 'Score', 'Body', 'OwnerUserId', 'OwnerDisplayName', 'LastActivityDate', 'CommentCount', 'ContentLicense']\n"
     ]
    }
   ],
   "source": [
    "def get_answer_comment_id_from_csv(infile)\n",
    "\n",
    "    answer_ids=[]\n",
    "\n",
    "    with open(filename, \"r\") as f:  # on Python 3.x use: open(filename, \"r\", newline=\"\")\n",
    "        reader = csv.reader(f)  # create a CSV reader\n",
    "        header = next(reader)  # grab the first line and keep it as a header reference\n",
    "        print(\"CSV header: {}\".format(header))\n",
    "        for row in reader:  # iterate over the available rows\n",
    "            answer_ids.append(row[0])  \n",
    "    return answer_ids"
   ]
  },
  {
   "cell_type": "code",
   "execution_count": null,
   "metadata": {},
   "outputs": [],
   "source": [
    "def write_answer_comment_to_file_line_by_line(infile,outfile,answer_ids)\n",
    "    # get an iterable\n",
    "    context = ET.iterparse(infile, events=(\"start\", \"end\"))\n",
    "\n",
    "    is_first = True\n",
    "\n",
    "    #comment_list=[]\n",
    "    example={'Id': '84634', 'PostId': '195809', 'Score': '0', 'Text': 'Are you asking this question, thinking someone has already done it and has the experience to tell you?  :)', 'CreationDate': '2008-10-17T19:54:09.863', 'UserId': '18097', 'ContentLicense': 'CC BY-SA 2.5'}\n",
    "\n",
    "\n",
    "    with open(outfile, 'a') as f:\n",
    "        writer = csv.writer(f)\n",
    "        #writer.writerow(example.keys())\n",
    "        for event, elem in context:\n",
    "            # get the root element\n",
    "            if is_first:\n",
    "                root = elem\n",
    "                is_first = False\n",
    "            if event == \"end\" and elem.tag == \"row\":\n",
    "                cur_row=elem.attrib\n",
    "                if int(cur_row['Id'])>25914792 and cur_row['PostId'] in answer_ids:\n",
    "                    writer.writerow(cur_row.values())"
   ]
  },
  {
   "cell_type": "code",
   "execution_count": null,
   "metadata": {},
   "outputs": [],
   "source": [
    "answer_ids=get_answer_comment_id_from_csv(\"stackoverflow_amazon_a.csv\")\n",
    "write_answer_comment_to_file_line_by_line('Comments.xml','stackoverflow_amazon_a_comment.csv',answer_ids)"
   ]
  }
 ],
 "metadata": {
  "kernelspec": {
   "display_name": "Python 3",
   "language": "python",
   "name": "python3"
  },
  "language_info": {
   "codemirror_mode": {
    "name": "ipython",
    "version": 3
   },
   "file_extension": ".py",
   "mimetype": "text/x-python",
   "name": "python",
   "nbconvert_exporter": "python",
   "pygments_lexer": "ipython3",
   "version": "3.6.9"
  }
 },
 "nbformat": 4,
 "nbformat_minor": 4
}
