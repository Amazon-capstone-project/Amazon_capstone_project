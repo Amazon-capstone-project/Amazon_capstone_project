{
 "cells": [
  {
   "cell_type": "code",
   "execution_count": 1,
   "metadata": {},
   "outputs": [],
   "source": [
    "#import all packages\n",
    "import pandas as pd\n",
    "import numpy as np\n",
    "from sklearn.feature_extraction.text import CountVectorizer\n",
    "from sklearn.feature_extraction.text import TfidfTransformer\n",
    "from sklearn.model_selection import train_test_split\n",
    "from sklearn.naive_bayes import BernoulliNB\n",
    "from sklearn.naive_bayes import MultinomialNB\n",
    "from sklearn.linear_model import LogisticRegression\n",
    "from sklearn.preprocessing import OneHotEncoder\n",
    "from sklearn.metrics import f1_score"
   ]
  },
  {
   "cell_type": "code",
   "execution_count": 27,
   "metadata": {},
   "outputs": [],
   "source": [
    "# function to sample 100 negative posts\n",
    "def sample_negative(a_file_path, a_c_file_path, q_c_file_path):\n",
    "    answer_data = pd.read_csv(a_file_path, encoding=\"ISO-8859-1\")\n",
    "    answerCommentData = pd.read_csv(a_c_file_path, encoding=\"ISO-8859-1\")\n",
    "    questionCommentData = pd.read_csv(q_c_file_path, encoding=\"ISO-8859-1\")\n",
    "    answer_data['Text'] = answer_data['Body']\n",
    "    answer_data['PostId'] = answer_data['ParentId']\n",
    "    sub_data_1 = answer_data.sample(50)\n",
    "    sub_data_2 = answerCommentData.sample(25)\n",
    "    sub_data_3 = questionCommentData.sample(25)\n",
    "    negative_data = pd.concat([sub_data_1, sub_data_2, sub_data_3], axis = 0, join='inner')\n",
    "    return negative_data"
   ]
  },
  {
   "cell_type": "code",
   "execution_count": 28,
   "metadata": {},
   "outputs": [],
   "source": [
    "a_file_path = './Amazon_capstone_project/data/shared/stackoverflow_amazon_a_outdated.csv'\n",
    "a_c_file_path = './Amazon_capstone_project/data/shared/stackoverflow_amazon_a_comment_outdated.csv'\n",
    "q_c_file_path = './Amazon_capstone_project/data/shared/stackoverflow_amazon_q_comment_outdated.csv'\n",
    "negative_data = sample_negative(a_file_path, a_c_file_path, q_c_file_path)"
   ]
  },
  {
   "cell_type": "code",
   "execution_count": 35,
   "metadata": {},
   "outputs": [],
   "source": [
    "negative_data['outdated (manually checked)'] = 'False'"
   ]
  },
  {
   "cell_type": "code",
   "execution_count": 33,
   "metadata": {},
   "outputs": [],
   "source": [
    "df_test = pd.read_csv('./Amazon_capstone_project/data/pipeline/952_rows_40_columns.csv')"
   ]
  },
  {
   "cell_type": "code",
   "execution_count": 38,
   "metadata": {},
   "outputs": [],
   "source": [
    "df = pd.concat([df_test, negative_data], axis = 0, join = 'inner')"
   ]
  },
  {
   "cell_type": "code",
   "execution_count": 56,
   "metadata": {},
   "outputs": [],
   "source": [
    "df.to_csv('./balanced_data.csv')"
   ]
  }
 ],
 "metadata": {
  "kernelspec": {
   "display_name": "Python 3",
   "language": "python",
   "name": "python3"
  },
  "language_info": {
   "codemirror_mode": {
    "name": "ipython",
    "version": 3
   },
   "file_extension": ".py",
   "mimetype": "text/x-python",
   "name": "python",
   "nbconvert_exporter": "python",
   "pygments_lexer": "ipython3",
   "version": "3.7.3"
  }
 },
 "nbformat": 4,
 "nbformat_minor": 4
}
