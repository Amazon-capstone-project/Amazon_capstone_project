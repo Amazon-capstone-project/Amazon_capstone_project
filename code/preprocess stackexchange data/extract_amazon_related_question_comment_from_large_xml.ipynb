{
 "cells": [
  {
   "cell_type": "code",
   "execution_count": 1,
   "metadata": {},
   "outputs": [],
   "source": [
    "import pickle\n",
    "import csv\n",
    "import pandas as pd\n",
    "import xml.etree.ElementTree as ET"
   ]
  },
  {
   "cell_type": "markdown",
   "metadata": {},
   "source": [
    "We want to extract the comments related to the questions we have found."
   ]
  },
  {
   "cell_type": "code",
   "execution_count": 2,
   "metadata": {},
   "outputs": [],
   "source": [
    "def get_question_comment_id_from_csv(infile)\n",
    "    with open(, \"rb\") as fp:   # Unpickling\n",
    "        question_ids = pickle.load(fp)\n",
    "    return question_ids"
   ]
  },
  {
   "cell_type": "code",
   "execution_count": 3,
   "metadata": {},
   "outputs": [],
   "source": [
    "def write_question_comment_to_file_line_by_line(infile,outfile,question_ids)\n",
    "\n",
    "    # get an iterable\n",
    "    context = ET.iterparse(infile, events=(\"start\", \"end\"))\n",
    "\n",
    "    is_first = True\n",
    "\n",
    "    #comment_list=[]\n",
    "    example={'Id': '84634', 'PostId': '195809', 'Score': '0', 'Text': 'Are you asking this question, thinking someone has already done it and has the experience to tell you?  :)', 'CreationDate': '2008-10-17T19:54:09.863', 'UserId': '18097', 'ContentLicense': 'CC BY-SA 2.5'}\n",
    "\n",
    "\n",
    "    with open(outfile, 'a') as f:\n",
    "        writer = csv.writer(f)\n",
    "        #writer.writerow(example.keys())\n",
    "        for event, elem in context:\n",
    "            # get the root element\n",
    "            if is_first:\n",
    "                root = elem\n",
    "                is_first = False\n",
    "            if event == \"end\" and elem.tag == \"row\":\n",
    "                cur_row=elem.attrib\n",
    "                if int(cur_row['Id'])>56451913 and cur_row['PostId'] in question_ids:\n",
    "                    writer.writerow(cur_row.values())"
   ]
  },
  {
   "cell_type": "code",
   "execution_count": null,
   "metadata": {},
   "outputs": [],
   "source": [
    "question_ids=get_question_comment_id_from_csv(\"question_ids.txt\")\n",
    "write_question_comment_to_file_line_by_line('Comments.xml','stackoverflow_amazon_q_comment.csv',question_ids)"
   ]
  }
 ],
 "metadata": {
  "kernelspec": {
   "display_name": "Python 3",
   "language": "python",
   "name": "python3"
  },
  "language_info": {
   "codemirror_mode": {
    "name": "ipython",
    "version": 3
   },
   "file_extension": ".py",
   "mimetype": "text/x-python",
   "name": "python",
   "nbconvert_exporter": "python",
   "pygments_lexer": "ipython3",
   "version": "3.6.9"
  }
 },
 "nbformat": 4,
 "nbformat_minor": 4
}
