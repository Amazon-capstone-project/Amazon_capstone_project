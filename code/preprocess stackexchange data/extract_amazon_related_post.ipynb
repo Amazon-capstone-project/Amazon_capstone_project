{
 "cells": [
  {
   "cell_type": "code",
   "execution_count": 1,
   "metadata": {},
   "outputs": [],
   "source": [
    "import re\n",
    "import json\n",
    "import xml.etree.ElementTree as ET\n",
    "from collections import defaultdict"
   ]
  },
  {
   "cell_type": "code",
   "execution_count": 10,
   "metadata": {},
   "outputs": [],
   "source": [
    "base_dir='../data/original/'\n",
    "semeta='softwareengineering.meta.stackexchange.com/Posts.xml'\n",
    "se_posts='softwareengineering.stackexchange.com/Posts.xml'\n",
    "se_comments='softwareengineering.stackexchange.com/Comments.xml'\n",
    "secsmeta='softwarerecs.meta.stackexchange.com/Posts.xml'\n",
    "secs_posts='softwarerecs.stackexchange.com/Posts.xml'\n",
    "secs_comments='softwarerecs.stackexchange.com/Comments.xml'\n",
    "ai='ai.stackexchange.com/Posts.xml'\n",
    "ds_posts='datascience.stackexchange.com/Posts.xml'\n",
    "ds_comments='datascience.stackexchange.com/Comments.xml'"
   ]
  },
  {
   "cell_type": "code",
   "execution_count": 3,
   "metadata": {},
   "outputs": [],
   "source": [
    "def find_comment(directory):\n",
    "    comment_tree=ET.parse(directory)\n",
    "    root=comment_tree.getroot()\n",
    "    comment_dict=defaultdict(list)\n",
    "    for child in root:\n",
    "        cur_row=child.attrib\n",
    "        comment_dict[cur_row['PostId']].append(cur_row)\n",
    "    return comment_dict"
   ]
  },
  {
   "cell_type": "code",
   "execution_count": 4,
   "metadata": {},
   "outputs": [],
   "source": [
    "def find_related_questioins(root):\n",
    "    '''\n",
    "    Find question id related to aws/amazon(using tag information)\n",
    "    \n",
    "    Args:\n",
    "        root: xml root\n",
    "    Return:\n",
    "        question_ids:a list of question ids\n",
    "        full_dict: id and content dict\n",
    "    '''\n",
    "    question_ids=[]\n",
    "    for child in root:        \n",
    "        cur_row=child.attrib\n",
    "        if 'Tags' in cur_row:\n",
    "            if 'aws' in cur_row['Tags'] or 'amazon' in cur_row['Tags']:\n",
    "                question_ids.append(cur_row['Id'])\n",
    "    return question_ids"
   ]
  },
  {
   "cell_type": "code",
   "execution_count": 5,
   "metadata": {},
   "outputs": [],
   "source": [
    "def find_answers(root,question_ids,comment_dict):\n",
    "    '''\n",
    "    Find answers related to the target question\n",
    "    \n",
    "    Args:\n",
    "        root: xml root\n",
    "        question_ids: a list of target question id\n",
    "    \n",
    "    Return:\n",
    "        question_answer_dict: a dict of target question and corresponding answers\n",
    "    '''\n",
    "    question_answer_dict=defaultdict(dict)\n",
    "    for child in root:\n",
    "        cur_row=child.attrib\n",
    "        if cur_row['PostTypeId']=='2' and cur_row['ParentId'] in question_ids:\n",
    "            question_answer_dict[cur_row['ParentId']][cur_row['Id']]=cur_row\n",
    "            question_answer_dict[cur_row['ParentId']][cur_row['Id']]['comments']=comment_dict[cur_row['Id']]\n",
    "    return question_answer_dict"
   ]
  },
  {
   "cell_type": "code",
   "execution_count": 6,
   "metadata": {},
   "outputs": [],
   "source": [
    "def parse_xml(post_dir,com_dir,res):\n",
    "    comment_dict=find_comment(com_dir)\n",
    "    \n",
    "    post_tree=ET.parse(post_dir)\n",
    "    post_root=post_tree.getroot()\n",
    "    question_ids=find_related_questioins(post_root)\n",
    "    question_answer_dict=find_answers(post_root,question_ids,comment_dict)\n",
    "    \n",
    "    for child in post_root:\n",
    "        cur_row=child.attrib\n",
    "        each=cur_row\n",
    "        if cur_row['Id'] in question_ids:\n",
    "            each['Tags']=re.findall(r'\\<(.*?)\\>',cur_row['Tags'])\n",
    "            each['answers']=question_answer_dict[cur_row['Id']]\n",
    "            each['comments']=comment_dict[cur_row['Id']]\n",
    "            res.append(each)\n",
    "    return res"
   ]
  },
  {
   "cell_type": "code",
   "execution_count": 7,
   "metadata": {},
   "outputs": [],
   "source": [
    "def to_jsonl(target,dest_file):\n",
    "    with open(dest_file, 'w') as outfile:\n",
    "        for entry in target:\n",
    "            json.dump(entry, outfile)\n",
    "            outfile.write('\\n')"
   ]
  },
  {
   "cell_type": "code",
   "execution_count": 12,
   "metadata": {},
   "outputs": [],
   "source": [
    "res=[]\n",
    "res=parse_xml(base_dir+se_posts,base_dir+se_comments,res)\n",
    "res=parse_xml(base_dir+secs_posts,base_dir+secs_comments,res)\n",
    "res=parse_xml(base_dir+ds_posts,base_dir+ds_comments,res)\n",
    "to_jsonl(res,'../data/se_cs_ds.jsonl')"
   ]
  },
  {
   "cell_type": "code",
   "execution_count": null,
   "metadata": {},
   "outputs": [],
   "source": []
  }
 ],
 "metadata": {
  "kernelspec": {
   "display_name": "Python 3",
   "language": "python",
   "name": "python3"
  },
  "language_info": {
   "codemirror_mode": {
    "name": "ipython",
    "version": 3
   },
   "file_extension": ".py",
   "mimetype": "text/x-python",
   "name": "python",
   "nbconvert_exporter": "python",
   "pygments_lexer": "ipython3",
   "version": "3.7.4"
  }
 },
 "nbformat": 4,
 "nbformat_minor": 4
}
