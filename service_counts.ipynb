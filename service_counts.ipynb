{
 "cells": [
  {
   "cell_type": "code",
   "execution_count": 1,
   "metadata": {},
   "outputs": [],
   "source": [
    "import json\n",
    "import re\n",
    "from collections import Counter\n",
    "import pandas as pd\n",
    "def load_jsonl(input_path) -> list:\n",
    "    \"\"\"\n",
    "    Read list of objects from a JSON lines file.\n",
    "    \"\"\"\n",
    "    data = []\n",
    "    with open(input_path, 'r', encoding='utf-8') as f:\n",
    "        for line in f:\n",
    "            data.append(json.loads(line.rstrip('\\n|\\r')))\n",
    "    print('Loaded {} records from {}'.format(len(data), input_path))\n",
    "    return data    "
   ]
  },
  {
   "cell_type": "code",
   "execution_count": 12,
   "metadata": {},
   "outputs": [
    {
     "name": "stdout",
     "output_type": "stream",
     "text": [
      "Loaded 6000 records from 6000_posts_sample.jsonl\n"
     ]
    }
   ],
   "source": [
    "# load jsonl file to list of dictionaries\n",
    "# data_path='../data/shared/6000_posts_sample.jsonl'\n",
    "data_path = '6000_posts_sample.jsonl'\n",
    "data=load_jsonl(data_path)"
   ]
  },
  {
   "cell_type": "code",
   "execution_count": 13,
   "metadata": {},
   "outputs": [
    {
     "name": "stdout",
     "output_type": "stream",
     "text": [
      "Total tags number is: 20947\n"
     ]
    }
   ],
   "source": [
    "# put all tags in a single list\n",
    "tags_all = []\n",
    "for i in data:   \n",
    "    tags = i['tags']\n",
    "    tags_all.extend(tags)\n",
    "print('Total tags number is:',len(tags_all))"
   ]
  },
  {
   "cell_type": "code",
   "execution_count": 14,
   "metadata": {
    "scrolled": false
   },
   "outputs": [
    {
     "name": "stdout",
     "output_type": "stream",
     "text": [
      "Tags counts before cleaning: 11446\n"
     ]
    }
   ],
   "source": [
    "#find posts contain tags related to aws or amazon\n",
    "tags_amazon = []\n",
    "for i in data:   \n",
    "    tags = i['tags']\n",
    "    if 'amazon' or 'aws' in tags:\n",
    "        res = [x for x in tags if re.search('amazon',x)]\n",
    "        tags_amazon.extend(res)\n",
    "        res2 = [x for x in tags if re.search('aws',x)]\n",
    "        tags_amazon.extend(res2) \n",
    "counts_before_clean = len(tags_amazon)\n",
    "print('Tags counts before cleaning:',counts_before_clean)"
   ]
  },
  {
   "cell_type": "code",
   "execution_count": 15,
   "metadata": {},
   "outputs": [
    {
     "name": "stdout",
     "output_type": "stream",
     "text": [
      "Tags counts after withdraw <amazon> and <amazon-web-services>: 7743\n"
     ]
    }
   ],
   "source": [
    "# drop the useless tags\n",
    "for item in tags_amazon:\n",
    "    if  item == 'amazon' or item =='amazon-web-services':\n",
    "        tags_amazon.remove(item)\n",
    "counts_after_clean = len(tags_amazon)\n",
    "print('Tags counts after withdraw <amazon> and <amazon-web-services>:',counts_after_clean)"
   ]
  },
  {
   "cell_type": "code",
   "execution_count": 16,
   "metadata": {},
   "outputs": [],
   "source": [
    "key= Counter(tags_amazon).keys()\n",
    "value=Counter(tags_amazon).values()\n",
    "tags_dict = dict(zip(key,value))"
   ]
  },
  {
   "cell_type": "code",
   "execution_count": 17,
   "metadata": {},
   "outputs": [],
   "source": [
    "# try to find features with high frequency\n",
    "def frequent_features(input_num):\n",
    "    num = input_num\n",
    "    frequent_feature = {}\n",
    "    for item in tags_dict.keys():\n",
    "        if tags_dict[item]>num:\n",
    "            frequent_feature[item]=tags_dict[item]\n",
    "    return frequent_feature"
   ]
  },
  {
   "cell_type": "code",
   "execution_count": 18,
   "metadata": {},
   "outputs": [
    {
     "data": {
      "text/plain": [
       "{'amazon-cognito': 175,\n",
       " 'amazon-elastic-beanstalk': 306,\n",
       " 'amazon-cloudformation': 194,\n",
       " 'aws-lambda': 687,\n",
       " 'amazon-s3': 1057,\n",
       " 'amazon-redshift': 160,\n",
       " 'amazon-iam': 101,\n",
       " 'aws-cli': 115,\n",
       " 'amazon-dynamodb': 382,\n",
       " 'amazon-ecs': 111,\n",
       " 'amazon-ec2': 972,\n",
       " 'amazon-rds': 131,\n",
       " 'aws-api-gateway': 181,\n",
       " 'amazon-sqs': 106,\n",
       " 'aws-sdk': 203,\n",
       " 'amazon-cloudfront': 155,\n",
       " 'amazon-web-services': 590}"
      ]
     },
     "execution_count": 18,
     "metadata": {},
     "output_type": "execute_result"
    }
   ],
   "source": [
    "frequent_features(100)"
   ]
  },
  {
   "cell_type": "code",
   "execution_count": 19,
   "metadata": {},
   "outputs": [],
   "source": [
    "# sort tags by frequency\n",
    "tags_dict_sorted = {k:v for k,v in sorted(tags_dict.items(),key=lambda item:item[1],reverse = True)}"
   ]
  },
  {
   "cell_type": "code",
   "execution_count": 20,
   "metadata": {},
   "outputs": [],
   "source": [
    "# output the result\n",
    "sorted_service = pd.DataFrame(list(tags_dict_sorted.items()), columns = ['service','frequency'])"
   ]
  },
  {
   "cell_type": "code",
   "execution_count": null,
   "metadata": {},
   "outputs": [],
   "source": [
    "sorted_service.to_csv(\"service_counts_6000_samples.csv\")"
   ]
  }
 ],
 "metadata": {
  "kernelspec": {
   "display_name": "Python 3",
   "language": "python",
   "name": "python3"
  },
  "language_info": {
   "codemirror_mode": {
    "name": "ipython",
    "version": 3
   },
   "file_extension": ".py",
   "mimetype": "text/x-python",
   "name": "python",
   "nbconvert_exporter": "python",
   "pygments_lexer": "ipython3",
   "version": "3.7.3"
  }
 },
 "nbformat": 4,
 "nbformat_minor": 4
}
