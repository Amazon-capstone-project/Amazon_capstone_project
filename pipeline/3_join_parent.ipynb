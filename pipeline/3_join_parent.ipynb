{
 "cells": [
  {
   "cell_type": "markdown",
   "metadata": {},
   "source": [
    "# Feature engineering: features from parent posts"
   ]
  },
  {
   "cell_type": "markdown",
   "metadata": {},
   "source": [
    "## Read raw questions & answers data\n",
    "\n",
    "`data/raw/stackoverflow_amazon_q.csv` is actually a tsv file."
   ]
  },
  {
   "cell_type": "code",
   "execution_count": 20,
   "metadata": {},
   "outputs": [],
   "source": [
    "import pandas as pd\n",
    "\n",
    "RAW_Q = r'../data/raw/stackoverflow_amazon_q.csv'\n",
    "RAW_A = r'../data/raw/stackoverflow_amazon_a.csv'\n",
    "PIPE_C_LINGU = r'../data\\pipeline\\c_heuristic_features.csv'\n",
    "PIPE_C_Q_TAGS = r'../data/pipeline/cq_parent_feats.csv'\n",
    "PIPE_C_A_TAGS = r'../data/pipeline/ca_parent_feats.csv'\n",
    "PIPE_A_TAGS = r'../data/pipeline/a_parent_feats.csv'"
   ]
  },
  {
   "cell_type": "code",
   "execution_count": 2,
   "metadata": {},
   "outputs": [
    {
     "name": "stderr",
     "output_type": "stream",
     "text": [
      "E:\\dev\\Python-venv\\data-science\\lib\\site-packages\\IPython\\core\\interactiveshell.py:3338: DtypeWarning: Columns (21) have mixed types.Specify dtype option on import or set low_memory=False.\n",
      "  if (await self.run_code(code, result,  async_=asy)):\n"
     ]
    }
   ],
   "source": [
    "df_raw_questions = pd.read_table(RAW_Q, delimiter='\\t', error_bad_lines=False, warn_bad_lines=False)"
   ]
  },
  {
   "cell_type": "code",
   "execution_count": 14,
   "metadata": {},
   "outputs": [
    {
     "data": {
      "text/plain": [
       "Index(['Unnamed: 0', 'Id', 'PostTypeId', 'AcceptedAnswerId', 'CreationDate',\n",
       "       'Score', 'ViewCount', 'Body', 'OwnerUserId', 'OwnerDisplayName',\n",
       "       'LastEditorUserId', 'LastEditorDisplayName', 'LastEditDate',\n",
       "       'LastActivityDate', 'Title', 'Tags', 'AnswerCount', 'CommentCount',\n",
       "       'ClosedDate', 'ContentLicense', 'FavoriteCount', 'CommunityOwnedDate'],\n",
       "      dtype='object')"
      ]
     },
     "execution_count": 14,
     "metadata": {},
     "output_type": "execute_result"
    }
   ],
   "source": [
    "df_raw_questions.columns"
   ]
  },
  {
   "cell_type": "code",
   "execution_count": 15,
   "metadata": {
    "collapsed": true
   },
   "outputs": [
    {
     "name": "stdout",
     "output_type": "stream",
     "text": [
      "<class 'pandas.core.frame.DataFrame'>\n",
      "RangeIndex: 159515 entries, 0 to 159514\n",
      "Data columns (total 22 columns):\n",
      " #   Column                 Non-Null Count   Dtype  \n",
      "---  ------                 --------------   -----  \n",
      " 0   Unnamed: 0             159515 non-null  int64  \n",
      " 1   Id                     159515 non-null  int64  \n",
      " 2   PostTypeId             159515 non-null  int64  \n",
      " 3   AcceptedAnswerId       63417 non-null   float64\n",
      " 4   CreationDate           159515 non-null  object \n",
      " 5   Score                  159515 non-null  int64  \n",
      " 6   ViewCount              159515 non-null  int64  \n",
      " 7   Body                   159515 non-null  object \n",
      " 8   OwnerUserId            158175 non-null  float64\n",
      " 9   OwnerDisplayName       1506 non-null    object \n",
      " 10  LastEditorUserId       71278 non-null   float64\n",
      " 11  LastEditorDisplayName  610 non-null     object \n",
      " 12  LastEditDate           71798 non-null   object \n",
      " 13  LastActivityDate       159515 non-null  object \n",
      " 14  Title                  159515 non-null  object \n",
      " 15  Tags                   159515 non-null  object \n",
      " 16  AnswerCount            159515 non-null  int64  \n",
      " 17  CommentCount           159515 non-null  int64  \n",
      " 18  ClosedDate             2587 non-null    object \n",
      " 19  ContentLicense         159515 non-null  object \n",
      " 20  FavoriteCount          34920 non-null   float64\n",
      " 21  CommunityOwnedDate     21 non-null      object \n",
      "dtypes: float64(4), int64(7), object(11)\n",
      "memory usage: 26.8+ MB\n"
     ]
    }
   ],
   "source": [
    "df_raw_questions.info()"
   ]
  },
  {
   "cell_type": "code",
   "execution_count": null,
   "metadata": {},
   "outputs": [],
   "source": [
    "df_raw_questions"
   ]
  },
  {
   "cell_type": "code",
   "execution_count": null,
   "metadata": {
    "scrolled": true
   },
   "outputs": [],
   "source": [
    "df_raw_questions['Tags']"
   ]
  },
  {
   "cell_type": "code",
   "execution_count": 24,
   "metadata": {},
   "outputs": [
    {
     "name": "stderr",
     "output_type": "stream",
     "text": [
      "E:\\dev\\Python-venv\\data-science\\lib\\site-packages\\IPython\\core\\interactiveshell.py:3147: DtypeWarning: Columns (8) have mixed types.Specify dtype option on import or set low_memory=False.\n",
      "  interactivity=interactivity, compiler=compiler, result=result)\n"
     ]
    }
   ],
   "source": [
    "df_raw_answers = pd.read_csv(RAW_A, error_bad_lines=False, warn_bad_lines=False)"
   ]
  },
  {
   "cell_type": "code",
   "execution_count": 25,
   "metadata": {},
   "outputs": [
    {
     "data": {
      "text/plain": [
       "Index(['Id', 'PostTypeId', 'ParentId', 'CreationDate', 'Score', 'Body',\n",
       "       'OwnerUserId', 'OwnerDisplayName', 'LastActivityDate', 'CommentCount',\n",
       "       'ContentLicense'],\n",
       "      dtype='object')"
      ]
     },
     "execution_count": 25,
     "metadata": {},
     "output_type": "execute_result"
    }
   ],
   "source": [
    "df_raw_answers.columns"
   ]
  },
  {
   "cell_type": "code",
   "execution_count": 26,
   "metadata": {},
   "outputs": [
    {
     "name": "stdout",
     "output_type": "stream",
     "text": [
      "<class 'pandas.core.frame.DataFrame'>\n",
      "RangeIndex: 148406 entries, 0 to 148405\n",
      "Data columns (total 11 columns):\n",
      " #   Column            Non-Null Count   Dtype \n",
      "---  ------            --------------   ----- \n",
      " 0   Id                148406 non-null  int64 \n",
      " 1   PostTypeId        148406 non-null  int64 \n",
      " 2   ParentId          148406 non-null  int64 \n",
      " 3   CreationDate      148406 non-null  object\n",
      " 4   Score             148406 non-null  int64 \n",
      " 5   Body              148406 non-null  object\n",
      " 6   OwnerUserId       148406 non-null  object\n",
      " 7   OwnerDisplayName  148406 non-null  object\n",
      " 8   LastActivityDate  148406 non-null  object\n",
      " 9   CommentCount      148405 non-null  object\n",
      " 10  ContentLicense    507 non-null     object\n",
      "dtypes: int64(4), object(7)\n",
      "memory usage: 12.5+ MB\n"
     ]
    }
   ],
   "source": [
    "df_raw_answers.info()"
   ]
  },
  {
   "cell_type": "markdown",
   "metadata": {},
   "source": [
    "## Read outdated comments & answers\n",
    "\n",
    "Data for answers is WIP.\n",
    "\n",
    "It seems I got the opposite value for 'of_answer' column: a_id is in questions IDs, q_id is in answers IDs."
   ]
  },
  {
   "cell_type": "code",
   "execution_count": 3,
   "metadata": {},
   "outputs": [],
   "source": [
    "df_outdated_comments = pd.read_csv(PIPE_C_LINGU)"
   ]
  },
  {
   "cell_type": "code",
   "execution_count": 4,
   "metadata": {},
   "outputs": [
    {
     "data": {
      "text/plain": [
       "Index(['Id', 'PostId', 'Score', 'Text', 'CreationDate', 'UserId',\n",
       "       'ContentLicense', 'of_answer', 'cnt_keywords', 'subject', 'punctuation',\n",
       "       'negative_statement', 'sentence', 'subj_irrel', 'include_irrel'],\n",
       "      dtype='object')"
      ]
     },
     "execution_count": 4,
     "metadata": {},
     "output_type": "execute_result"
    }
   ],
   "source": [
    "df_outdated_comments.columns"
   ]
  },
  {
   "cell_type": "code",
   "execution_count": 5,
   "metadata": {},
   "outputs": [],
   "source": [
    "a_id_set = set(df_outdated_comments[df_outdated_comments['of_answer'] == False]['PostId'])\n",
    "q_id_set = set(df_outdated_comments[df_outdated_comments['of_answer'] == True]['PostId'])"
   ]
  },
  {
   "cell_type": "code",
   "execution_count": 46,
   "metadata": {},
   "outputs": [
    {
     "data": {
      "text/plain": [
       "0"
      ]
     },
     "execution_count": 46,
     "metadata": {},
     "output_type": "execute_result"
    }
   ],
   "source": [
    "sum(df_raw_answers['Id'].isin(a_id_set))"
   ]
  },
  {
   "cell_type": "code",
   "execution_count": 62,
   "metadata": {},
   "outputs": [
    {
     "data": {
      "text/plain": [
       "Index(['Unnamed: 0', 'Id', 'PostTypeId', 'AcceptedAnswerId', 'CreationDate',\n",
       "       'Score', 'ViewCount', 'Body', 'OwnerUserId', 'OwnerDisplayName',\n",
       "       'LastEditorUserId', 'LastEditorDisplayName', 'LastEditDate',\n",
       "       'LastActivityDate', 'Title', 'Tags', 'AnswerCount', 'CommentCount',\n",
       "       'ClosedDate', 'ContentLicense', 'FavoriteCount', 'CommunityOwnedDate'],\n",
       "      dtype='object')"
      ]
     },
     "execution_count": 62,
     "metadata": {},
     "output_type": "execute_result"
    }
   ],
   "source": [
    "df_raw_questions.columns"
   ]
  },
  {
   "cell_type": "code",
   "execution_count": 53,
   "metadata": {
    "scrolled": true
   },
   "outputs": [
    {
     "data": {
      "text/plain": [
       "Index(['Id', 'PostTypeId', 'ParentId', 'CreationDate', 'Score', 'Body',\n",
       "       'OwnerUserId', 'OwnerDisplayName', 'LastActivityDate', 'CommentCount',\n",
       "       'ContentLicense'],\n",
       "      dtype='object')"
      ]
     },
     "execution_count": 53,
     "metadata": {},
     "output_type": "execute_result"
    }
   ],
   "source": [
    "df_raw_answers.columns"
   ]
  },
  {
   "cell_type": "code",
   "execution_count": 63,
   "metadata": {},
   "outputs": [
    {
     "data": {
      "text/plain": [
       "Index(['Id', 'PostId', 'Score', 'Text', 'CreationDate', 'UserId',\n",
       "       'ContentLicense', 'of_answer', 'cnt_keywords', 'subject', 'punctuation',\n",
       "       'negative_statement', 'sentence', 'subj_irrel', 'include_irrel'],\n",
       "      dtype='object')"
      ]
     },
     "execution_count": 63,
     "metadata": {},
     "output_type": "execute_result"
    }
   ],
   "source": [
    "df_outdated_comments.columns"
   ]
  },
  {
   "cell_type": "code",
   "execution_count": 45,
   "metadata": {},
   "outputs": [
    {
     "data": {
      "text/plain": [
       "0"
      ]
     },
     "execution_count": 45,
     "metadata": {},
     "output_type": "execute_result"
    }
   ],
   "source": [
    "sum(df_raw_questions['Id'].isin(q_id_set))"
   ]
  },
  {
   "cell_type": "code",
   "execution_count": null,
   "metadata": {},
   "outputs": [],
   "source": [
    "df_used_ans = df_raw_answers[df_raw_answers['Id'].isin(q_id_set)]\n",
    "a_pid_set = set(df_used_ans['ParentId'])\n",
    "df_used_que = df_raw_questions[df_raw_questions['Id'].isin(a_id_set.union(a_pid_set))]"
   ]
  },
  {
   "cell_type": "markdown",
   "metadata": {},
   "source": [
    "## Join tables\n",
    "\n",
    "First, join the answers with features in questions. (only the tags & FavoriteCount & ClosedDate)\n",
    "\n",
    "Then join the comments with the question table and joined answer table."
   ]
  },
  {
   "cell_type": "code",
   "execution_count": 8,
   "metadata": {},
   "outputs": [],
   "source": [
    "Q_FEAT_COLS = ['Id', 'CreationDate', 'Score', 'ViewCount',\n",
    "               'LastEditDate', 'LastActivityDate', 'Title', 'Tags', 'AnswerCount', 'CommentCount',\n",
    "               'ClosedDate', 'FavoriteCount']\n",
    "A_FEAT_COLS = ['Id', 'ParentId', 'CreationDate', 'Score', 'Body',\n",
    "               'LastActivityDate', 'CommentCount']"
   ]
  },
  {
   "cell_type": "code",
   "execution_count": 66,
   "metadata": {},
   "outputs": [],
   "source": [
    "df_used_ans = df_used_ans[A_FEAT_COLS]\n",
    "df_used_que = df_used_que[Q_FEAT_COLS]"
   ]
  },
  {
   "cell_type": "code",
   "execution_count": 96,
   "metadata": {},
   "outputs": [],
   "source": [
    "df_comments_a = df_outdated_comments[df_outdated_comments['of_answer'] == True]\n",
    "df_comments_q = df_outdated_comments[df_outdated_comments['of_answer'] == False]"
   ]
  },
  {
   "cell_type": "code",
   "execution_count": 83,
   "metadata": {},
   "outputs": [
    {
     "name": "stdout",
     "output_type": "stream",
     "text": [
      "<class 'pandas.core.frame.DataFrame'>\n",
      "Int64Index: 331 entries, 0 to 330\n",
      "Data columns (total 20 columns):\n",
      " #   Column                Non-Null Count  Dtype  \n",
      "---  ------                --------------  -----  \n",
      " 0   Id_ans                331 non-null    int64  \n",
      " 1   ParentId              331 non-null    int64  \n",
      " 2   CreationDate_ans      331 non-null    object \n",
      " 3   Score_ans             331 non-null    int64  \n",
      " 4   Body                  331 non-null    object \n",
      " 5   LastActivityDate_ans  331 non-null    object \n",
      " 6   CommentCount_ans      331 non-null    object \n",
      " 7   Id_que                331 non-null    int64  \n",
      " 8   CreationDate_que      331 non-null    object \n",
      " 9   Score_que             331 non-null    int64  \n",
      " 10  ViewCount             331 non-null    int64  \n",
      " 11  LastEditDate          174 non-null    object \n",
      " 12  LastActivityDate_que  331 non-null    object \n",
      " 13  Title                 331 non-null    object \n",
      " 14  Tags                  331 non-null    object \n",
      " 15  AnswerCount           331 non-null    int64  \n",
      " 16  CommentCount_que      331 non-null    int64  \n",
      " 17  ClosedDate            12 non-null     object \n",
      " 18  FavoriteCount         161 non-null    float64\n",
      " 19  CommunityOwnedDate    0 non-null      object \n",
      "dtypes: float64(1), int64(8), object(11)\n",
      "memory usage: 54.3+ KB\n"
     ]
    }
   ],
   "source": [
    "df_joined_ans.info()"
   ]
  },
  {
   "cell_type": "code",
   "execution_count": 68,
   "metadata": {},
   "outputs": [],
   "source": [
    "df_joined_ans = pd.merge(df_used_ans, df_used_que, how='left', \n",
    "                         left_on='ParentId', right_on='Id',\n",
    "                        suffixes=('_ans','_que'))"
   ]
  },
  {
   "cell_type": "code",
   "execution_count": 72,
   "metadata": {},
   "outputs": [
    {
     "data": {
      "text/plain": [
       "Index(['Id', 'PostId', 'Score', 'Text', 'CreationDate', 'UserId',\n",
       "       'ContentLicense', 'of_answer', 'cnt_keywords', 'subject', 'punctuation',\n",
       "       'negative_statement', 'sentence', 'subj_irrel', 'include_irrel'],\n",
       "      dtype='object')"
      ]
     },
     "execution_count": 72,
     "metadata": {},
     "output_type": "execute_result"
    }
   ],
   "source": [
    "df_comments_q.columns"
   ]
  },
  {
   "cell_type": "code",
   "execution_count": 74,
   "metadata": {},
   "outputs": [
    {
     "data": {
      "text/plain": [
       "Index(['Id', 'CreationDate', 'Score', 'ViewCount', 'LastEditDate',\n",
       "       'LastActivityDate', 'Title', 'Tags', 'AnswerCount', 'CommentCount',\n",
       "       'ClosedDate', 'FavoriteCount', 'CommunityOwnedDate'],\n",
       "      dtype='object')"
      ]
     },
     "execution_count": 74,
     "metadata": {},
     "output_type": "execute_result"
    }
   ],
   "source": [
    "df_used_que.columns"
   ]
  },
  {
   "cell_type": "markdown",
   "metadata": {},
   "source": [
    "None of question IDs is a PostId in `df_comments_q`. (fixed; now it's right.) "
   ]
  },
  {
   "cell_type": "code",
   "execution_count": 97,
   "metadata": {
    "scrolled": true
   },
   "outputs": [
    {
     "data": {
      "text/plain": [
       "329"
      ]
     },
     "execution_count": 97,
     "metadata": {},
     "output_type": "execute_result"
    }
   ],
   "source": [
    "sum(df_used_que.Id.isin(set(df_comments_q.PostId)))"
   ]
  },
  {
   "cell_type": "code",
   "execution_count": 98,
   "metadata": {},
   "outputs": [
    {
     "data": {
      "text/plain": [
       "0"
      ]
     },
     "execution_count": 98,
     "metadata": {},
     "output_type": "execute_result"
    }
   ],
   "source": [
    "sum(df_used_que.Id.isin(set(df_comments_a.PostId)))"
   ]
  },
  {
   "cell_type": "code",
   "execution_count": 104,
   "metadata": {},
   "outputs": [
    {
     "data": {
      "text/plain": [
       "Index(['Id', 'PostId', 'Score', 'Text', 'CreationDate', 'UserId',\n",
       "       'ContentLicense', 'of_answer', 'cnt_keywords', 'subject', 'punctuation',\n",
       "       'negative_statement', 'sentence', 'subj_irrel', 'include_irrel',\n",
       "       'Id_que', 'CreationDate_que', 'Score_que', 'ViewCount', 'LastEditDate',\n",
       "       'LastActivityDate', 'Title', 'Tags', 'AnswerCount', 'CommentCount',\n",
       "       'ClosedDate', 'FavoriteCount', 'CommunityOwnedDate'],\n",
       "      dtype='object')"
      ]
     },
     "execution_count": 104,
     "metadata": {},
     "output_type": "execute_result"
    }
   ],
   "source": [
    "df_joined_com_q = pd.merge(df_comments_q, df_used_que, how='left',\n",
    "                          left_on='PostId', right_on='Id', suffixes=('', '_que'))\n",
    "df_joined_com_q.columns"
   ]
  },
  {
   "cell_type": "code",
   "execution_count": 103,
   "metadata": {},
   "outputs": [
    {
     "data": {
      "text/plain": [
       "Index(['Id', 'PostId', 'Score', 'Text', 'CreationDate', 'UserId',\n",
       "       'ContentLicense', 'of_answer', 'cnt_keywords', 'subject', 'punctuation',\n",
       "       'negative_statement', 'sentence', 'subj_irrel', 'include_irrel',\n",
       "       'Id_ans', 'ParentId', 'CreationDate_ans', 'Score_ans', 'Body',\n",
       "       'LastActivityDate_ans', 'CommentCount_ans', 'Id_que',\n",
       "       'CreationDate_que', 'Score_que', 'ViewCount', 'LastEditDate',\n",
       "       'LastActivityDate_que', 'Title', 'Tags', 'AnswerCount',\n",
       "       'CommentCount_que', 'ClosedDate', 'FavoriteCount',\n",
       "       'CommunityOwnedDate'],\n",
       "      dtype='object')"
      ]
     },
     "execution_count": 103,
     "metadata": {},
     "output_type": "execute_result"
    }
   ],
   "source": [
    "df_joined_com_a = pd.merge(df_comments_a, df_joined_ans, how='left',\n",
    "                          left_on='PostId', right_on='Id_ans')\n",
    "df_joined_com_a.columns"
   ]
  },
  {
   "cell_type": "markdown",
   "metadata": {},
   "source": [
    "The same procedure for answers."
   ]
  },
  {
   "cell_type": "code",
   "execution_count": 15,
   "metadata": {},
   "outputs": [],
   "source": [
    "df_ans_ling = pd.read_csv('../data/pipeline/a_heuristic_feats.csv')\n",
    "df_ans_ling = df_ans_ling[['Id', 'PostTypeId', 'ParentId', 'CreationDate', 'Score',\n",
    "       'Body', 'OwnerUserId', 'OwnerDisplayName', 'LastActivityDate',\n",
    "       'CommentCount', 'ContentLicense', 'cnt_keywords', 'subject',\n",
    "       'punctuation', 'negative_statement', 'sentence', 'subj_irrel',\n",
    "       'include_irrel']]"
   ]
  },
  {
   "cell_type": "code",
   "execution_count": 18,
   "metadata": {},
   "outputs": [],
   "source": [
    "df_joined_ans_ling = pd.merge(df_ans_ling, df_raw_questions[Q_FEAT_COLS], how='left', \n",
    "                         left_on='ParentId', right_on='Id',\n",
    "                        suffixes=('','_que'))"
   ]
  },
  {
   "cell_type": "code",
   "execution_count": 19,
   "metadata": {},
   "outputs": [
    {
     "name": "stdout",
     "output_type": "stream",
     "text": [
      "<class 'pandas.core.frame.DataFrame'>\n",
      "Int64Index: 598 entries, 0 to 597\n",
      "Data columns (total 30 columns):\n",
      " #   Column                Non-Null Count  Dtype  \n",
      "---  ------                --------------  -----  \n",
      " 0   Id                    598 non-null    int64  \n",
      " 1   PostTypeId            598 non-null    int64  \n",
      " 2   ParentId              598 non-null    int64  \n",
      " 3   CreationDate          598 non-null    object \n",
      " 4   Score                 598 non-null    int64  \n",
      " 5   Body                  598 non-null    object \n",
      " 6   OwnerUserId           598 non-null    object \n",
      " 7   OwnerDisplayName      598 non-null    object \n",
      " 8   LastActivityDate      598 non-null    int64  \n",
      " 9   CommentCount          598 non-null    object \n",
      " 10  ContentLicense        1 non-null      object \n",
      " 11  cnt_keywords          598 non-null    int64  \n",
      " 12  subject               185 non-null    object \n",
      " 13  punctuation           598 non-null    object \n",
      " 14  negative_statement    598 non-null    int64  \n",
      " 15  sentence              598 non-null    object \n",
      " 16  subj_irrel            598 non-null    bool   \n",
      " 17  include_irrel         598 non-null    bool   \n",
      " 18  Id_que                598 non-null    int64  \n",
      " 19  CreationDate_que      598 non-null    object \n",
      " 20  Score_que             598 non-null    int64  \n",
      " 21  ViewCount             598 non-null    int64  \n",
      " 22  LastEditDate          266 non-null    object \n",
      " 23  LastActivityDate_que  598 non-null    object \n",
      " 24  Title                 598 non-null    object \n",
      " 25  Tags                  598 non-null    object \n",
      " 26  AnswerCount           598 non-null    int64  \n",
      " 27  CommentCount_que      598 non-null    int64  \n",
      " 28  ClosedDate            8 non-null      object \n",
      " 29  FavoriteCount         212 non-null    float64\n",
      "dtypes: bool(2), float64(1), int64(12), object(15)\n",
      "memory usage: 136.7+ KB\n"
     ]
    }
   ],
   "source": [
    "df_joined_ans_ling.info()"
   ]
  },
  {
   "cell_type": "markdown",
   "metadata": {},
   "source": [
    "## Save the joined tables"
   ]
  },
  {
   "cell_type": "code",
   "execution_count": 23,
   "metadata": {},
   "outputs": [],
   "source": [
    "df_joined_com_a.to_csv(PIPE_C_A_TAGS, index=False)\n",
    "df_joined_com_q.to_csv(PIPE_C_Q_TAGS, index=False)\n",
    "df_joined_ans_ling.to_csv(PIPE_A_TAGS, index=False)"
   ]
  }
 ],
 "metadata": {
  "kernelspec": {
   "display_name": "venv-DS",
   "language": "python",
   "name": "data-science"
  },
  "language_info": {
   "codemirror_mode": {
    "name": "ipython",
    "version": 3
   },
   "file_extension": ".py",
   "mimetype": "text/x-python",
   "name": "python",
   "nbconvert_exporter": "python",
   "pygments_lexer": "ipython3",
   "version": "3.7.4"
  }
 },
 "nbformat": 4,
 "nbformat_minor": 2
}
