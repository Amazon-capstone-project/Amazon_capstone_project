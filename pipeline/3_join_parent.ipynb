{
 "cells": [
  {
   "cell_type": "markdown",
   "metadata": {},
   "source": [
    "# Feature engineering: features from parent posts"
   ]
  },
  {
   "cell_type": "markdown",
   "metadata": {},
   "source": [
    "## Read raw questions & answers data\n",
    "\n",
    "`data/raw/stackoverflow_amazon_q.csv` is actually a tsv file."
   ]
  },
  {
   "cell_type": "code",
   "execution_count": 105,
   "metadata": {},
   "outputs": [],
   "source": [
    "import pandas as pd\n",
    "\n",
    "RAW_Q = r'../data/raw/stackoverflow_amazon_q.csv'\n",
    "RAW_A = r'../data/raw/stackoverflow_amazon_a.csv'\n",
    "PIPE_C_LINGU = r'../data\\pipeline\\c_heuristic_features.csv'\n",
    "PIPE_C_Q_TAGS = r'../data/pipeline/cq_parent_feats.csv'\n",
    "PIPE_C_A_TAGS = r'../data/pipeline/ca_parent_feats.csv'"
   ]
  },
  {
   "cell_type": "code",
   "execution_count": 13,
   "metadata": {},
   "outputs": [
    {
     "name": "stderr",
     "output_type": "stream",
     "text": [
      "E:\\dev\\Python-venv\\data-science\\lib\\site-packages\\IPython\\core\\interactiveshell.py:3338: DtypeWarning: Columns (21) have mixed types.Specify dtype option on import or set low_memory=False.\n",
      "  if (await self.run_code(code, result,  async_=asy)):\n"
     ]
    }
   ],
   "source": [
    "df_raw_questions = pd.read_table(RAW_Q, delimiter='\\t', error_bad_lines=False, warn_bad_lines=False)"
   ]
  },
  {
   "cell_type": "code",
   "execution_count": 14,
   "metadata": {},
   "outputs": [
    {
     "data": {
      "text/plain": [
       "Index(['Unnamed: 0', 'Id', 'PostTypeId', 'AcceptedAnswerId', 'CreationDate',\n",
       "       'Score', 'ViewCount', 'Body', 'OwnerUserId', 'OwnerDisplayName',\n",
       "       'LastEditorUserId', 'LastEditorDisplayName', 'LastEditDate',\n",
       "       'LastActivityDate', 'Title', 'Tags', 'AnswerCount', 'CommentCount',\n",
       "       'ClosedDate', 'ContentLicense', 'FavoriteCount', 'CommunityOwnedDate'],\n",
       "      dtype='object')"
      ]
     },
     "execution_count": 14,
     "metadata": {},
     "output_type": "execute_result"
    }
   ],
   "source": [
    "df_raw_questions.columns"
   ]
  },
  {
   "cell_type": "code",
   "execution_count": 15,
   "metadata": {
    "collapsed": true
   },
   "outputs": [
    {
     "name": "stdout",
     "output_type": "stream",
     "text": [
      "<class 'pandas.core.frame.DataFrame'>\n",
      "RangeIndex: 159515 entries, 0 to 159514\n",
      "Data columns (total 22 columns):\n",
      " #   Column                 Non-Null Count   Dtype  \n",
      "---  ------                 --------------   -----  \n",
      " 0   Unnamed: 0             159515 non-null  int64  \n",
      " 1   Id                     159515 non-null  int64  \n",
      " 2   PostTypeId             159515 non-null  int64  \n",
      " 3   AcceptedAnswerId       63417 non-null   float64\n",
      " 4   CreationDate           159515 non-null  object \n",
      " 5   Score                  159515 non-null  int64  \n",
      " 6   ViewCount              159515 non-null  int64  \n",
      " 7   Body                   159515 non-null  object \n",
      " 8   OwnerUserId            158175 non-null  float64\n",
      " 9   OwnerDisplayName       1506 non-null    object \n",
      " 10  LastEditorUserId       71278 non-null   float64\n",
      " 11  LastEditorDisplayName  610 non-null     object \n",
      " 12  LastEditDate           71798 non-null   object \n",
      " 13  LastActivityDate       159515 non-null  object \n",
      " 14  Title                  159515 non-null  object \n",
      " 15  Tags                   159515 non-null  object \n",
      " 16  AnswerCount            159515 non-null  int64  \n",
      " 17  CommentCount           159515 non-null  int64  \n",
      " 18  ClosedDate             2587 non-null    object \n",
      " 19  ContentLicense         159515 non-null  object \n",
      " 20  FavoriteCount          34920 non-null   float64\n",
      " 21  CommunityOwnedDate     21 non-null      object \n",
      "dtypes: float64(4), int64(7), object(11)\n",
      "memory usage: 26.8+ MB\n"
     ]
    }
   ],
   "source": [
    "df_raw_questions.info()"
   ]
  },
  {
   "cell_type": "code",
   "execution_count": 6,
   "metadata": {
    "collapsed": true
   },
   "outputs": [
    {
     "data": {
      "text/html": [
       "<div>\n",
       "<style scoped>\n",
       "    .dataframe tbody tr th:only-of-type {\n",
       "        vertical-align: middle;\n",
       "    }\n",
       "\n",
       "    .dataframe tbody tr th {\n",
       "        vertical-align: top;\n",
       "    }\n",
       "\n",
       "    .dataframe thead th {\n",
       "        text-align: right;\n",
       "    }\n",
       "</style>\n",
       "<table border=\"1\" class=\"dataframe\">\n",
       "  <thead>\n",
       "    <tr style=\"text-align: right;\">\n",
       "      <th></th>\n",
       "      <th>Unnamed: 0</th>\n",
       "      <th>Id</th>\n",
       "      <th>PostTypeId</th>\n",
       "      <th>AcceptedAnswerId</th>\n",
       "      <th>CreationDate</th>\n",
       "      <th>Score</th>\n",
       "      <th>ViewCount</th>\n",
       "      <th>Body</th>\n",
       "      <th>OwnerUserId</th>\n",
       "      <th>OwnerDisplayName</th>\n",
       "      <th>...</th>\n",
       "      <th>LastEditDate</th>\n",
       "      <th>LastActivityDate</th>\n",
       "      <th>Title</th>\n",
       "      <th>Tags</th>\n",
       "      <th>AnswerCount</th>\n",
       "      <th>CommentCount</th>\n",
       "      <th>ClosedDate</th>\n",
       "      <th>ContentLicense</th>\n",
       "      <th>FavoriteCount</th>\n",
       "      <th>CommunityOwnedDate</th>\n",
       "    </tr>\n",
       "  </thead>\n",
       "  <tbody>\n",
       "    <tr>\n",
       "      <th>0</th>\n",
       "      <td>0</td>\n",
       "      <td>22465</td>\n",
       "      <td>1</td>\n",
       "      <td>158640.0</td>\n",
       "      <td>2008-08-22T14:19:13.223</td>\n",
       "      <td>1</td>\n",
       "      <td>392</td>\n",
       "      <td>&lt;p&gt;I've come to love &lt;a href=\"http://en.wikipe...</td>\n",
       "      <td>635.0</td>\n",
       "      <td>Rupert</td>\n",
       "      <td>...</td>\n",
       "      <td>2008-08-23T05:03:41.800</td>\n",
       "      <td>2012-09-18T13:47:59.853</td>\n",
       "      <td>I'm looking for a Windows hosting provider tha...</td>\n",
       "      <td>&lt;hosting&gt;&lt;windows-server-2003&gt;&lt;amazon-ec2&gt;&lt;vir...</td>\n",
       "      <td>5</td>\n",
       "      <td>0</td>\n",
       "      <td>2016-10-07T02:10:13.753</td>\n",
       "      <td>CC BY-SA 2.5</td>\n",
       "      <td>NaN</td>\n",
       "      <td>NaN</td>\n",
       "    </tr>\n",
       "    <tr>\n",
       "      <th>1</th>\n",
       "      <td>1</td>\n",
       "      <td>22556</td>\n",
       "      <td>1</td>\n",
       "      <td>NaN</td>\n",
       "      <td>2008-08-22T14:50:18.640</td>\n",
       "      <td>2</td>\n",
       "      <td>2427</td>\n",
       "      <td>&lt;p&gt;Is Amazon Web Services a realistic platform...</td>\n",
       "      <td>NaN</td>\n",
       "      <td>Rick Nash</td>\n",
       "      <td>...</td>\n",
       "      <td>2012-05-03T01:10:06.220</td>\n",
       "      <td>2015-11-13T13:43:47.643</td>\n",
       "      <td>Amazon Web Services</td>\n",
       "      <td>&lt;web-services&gt;&lt;amazon-web-services&gt;&lt;cloud&gt;</td>\n",
       "      <td>8</td>\n",
       "      <td>2</td>\n",
       "      <td>2017-01-29T08:55:25.627</td>\n",
       "      <td>CC BY-SA 2.5</td>\n",
       "      <td>NaN</td>\n",
       "      <td>NaN</td>\n",
       "    </tr>\n",
       "    <tr>\n",
       "      <th>2</th>\n",
       "      <td>2</td>\n",
       "      <td>27267</td>\n",
       "      <td>1</td>\n",
       "      <td>NaN</td>\n",
       "      <td>2008-08-26T02:12:06.790</td>\n",
       "      <td>56</td>\n",
       "      <td>50394</td>\n",
       "      <td>&lt;p&gt;I've been interacting with Amazon S3 throug...</td>\n",
       "      <td>658.0</td>\n",
       "      <td>Kyle</td>\n",
       "      <td>...</td>\n",
       "      <td>2012-05-03T02:03:39.923</td>\n",
       "      <td>2014-08-14T16:49:06.770</td>\n",
       "      <td>Delete Amazon S3 buckets?</td>\n",
       "      <td>&lt;amazon-s3&gt;&lt;buckets&gt;</td>\n",
       "      <td>23</td>\n",
       "      <td>2</td>\n",
       "      <td>2012-09-27T19:14:30.190</td>\n",
       "      <td>CC BY-SA 2.5</td>\n",
       "      <td>30.0</td>\n",
       "      <td>NaN</td>\n",
       "    </tr>\n",
       "    <tr>\n",
       "      <th>3</th>\n",
       "      <td>3</td>\n",
       "      <td>27899</td>\n",
       "      <td>1</td>\n",
       "      <td>5040105.0</td>\n",
       "      <td>2008-08-26T12:30:19.253</td>\n",
       "      <td>32</td>\n",
       "      <td>21475</td>\n",
       "      <td>&lt;p&gt;Is there a way to make S3 default to an ind...</td>\n",
       "      <td>2961.0</td>\n",
       "      <td>Stu Thompson</td>\n",
       "      <td>...</td>\n",
       "      <td>2017-07-18T16:00:53.777</td>\n",
       "      <td>2019-09-17T07:51:26.657</td>\n",
       "      <td>Is there a way to have index.html functionalit...</td>\n",
       "      <td>&lt;amazon-s3&gt;&lt;amazon-web-services&gt;</td>\n",
       "      <td>7</td>\n",
       "      <td>0</td>\n",
       "      <td>NaN</td>\n",
       "      <td>CC BY-SA 3.0</td>\n",
       "      <td>9.0</td>\n",
       "      <td>NaN</td>\n",
       "    </tr>\n",
       "    <tr>\n",
       "      <th>4</th>\n",
       "      <td>4</td>\n",
       "      <td>30454</td>\n",
       "      <td>1</td>\n",
       "      <td>30586.0</td>\n",
       "      <td>2008-08-27T15:31:27.517</td>\n",
       "      <td>4</td>\n",
       "      <td>2649</td>\n",
       "      <td>&lt;p&gt;So I wrote some perl that would parse resul...</td>\n",
       "      <td>2863.0</td>\n",
       "      <td>Scott G</td>\n",
       "      <td>...</td>\n",
       "      <td>2012-05-03T02:00:52.297</td>\n",
       "      <td>2012-05-03T02:00:52.297</td>\n",
       "      <td>Parsing XML Elements &amp; Attributes with Perl</td>\n",
       "      <td>&lt;xml&gt;&lt;perl&gt;&lt;amazon-web-services&gt;</td>\n",
       "      <td>1</td>\n",
       "      <td>0</td>\n",
       "      <td>NaN</td>\n",
       "      <td>CC BY-SA 3.0</td>\n",
       "      <td>1.0</td>\n",
       "      <td>NaN</td>\n",
       "    </tr>\n",
       "    <tr>\n",
       "      <th>...</th>\n",
       "      <td>...</td>\n",
       "      <td>...</td>\n",
       "      <td>...</td>\n",
       "      <td>...</td>\n",
       "      <td>...</td>\n",
       "      <td>...</td>\n",
       "      <td>...</td>\n",
       "      <td>...</td>\n",
       "      <td>...</td>\n",
       "      <td>...</td>\n",
       "      <td>...</td>\n",
       "      <td>...</td>\n",
       "      <td>...</td>\n",
       "      <td>...</td>\n",
       "      <td>...</td>\n",
       "      <td>...</td>\n",
       "      <td>...</td>\n",
       "      <td>...</td>\n",
       "      <td>...</td>\n",
       "      <td>...</td>\n",
       "      <td>...</td>\n",
       "    </tr>\n",
       "    <tr>\n",
       "      <th>159510</th>\n",
       "      <td>159510</td>\n",
       "      <td>63760209</td>\n",
       "      <td>1</td>\n",
       "      <td>NaN</td>\n",
       "      <td>2020-09-06T02:35:15.897</td>\n",
       "      <td>0</td>\n",
       "      <td>6</td>\n",
       "      <td>&lt;p&gt;Im trying to connect to my aws keyspaces us...</td>\n",
       "      <td>4023367.0</td>\n",
       "      <td>NaN</td>\n",
       "      <td>...</td>\n",
       "      <td>NaN</td>\n",
       "      <td>2020-09-06T02:35:15.897</td>\n",
       "      <td>Connect to AWS keyspaces with Spring reactive ...</td>\n",
       "      <td>&lt;java&gt;&lt;spring&gt;&lt;amazon-web-services&gt;&lt;cassandra&gt;...</td>\n",
       "      <td>0</td>\n",
       "      <td>0</td>\n",
       "      <td>NaN</td>\n",
       "      <td>CC BY-SA 4.0</td>\n",
       "      <td>NaN</td>\n",
       "      <td>NaN</td>\n",
       "    </tr>\n",
       "    <tr>\n",
       "      <th>159511</th>\n",
       "      <td>159511</td>\n",
       "      <td>63760258</td>\n",
       "      <td>1</td>\n",
       "      <td>NaN</td>\n",
       "      <td>2020-09-06T02:46:39.030</td>\n",
       "      <td>0</td>\n",
       "      <td>7</td>\n",
       "      <td>&lt;p&gt;I'm trying to get at the Common Crawl news ...</td>\n",
       "      <td>10631953.0</td>\n",
       "      <td>NaN</td>\n",
       "      <td>...</td>\n",
       "      <td>NaN</td>\n",
       "      <td>2020-09-06T02:46:39.030</td>\n",
       "      <td>AWS credentials required for Common Crawl S3 b...</td>\n",
       "      <td>&lt;amazon-s3&gt;&lt;common-crawl&gt;&lt;aws-credentials&gt;</td>\n",
       "      <td>0</td>\n",
       "      <td>0</td>\n",
       "      <td>NaN</td>\n",
       "      <td>CC BY-SA 4.0</td>\n",
       "      <td>NaN</td>\n",
       "      <td>NaN</td>\n",
       "    </tr>\n",
       "    <tr>\n",
       "      <th>159512</th>\n",
       "      <td>159512</td>\n",
       "      <td>63760591</td>\n",
       "      <td>1</td>\n",
       "      <td>NaN</td>\n",
       "      <td>2020-09-06T04:01:15.807</td>\n",
       "      <td>0</td>\n",
       "      <td>11</td>\n",
       "      <td>&lt;p&gt;I am trying to query items in a table with ...</td>\n",
       "      <td>8883956.0</td>\n",
       "      <td>NaN</td>\n",
       "      <td>...</td>\n",
       "      <td>NaN</td>\n",
       "      <td>2020-09-06T04:01:15.807</td>\n",
       "      <td>NodeJS - how to query with multiple CONTAINS e...</td>\n",
       "      <td>&lt;node.js&gt;&lt;amazon-web-services&gt;&lt;filter&gt;&lt;amazon-...</td>\n",
       "      <td>0</td>\n",
       "      <td>0</td>\n",
       "      <td>NaN</td>\n",
       "      <td>CC BY-SA 4.0</td>\n",
       "      <td>NaN</td>\n",
       "      <td>NaN</td>\n",
       "    </tr>\n",
       "    <tr>\n",
       "      <th>159513</th>\n",
       "      <td>159513</td>\n",
       "      <td>63760680</td>\n",
       "      <td>1</td>\n",
       "      <td>NaN</td>\n",
       "      <td>2020-09-06T04:21:28.450</td>\n",
       "      <td>0</td>\n",
       "      <td>16</td>\n",
       "      <td>&lt;p&gt;I have an ec2 instance with a load balancer...</td>\n",
       "      <td>13919145.0</td>\n",
       "      <td>NaN</td>\n",
       "      <td>...</td>\n",
       "      <td>NaN</td>\n",
       "      <td>2020-09-06T04:26:58.883</td>\n",
       "      <td>Prevent anyone from accessing my bucket unless...</td>\n",
       "      <td>&lt;amazon-web-services&gt;&lt;amazon-s3&gt;</td>\n",
       "      <td>1</td>\n",
       "      <td>0</td>\n",
       "      <td>NaN</td>\n",
       "      <td>CC BY-SA 4.0</td>\n",
       "      <td>NaN</td>\n",
       "      <td>NaN</td>\n",
       "    </tr>\n",
       "    <tr>\n",
       "      <th>159514</th>\n",
       "      <td>159514</td>\n",
       "      <td>63760731</td>\n",
       "      <td>1</td>\n",
       "      <td>NaN</td>\n",
       "      <td>2020-09-06T04:35:17.833</td>\n",
       "      <td>0</td>\n",
       "      <td>9</td>\n",
       "      <td>&lt;h1&gt;deploy free trial on amazon elastic beans&lt;...</td>\n",
       "      <td>1278915.0</td>\n",
       "      <td>NaN</td>\n",
       "      <td>...</td>\n",
       "      <td>NaN</td>\n",
       "      <td>2020-09-06T04:39:20.573</td>\n",
       "      <td>Deploy on aws elastic beans stakoverflow</td>\n",
       "      <td>&lt;java&gt;&lt;amazon-elastic-beanstalk&gt;</td>\n",
       "      <td>1</td>\n",
       "      <td>0</td>\n",
       "      <td>NaN</td>\n",
       "      <td>CC BY-SA 4.0</td>\n",
       "      <td>NaN</td>\n",
       "      <td>NaN</td>\n",
       "    </tr>\n",
       "  </tbody>\n",
       "</table>\n",
       "<p>159515 rows × 22 columns</p>\n",
       "</div>"
      ],
      "text/plain": [
       "        Unnamed: 0        Id  PostTypeId  AcceptedAnswerId  \\\n",
       "0                0     22465           1          158640.0   \n",
       "1                1     22556           1               NaN   \n",
       "2                2     27267           1               NaN   \n",
       "3                3     27899           1         5040105.0   \n",
       "4                4     30454           1           30586.0   \n",
       "...            ...       ...         ...               ...   \n",
       "159510      159510  63760209           1               NaN   \n",
       "159511      159511  63760258           1               NaN   \n",
       "159512      159512  63760591           1               NaN   \n",
       "159513      159513  63760680           1               NaN   \n",
       "159514      159514  63760731           1               NaN   \n",
       "\n",
       "                   CreationDate  Score  ViewCount  \\\n",
       "0       2008-08-22T14:19:13.223      1        392   \n",
       "1       2008-08-22T14:50:18.640      2       2427   \n",
       "2       2008-08-26T02:12:06.790     56      50394   \n",
       "3       2008-08-26T12:30:19.253     32      21475   \n",
       "4       2008-08-27T15:31:27.517      4       2649   \n",
       "...                         ...    ...        ...   \n",
       "159510  2020-09-06T02:35:15.897      0          6   \n",
       "159511  2020-09-06T02:46:39.030      0          7   \n",
       "159512  2020-09-06T04:01:15.807      0         11   \n",
       "159513  2020-09-06T04:21:28.450      0         16   \n",
       "159514  2020-09-06T04:35:17.833      0          9   \n",
       "\n",
       "                                                     Body  OwnerUserId  \\\n",
       "0       <p>I've come to love <a href=\"http://en.wikipe...        635.0   \n",
       "1       <p>Is Amazon Web Services a realistic platform...          NaN   \n",
       "2       <p>I've been interacting with Amazon S3 throug...        658.0   \n",
       "3       <p>Is there a way to make S3 default to an ind...       2961.0   \n",
       "4       <p>So I wrote some perl that would parse resul...       2863.0   \n",
       "...                                                   ...          ...   \n",
       "159510  <p>Im trying to connect to my aws keyspaces us...    4023367.0   \n",
       "159511  <p>I'm trying to get at the Common Crawl news ...   10631953.0   \n",
       "159512  <p>I am trying to query items in a table with ...    8883956.0   \n",
       "159513  <p>I have an ec2 instance with a load balancer...   13919145.0   \n",
       "159514  <h1>deploy free trial on amazon elastic beans<...    1278915.0   \n",
       "\n",
       "       OwnerDisplayName  ...             LastEditDate  \\\n",
       "0                Rupert  ...  2008-08-23T05:03:41.800   \n",
       "1             Rick Nash  ...  2012-05-03T01:10:06.220   \n",
       "2                  Kyle  ...  2012-05-03T02:03:39.923   \n",
       "3          Stu Thompson  ...  2017-07-18T16:00:53.777   \n",
       "4               Scott G  ...  2012-05-03T02:00:52.297   \n",
       "...                 ...  ...                      ...   \n",
       "159510              NaN  ...                      NaN   \n",
       "159511              NaN  ...                      NaN   \n",
       "159512              NaN  ...                      NaN   \n",
       "159513              NaN  ...                      NaN   \n",
       "159514              NaN  ...                      NaN   \n",
       "\n",
       "               LastActivityDate  \\\n",
       "0       2012-09-18T13:47:59.853   \n",
       "1       2015-11-13T13:43:47.643   \n",
       "2       2014-08-14T16:49:06.770   \n",
       "3       2019-09-17T07:51:26.657   \n",
       "4       2012-05-03T02:00:52.297   \n",
       "...                         ...   \n",
       "159510  2020-09-06T02:35:15.897   \n",
       "159511  2020-09-06T02:46:39.030   \n",
       "159512  2020-09-06T04:01:15.807   \n",
       "159513  2020-09-06T04:26:58.883   \n",
       "159514  2020-09-06T04:39:20.573   \n",
       "\n",
       "                                                    Title  \\\n",
       "0       I'm looking for a Windows hosting provider tha...   \n",
       "1                                     Amazon Web Services   \n",
       "2                               Delete Amazon S3 buckets?   \n",
       "3       Is there a way to have index.html functionalit...   \n",
       "4             Parsing XML Elements & Attributes with Perl   \n",
       "...                                                   ...   \n",
       "159510  Connect to AWS keyspaces with Spring reactive ...   \n",
       "159511  AWS credentials required for Common Crawl S3 b...   \n",
       "159512  NodeJS - how to query with multiple CONTAINS e...   \n",
       "159513  Prevent anyone from accessing my bucket unless...   \n",
       "159514           Deploy on aws elastic beans stakoverflow   \n",
       "\n",
       "                                                     Tags AnswerCount  \\\n",
       "0       <hosting><windows-server-2003><amazon-ec2><vir...           5   \n",
       "1              <web-services><amazon-web-services><cloud>           8   \n",
       "2                                    <amazon-s3><buckets>          23   \n",
       "3                        <amazon-s3><amazon-web-services>           7   \n",
       "4                        <xml><perl><amazon-web-services>           1   \n",
       "...                                                   ...         ...   \n",
       "159510  <java><spring><amazon-web-services><cassandra>...           0   \n",
       "159511         <amazon-s3><common-crawl><aws-credentials>           0   \n",
       "159512  <node.js><amazon-web-services><filter><amazon-...           0   \n",
       "159513                   <amazon-web-services><amazon-s3>           1   \n",
       "159514                   <java><amazon-elastic-beanstalk>           1   \n",
       "\n",
       "       CommentCount               ClosedDate  ContentLicense FavoriteCount  \\\n",
       "0                 0  2016-10-07T02:10:13.753    CC BY-SA 2.5           NaN   \n",
       "1                 2  2017-01-29T08:55:25.627    CC BY-SA 2.5           NaN   \n",
       "2                 2  2012-09-27T19:14:30.190    CC BY-SA 2.5          30.0   \n",
       "3                 0                      NaN    CC BY-SA 3.0           9.0   \n",
       "4                 0                      NaN    CC BY-SA 3.0           1.0   \n",
       "...             ...                      ...             ...           ...   \n",
       "159510            0                      NaN    CC BY-SA 4.0           NaN   \n",
       "159511            0                      NaN    CC BY-SA 4.0           NaN   \n",
       "159512            0                      NaN    CC BY-SA 4.0           NaN   \n",
       "159513            0                      NaN    CC BY-SA 4.0           NaN   \n",
       "159514            0                      NaN    CC BY-SA 4.0           NaN   \n",
       "\n",
       "       CommunityOwnedDate  \n",
       "0                     NaN  \n",
       "1                     NaN  \n",
       "2                     NaN  \n",
       "3                     NaN  \n",
       "4                     NaN  \n",
       "...                   ...  \n",
       "159510                NaN  \n",
       "159511                NaN  \n",
       "159512                NaN  \n",
       "159513                NaN  \n",
       "159514                NaN  \n",
       "\n",
       "[159515 rows x 22 columns]"
      ]
     },
     "execution_count": 6,
     "metadata": {},
     "output_type": "execute_result"
    }
   ],
   "source": [
    "df_raw_questions"
   ]
  },
  {
   "cell_type": "code",
   "execution_count": 16,
   "metadata": {
    "scrolled": true
   },
   "outputs": [
    {
     "data": {
      "text/plain": [
       "0         <hosting><windows-server-2003><amazon-ec2><vir...\n",
       "1                <web-services><amazon-web-services><cloud>\n",
       "2                                      <amazon-s3><buckets>\n",
       "3                          <amazon-s3><amazon-web-services>\n",
       "4                          <xml><perl><amazon-web-services>\n",
       "                                ...                        \n",
       "159510    <java><spring><amazon-web-services><cassandra>...\n",
       "159511           <amazon-s3><common-crawl><aws-credentials>\n",
       "159512    <node.js><amazon-web-services><filter><amazon-...\n",
       "159513                     <amazon-web-services><amazon-s3>\n",
       "159514                     <java><amazon-elastic-beanstalk>\n",
       "Name: Tags, Length: 159515, dtype: object"
      ]
     },
     "execution_count": 16,
     "metadata": {},
     "output_type": "execute_result"
    }
   ],
   "source": [
    "df_raw_questions['Tags']"
   ]
  },
  {
   "cell_type": "code",
   "execution_count": 24,
   "metadata": {},
   "outputs": [
    {
     "name": "stderr",
     "output_type": "stream",
     "text": [
      "E:\\dev\\Python-venv\\data-science\\lib\\site-packages\\IPython\\core\\interactiveshell.py:3147: DtypeWarning: Columns (8) have mixed types.Specify dtype option on import or set low_memory=False.\n",
      "  interactivity=interactivity, compiler=compiler, result=result)\n"
     ]
    }
   ],
   "source": [
    "df_raw_answers = pd.read_csv(RAW_A, error_bad_lines=False, warn_bad_lines=False)"
   ]
  },
  {
   "cell_type": "code",
   "execution_count": 25,
   "metadata": {},
   "outputs": [
    {
     "data": {
      "text/plain": [
       "Index(['Id', 'PostTypeId', 'ParentId', 'CreationDate', 'Score', 'Body',\n",
       "       'OwnerUserId', 'OwnerDisplayName', 'LastActivityDate', 'CommentCount',\n",
       "       'ContentLicense'],\n",
       "      dtype='object')"
      ]
     },
     "execution_count": 25,
     "metadata": {},
     "output_type": "execute_result"
    }
   ],
   "source": [
    "df_raw_answers.columns"
   ]
  },
  {
   "cell_type": "code",
   "execution_count": 26,
   "metadata": {},
   "outputs": [
    {
     "name": "stdout",
     "output_type": "stream",
     "text": [
      "<class 'pandas.core.frame.DataFrame'>\n",
      "RangeIndex: 148406 entries, 0 to 148405\n",
      "Data columns (total 11 columns):\n",
      " #   Column            Non-Null Count   Dtype \n",
      "---  ------            --------------   ----- \n",
      " 0   Id                148406 non-null  int64 \n",
      " 1   PostTypeId        148406 non-null  int64 \n",
      " 2   ParentId          148406 non-null  int64 \n",
      " 3   CreationDate      148406 non-null  object\n",
      " 4   Score             148406 non-null  int64 \n",
      " 5   Body              148406 non-null  object\n",
      " 6   OwnerUserId       148406 non-null  object\n",
      " 7   OwnerDisplayName  148406 non-null  object\n",
      " 8   LastActivityDate  148406 non-null  object\n",
      " 9   CommentCount      148405 non-null  object\n",
      " 10  ContentLicense    507 non-null     object\n",
      "dtypes: int64(4), object(7)\n",
      "memory usage: 12.5+ MB\n"
     ]
    }
   ],
   "source": [
    "df_raw_answers.info()"
   ]
  },
  {
   "cell_type": "markdown",
   "metadata": {},
   "source": [
    "## Read outdated comments & answers\n",
    "\n",
    "Data for answers is WIP.\n",
    "\n",
    "It seems I got the opposite value for 'of_answer' column: a_id is in questions IDs, q_id is in answers IDs."
   ]
  },
  {
   "cell_type": "code",
   "execution_count": 20,
   "metadata": {},
   "outputs": [],
   "source": [
    "df_outdated_comments = pd.read_csv(PIPE_C_LINGU)"
   ]
  },
  {
   "cell_type": "code",
   "execution_count": 28,
   "metadata": {},
   "outputs": [
    {
     "data": {
      "text/plain": [
       "Index(['Id', 'PostId', 'Score', 'Text', 'CreationDate', 'UserId',\n",
       "       'ContentLicense', 'of_answer', 'cnt_keywords', 'subject', 'punctuation',\n",
       "       'negative_statement', 'sentence', 'subj_irrel', 'include_irrel'],\n",
       "      dtype='object')"
      ]
     },
     "execution_count": 28,
     "metadata": {},
     "output_type": "execute_result"
    }
   ],
   "source": [
    "df_outdated_comments.columns"
   ]
  },
  {
   "cell_type": "code",
   "execution_count": 34,
   "metadata": {},
   "outputs": [],
   "source": [
    "a_id_set = set(df_outdated_comments[df_outdated_comments['of_answer'] == False]['PostId'])\n",
    "q_id_set = set(df_outdated_comments[df_outdated_comments['of_answer'] == True]['PostId'])"
   ]
  },
  {
   "cell_type": "code",
   "execution_count": 38,
   "metadata": {
    "collapsed": true
   },
   "outputs": [
    {
     "data": {
      "text/plain": [
       "{327169,\n",
       " 454355,\n",
       " 534774,\n",
       " 1204191,\n",
       " 1390977,\n",
       " 1496066,\n",
       " 1764988,\n",
       " 5093309,\n",
       " 6735850,\n",
       " 7170438,\n",
       " 7864988,\n",
       " 8686125,\n",
       " 9589531,\n",
       " 9592298,\n",
       " 10824033,\n",
       " 11706238,\n",
       " 12057376,\n",
       " 13148962,\n",
       " 13809353,\n",
       " 14258470,\n",
       " 14399249,\n",
       " 15176656,\n",
       " 15536803,\n",
       " 15550433,\n",
       " 15566241,\n",
       " 16444306,\n",
       " 17963734,\n",
       " 19095925,\n",
       " 19922974,\n",
       " 20112354,\n",
       " 20181771,\n",
       " 20450454,\n",
       " 20912041,\n",
       " 20983127,\n",
       " 21166320,\n",
       " 21814486,\n",
       " 22081454,\n",
       " 22130214,\n",
       " 22452794,\n",
       " 22492669,\n",
       " 22538885,\n",
       " 22592128,\n",
       " 22653307,\n",
       " 22666177,\n",
       " 22748594,\n",
       " 23120203,\n",
       " 23687081,\n",
       " 24048729,\n",
       " 24832333,\n",
       " 24965550,\n",
       " 24998286,\n",
       " 25266444,\n",
       " 25585845,\n",
       " 25669766,\n",
       " 25721960,\n",
       " 25780806,\n",
       " 25810197,\n",
       " 25943805,\n",
       " 26040485,\n",
       " 26245942,\n",
       " 27220857,\n",
       " 27617147,\n",
       " 27721587,\n",
       " 28308210,\n",
       " 28421570,\n",
       " 28657918,\n",
       " 28704869,\n",
       " 28943067,\n",
       " 28994339,\n",
       " 29039296,\n",
       " 29166595,\n",
       " 29556043,\n",
       " 30005655,\n",
       " 30208167,\n",
       " 30519246,\n",
       " 30573006,\n",
       " 31461474,\n",
       " 31493443,\n",
       " 31765273,\n",
       " 32030489,\n",
       " 32356333,\n",
       " 32811227,\n",
       " 32853050,\n",
       " 33026648,\n",
       " 33135286,\n",
       " 33142530,\n",
       " 33166518,\n",
       " 33231810,\n",
       " 33275885,\n",
       " 33969384,\n",
       " 34485241,\n",
       " 34736988,\n",
       " 34900057,\n",
       " 35468996,\n",
       " 35574645,\n",
       " 35642848,\n",
       " 35841395,\n",
       " 35992215,\n",
       " 35999472,\n",
       " 36127475,\n",
       " 36475234,\n",
       " 36489536,\n",
       " 36538720,\n",
       " 36553218,\n",
       " 36594364,\n",
       " 36830462,\n",
       " 36877647,\n",
       " 37212385,\n",
       " 37273062,\n",
       " 37502807,\n",
       " 37597388,\n",
       " 37747840,\n",
       " 37748481,\n",
       " 37985339,\n",
       " 38300450,\n",
       " 38359801,\n",
       " 38568310,\n",
       " 38601341,\n",
       " 38693213,\n",
       " 38848549,\n",
       " 38992170,\n",
       " 39144500,\n",
       " 39214623,\n",
       " 39299548,\n",
       " 39310433,\n",
       " 39685162,\n",
       " 39772259,\n",
       " 39791585,\n",
       " 39813634,\n",
       " 40124794,\n",
       " 40319983,\n",
       " 40367382,\n",
       " 40513729,\n",
       " 40607343,\n",
       " 41448626,\n",
       " 41456423,\n",
       " 41461307,\n",
       " 41565297,\n",
       " 41743379,\n",
       " 42041790,\n",
       " 42196222,\n",
       " 42301135,\n",
       " 42540154,\n",
       " 42572050,\n",
       " 42588740,\n",
       " 42616814,\n",
       " 43020026,\n",
       " 43200433,\n",
       " 43207068,\n",
       " 43208129,\n",
       " 43355074,\n",
       " 43533010,\n",
       " 43715537,\n",
       " 43970207,\n",
       " 44234718,\n",
       " 44331491,\n",
       " 44339167,\n",
       " 44481490,\n",
       " 44585509,\n",
       " 44694409,\n",
       " 44745294,\n",
       " 44881026,\n",
       " 44938395,\n",
       " 45181146,\n",
       " 45307493,\n",
       " 45433734,\n",
       " 45464521,\n",
       " 45470456,\n",
       " 45509283,\n",
       " 45708589,\n",
       " 45711312,\n",
       " 45806031,\n",
       " 45828477,\n",
       " 46201976,\n",
       " 46247669,\n",
       " 46291252,\n",
       " 46354628,\n",
       " 46483464,\n",
       " 46672074,\n",
       " 46866421,\n",
       " 46958123,\n",
       " 46994257,\n",
       " 47022625,\n",
       " 47107153,\n",
       " 47115455,\n",
       " 47122894,\n",
       " 47129430,\n",
       " 47221383,\n",
       " 47461163,\n",
       " 47516633,\n",
       " 47603687,\n",
       " 47701044,\n",
       " 47818985,\n",
       " 47837489,\n",
       " 47839648,\n",
       " 47890003,\n",
       " 47954275,\n",
       " 47976502,\n",
       " 48138088,\n",
       " 48198736,\n",
       " 48247353,\n",
       " 48300124,\n",
       " 48306161,\n",
       " 48311411,\n",
       " 48340877,\n",
       " 48471883,\n",
       " 48490170,\n",
       " 48522013,\n",
       " 48536001,\n",
       " 48634396,\n",
       " 48697976,\n",
       " 48883332,\n",
       " 48990710,\n",
       " 49292936,\n",
       " 49752032,\n",
       " 49777518,\n",
       " 50079279,\n",
       " 50194454,\n",
       " 50304155,\n",
       " 50362408,\n",
       " 50404517,\n",
       " 50461966,\n",
       " 50769351,\n",
       " 50823092,\n",
       " 50856581,\n",
       " 50866472,\n",
       " 50937481,\n",
       " 51034175,\n",
       " 51181359,\n",
       " 51398395,\n",
       " 51467811,\n",
       " 51544101,\n",
       " 51709317,\n",
       " 51723922,\n",
       " 51874779,\n",
       " 51930733,\n",
       " 51960884,\n",
       " 52324190,\n",
       " 52435807,\n",
       " 52556989,\n",
       " 52596370,\n",
       " 52651688,\n",
       " 52999046,\n",
       " 53085639,\n",
       " 53179652,\n",
       " 53216405,\n",
       " 53369224,\n",
       " 53476616,\n",
       " 53476813,\n",
       " 53553622,\n",
       " 53646566,\n",
       " 53782781,\n",
       " 53837914,\n",
       " 53909393,\n",
       " 53933424,\n",
       " 54017617,\n",
       " 54087935,\n",
       " 54188428,\n",
       " 54205808,\n",
       " 54372899,\n",
       " 54518637,\n",
       " 54793135,\n",
       " 54846513,\n",
       " 54875545,\n",
       " 55026078,\n",
       " 55102715,\n",
       " 55225922,\n",
       " 55282027,\n",
       " 55315599,\n",
       " 55473732,\n",
       " 55608473,\n",
       " 55871536,\n",
       " 55878755,\n",
       " 55939739,\n",
       " 56034450,\n",
       " 56319766,\n",
       " 56457420,\n",
       " 56497613,\n",
       " 56630460,\n",
       " 57078934,\n",
       " 57099076,\n",
       " 57273290,\n",
       " 57403090,\n",
       " 57464425,\n",
       " 57485394,\n",
       " 57646174,\n",
       " 57708294,\n",
       " 57812080,\n",
       " 57845586,\n",
       " 57892061,\n",
       " 57959965,\n",
       " 58045422,\n",
       " 58142902,\n",
       " 58237518,\n",
       " 58321545,\n",
       " 58362062,\n",
       " 58547705,\n",
       " 58763005,\n",
       " 58812207,\n",
       " 58828358,\n",
       " 58853686,\n",
       " 58951511,\n",
       " 59071423,\n",
       " 59144875,\n",
       " 59157219,\n",
       " 59390145,\n",
       " 59531126,\n",
       " 59541382,\n",
       " 59562704,\n",
       " 59575949,\n",
       " 59603533,\n",
       " 59897101,\n",
       " 59919041,\n",
       " 60401206,\n",
       " 60494993,\n",
       " 60500683,\n",
       " 60544631,\n",
       " 60695995,\n",
       " 60813333,\n",
       " 60849527,\n",
       " 60901883,\n",
       " 61068708,\n",
       " 61341659,\n",
       " 61544570,\n",
       " 61627501,\n",
       " 61736751,\n",
       " 61876285,\n",
       " 61918972,\n",
       " 61930494,\n",
       " 61955303,\n",
       " 62104602,\n",
       " 62242033,\n",
       " 62323590,\n",
       " 62339253,\n",
       " 62458133,\n",
       " 62579564,\n",
       " 62674909,\n",
       " 62757921,\n",
       " 62860407,\n",
       " 63100553,\n",
       " 63241324,\n",
       " 63640052,\n",
       " 63644158,\n",
       " 63679395,\n",
       " 63695581}"
      ]
     },
     "execution_count": 38,
     "metadata": {},
     "output_type": "execute_result"
    }
   ],
   "source": [
    "a_id_set"
   ]
  },
  {
   "cell_type": "code",
   "execution_count": 46,
   "metadata": {},
   "outputs": [
    {
     "data": {
      "text/plain": [
       "0"
      ]
     },
     "execution_count": 46,
     "metadata": {},
     "output_type": "execute_result"
    }
   ],
   "source": [
    "sum(df_raw_answers['Id'].isin(a_id_set))"
   ]
  },
  {
   "cell_type": "code",
   "execution_count": 62,
   "metadata": {},
   "outputs": [
    {
     "data": {
      "text/plain": [
       "Index(['Unnamed: 0', 'Id', 'PostTypeId', 'AcceptedAnswerId', 'CreationDate',\n",
       "       'Score', 'ViewCount', 'Body', 'OwnerUserId', 'OwnerDisplayName',\n",
       "       'LastEditorUserId', 'LastEditorDisplayName', 'LastEditDate',\n",
       "       'LastActivityDate', 'Title', 'Tags', 'AnswerCount', 'CommentCount',\n",
       "       'ClosedDate', 'ContentLicense', 'FavoriteCount', 'CommunityOwnedDate'],\n",
       "      dtype='object')"
      ]
     },
     "execution_count": 62,
     "metadata": {},
     "output_type": "execute_result"
    }
   ],
   "source": [
    "df_raw_questions.columns"
   ]
  },
  {
   "cell_type": "code",
   "execution_count": 53,
   "metadata": {
    "scrolled": true
   },
   "outputs": [
    {
     "data": {
      "text/plain": [
       "Index(['Id', 'PostTypeId', 'ParentId', 'CreationDate', 'Score', 'Body',\n",
       "       'OwnerUserId', 'OwnerDisplayName', 'LastActivityDate', 'CommentCount',\n",
       "       'ContentLicense'],\n",
       "      dtype='object')"
      ]
     },
     "execution_count": 53,
     "metadata": {},
     "output_type": "execute_result"
    }
   ],
   "source": [
    "df_raw_answers.columns"
   ]
  },
  {
   "cell_type": "code",
   "execution_count": 63,
   "metadata": {},
   "outputs": [
    {
     "data": {
      "text/plain": [
       "Index(['Id', 'PostId', 'Score', 'Text', 'CreationDate', 'UserId',\n",
       "       'ContentLicense', 'of_answer', 'cnt_keywords', 'subject', 'punctuation',\n",
       "       'negative_statement', 'sentence', 'subj_irrel', 'include_irrel'],\n",
       "      dtype='object')"
      ]
     },
     "execution_count": 63,
     "metadata": {},
     "output_type": "execute_result"
    }
   ],
   "source": [
    "df_outdated_comments.columns"
   ]
  },
  {
   "cell_type": "code",
   "execution_count": 45,
   "metadata": {},
   "outputs": [
    {
     "data": {
      "text/plain": [
       "0"
      ]
     },
     "execution_count": 45,
     "metadata": {},
     "output_type": "execute_result"
    }
   ],
   "source": [
    "sum(df_raw_questions['Id'].isin(q_id_set))"
   ]
  },
  {
   "cell_type": "code",
   "execution_count": 59,
   "metadata": {},
   "outputs": [],
   "source": [
    "df_used_ans = df_raw_answers[df_raw_answers['Id'].isin(q_id_set)]\n",
    "a_pid_set = set(df_used_ans['ParentId'])\n",
    "df_used_que = df_raw_questions[df_raw_questions['Id'].isin(a_id_set.union(a_pid_set))]"
   ]
  },
  {
   "cell_type": "markdown",
   "metadata": {},
   "source": [
    "## Join tables\n",
    "\n",
    "First, join the answers with features in questions. (only the tags & FavoriteCount & ClosedDate)\n",
    "\n",
    "Then join the comments with the question table and joined answer table."
   ]
  },
  {
   "cell_type": "code",
   "execution_count": 84,
   "metadata": {},
   "outputs": [],
   "source": [
    "Q_FEAT_COLS = ['Id', 'CreationDate', 'Score', 'ViewCount',\n",
    "               'LastEditDate', 'LastActivityDate', 'Title', 'Tags', 'AnswerCount', 'CommentCount',\n",
    "               'ClosedDate', 'FavoriteCount']\n",
    "A_FEAT_COLS = ['Id', 'ParentId', 'CreationDate', 'Score', 'Body',\n",
    "               'LastActivityDate', 'CommentCount']"
   ]
  },
  {
   "cell_type": "code",
   "execution_count": 66,
   "metadata": {},
   "outputs": [],
   "source": [
    "df_used_ans = df_used_ans[A_FEAT_COLS]\n",
    "df_used_que = df_used_que[Q_FEAT_COLS]"
   ]
  },
  {
   "cell_type": "code",
   "execution_count": 96,
   "metadata": {},
   "outputs": [],
   "source": [
    "df_comments_a = df_outdated_comments[df_outdated_comments['of_answer'] == True]\n",
    "df_comments_q = df_outdated_comments[df_outdated_comments['of_answer'] == False]"
   ]
  },
  {
   "cell_type": "code",
   "execution_count": 83,
   "metadata": {},
   "outputs": [
    {
     "name": "stdout",
     "output_type": "stream",
     "text": [
      "<class 'pandas.core.frame.DataFrame'>\n",
      "Int64Index: 331 entries, 0 to 330\n",
      "Data columns (total 20 columns):\n",
      " #   Column                Non-Null Count  Dtype  \n",
      "---  ------                --------------  -----  \n",
      " 0   Id_ans                331 non-null    int64  \n",
      " 1   ParentId              331 non-null    int64  \n",
      " 2   CreationDate_ans      331 non-null    object \n",
      " 3   Score_ans             331 non-null    int64  \n",
      " 4   Body                  331 non-null    object \n",
      " 5   LastActivityDate_ans  331 non-null    object \n",
      " 6   CommentCount_ans      331 non-null    object \n",
      " 7   Id_que                331 non-null    int64  \n",
      " 8   CreationDate_que      331 non-null    object \n",
      " 9   Score_que             331 non-null    int64  \n",
      " 10  ViewCount             331 non-null    int64  \n",
      " 11  LastEditDate          174 non-null    object \n",
      " 12  LastActivityDate_que  331 non-null    object \n",
      " 13  Title                 331 non-null    object \n",
      " 14  Tags                  331 non-null    object \n",
      " 15  AnswerCount           331 non-null    int64  \n",
      " 16  CommentCount_que      331 non-null    int64  \n",
      " 17  ClosedDate            12 non-null     object \n",
      " 18  FavoriteCount         161 non-null    float64\n",
      " 19  CommunityOwnedDate    0 non-null      object \n",
      "dtypes: float64(1), int64(8), object(11)\n",
      "memory usage: 54.3+ KB\n"
     ]
    }
   ],
   "source": [
    "df_joined_ans.info()"
   ]
  },
  {
   "cell_type": "code",
   "execution_count": 68,
   "metadata": {},
   "outputs": [],
   "source": [
    "df_joined_ans = pd.merge(df_used_ans, df_used_que, how='left', \n",
    "                         left_on='ParentId', right_on='Id',\n",
    "                        suffixes=('_ans','_que'))"
   ]
  },
  {
   "cell_type": "code",
   "execution_count": 72,
   "metadata": {},
   "outputs": [
    {
     "data": {
      "text/plain": [
       "Index(['Id', 'PostId', 'Score', 'Text', 'CreationDate', 'UserId',\n",
       "       'ContentLicense', 'of_answer', 'cnt_keywords', 'subject', 'punctuation',\n",
       "       'negative_statement', 'sentence', 'subj_irrel', 'include_irrel'],\n",
       "      dtype='object')"
      ]
     },
     "execution_count": 72,
     "metadata": {},
     "output_type": "execute_result"
    }
   ],
   "source": [
    "df_comments_q.columns"
   ]
  },
  {
   "cell_type": "code",
   "execution_count": 74,
   "metadata": {},
   "outputs": [
    {
     "data": {
      "text/plain": [
       "Index(['Id', 'CreationDate', 'Score', 'ViewCount', 'LastEditDate',\n",
       "       'LastActivityDate', 'Title', 'Tags', 'AnswerCount', 'CommentCount',\n",
       "       'ClosedDate', 'FavoriteCount', 'CommunityOwnedDate'],\n",
       "      dtype='object')"
      ]
     },
     "execution_count": 74,
     "metadata": {},
     "output_type": "execute_result"
    }
   ],
   "source": [
    "df_used_que.columns"
   ]
  },
  {
   "cell_type": "markdown",
   "metadata": {},
   "source": [
    "None of question IDs is a PostId in `df_comments_q`. (fixed; now it's right.) "
   ]
  },
  {
   "cell_type": "code",
   "execution_count": 97,
   "metadata": {
    "scrolled": true
   },
   "outputs": [
    {
     "data": {
      "text/plain": [
       "329"
      ]
     },
     "execution_count": 97,
     "metadata": {},
     "output_type": "execute_result"
    }
   ],
   "source": [
    "sum(df_used_que.Id.isin(set(df_comments_q.PostId)))"
   ]
  },
  {
   "cell_type": "code",
   "execution_count": 98,
   "metadata": {},
   "outputs": [
    {
     "data": {
      "text/plain": [
       "0"
      ]
     },
     "execution_count": 98,
     "metadata": {},
     "output_type": "execute_result"
    }
   ],
   "source": [
    "sum(df_used_que.Id.isin(set(df_comments_a.PostId)))"
   ]
  },
  {
   "cell_type": "code",
   "execution_count": 104,
   "metadata": {},
   "outputs": [
    {
     "data": {
      "text/plain": [
       "Index(['Id', 'PostId', 'Score', 'Text', 'CreationDate', 'UserId',\n",
       "       'ContentLicense', 'of_answer', 'cnt_keywords', 'subject', 'punctuation',\n",
       "       'negative_statement', 'sentence', 'subj_irrel', 'include_irrel',\n",
       "       'Id_que', 'CreationDate_que', 'Score_que', 'ViewCount', 'LastEditDate',\n",
       "       'LastActivityDate', 'Title', 'Tags', 'AnswerCount', 'CommentCount',\n",
       "       'ClosedDate', 'FavoriteCount', 'CommunityOwnedDate'],\n",
       "      dtype='object')"
      ]
     },
     "execution_count": 104,
     "metadata": {},
     "output_type": "execute_result"
    }
   ],
   "source": [
    "df_joined_com_q = pd.merge(df_comments_q, df_used_que, how='left',\n",
    "                          left_on='PostId', right_on='Id', suffixes=('', '_que'))\n",
    "df_joined_com_q.columns"
   ]
  },
  {
   "cell_type": "code",
   "execution_count": 101,
   "metadata": {
    "collapsed": true
   },
   "outputs": [
    {
     "name": "stdout",
     "output_type": "stream",
     "text": [
      "<class 'pandas.core.frame.DataFrame'>\n",
      "Int64Index: 371 entries, 0 to 370\n",
      "Data columns (total 28 columns):\n",
      " #   Column              Non-Null Count  Dtype  \n",
      "---  ------              --------------  -----  \n",
      " 0   Id_com              371 non-null    int64  \n",
      " 1   PostId              371 non-null    int64  \n",
      " 2   Score_com           371 non-null    int64  \n",
      " 3   Text                371 non-null    object \n",
      " 4   CreationDate_com    371 non-null    object \n",
      " 5   UserId              371 non-null    object \n",
      " 6   ContentLicense      371 non-null    object \n",
      " 7   of_answer           371 non-null    bool   \n",
      " 8   cnt_keywords        371 non-null    int64  \n",
      " 9   subject             127 non-null    object \n",
      " 10  punctuation         371 non-null    object \n",
      " 11  negative_statement  371 non-null    int64  \n",
      " 12  sentence            371 non-null    object \n",
      " 13  subj_irrel          371 non-null    bool   \n",
      " 14  include_irrel       371 non-null    bool   \n",
      " 15  Id_que              355 non-null    float64\n",
      " 16  CreationDate_que    355 non-null    object \n",
      " 17  Score_que           355 non-null    float64\n",
      " 18  ViewCount           355 non-null    float64\n",
      " 19  LastEditDate        181 non-null    object \n",
      " 20  LastActivityDate    355 non-null    object \n",
      " 21  Title               355 non-null    object \n",
      " 22  Tags                355 non-null    object \n",
      " 23  AnswerCount         355 non-null    float64\n",
      " 24  CommentCount        355 non-null    float64\n",
      " 25  ClosedDate          9 non-null      object \n",
      " 26  FavoriteCount       83 non-null     float64\n",
      " 27  CommunityOwnedDate  0 non-null      object \n",
      "dtypes: bool(3), float64(6), int64(5), object(14)\n",
      "memory usage: 76.4+ KB\n"
     ]
    }
   ],
   "source": [
    "df_joined_com_q.info()"
   ]
  },
  {
   "cell_type": "code",
   "execution_count": 103,
   "metadata": {},
   "outputs": [
    {
     "data": {
      "text/plain": [
       "Index(['Id', 'PostId', 'Score', 'Text', 'CreationDate', 'UserId',\n",
       "       'ContentLicense', 'of_answer', 'cnt_keywords', 'subject', 'punctuation',\n",
       "       'negative_statement', 'sentence', 'subj_irrel', 'include_irrel',\n",
       "       'Id_ans', 'ParentId', 'CreationDate_ans', 'Score_ans', 'Body',\n",
       "       'LastActivityDate_ans', 'CommentCount_ans', 'Id_que',\n",
       "       'CreationDate_que', 'Score_que', 'ViewCount', 'LastEditDate',\n",
       "       'LastActivityDate_que', 'Title', 'Tags', 'AnswerCount',\n",
       "       'CommentCount_que', 'ClosedDate', 'FavoriteCount',\n",
       "       'CommunityOwnedDate'],\n",
       "      dtype='object')"
      ]
     },
     "execution_count": 103,
     "metadata": {},
     "output_type": "execute_result"
    }
   ],
   "source": [
    "df_joined_com_a = pd.merge(df_comments_a, df_joined_ans, how='left',\n",
    "                          left_on='PostId', right_on='Id_ans')\n",
    "df_joined_com_a.columns"
   ]
  },
  {
   "cell_type": "markdown",
   "metadata": {},
   "source": [
    "## Save the joined tables"
   ]
  },
  {
   "cell_type": "code",
   "execution_count": 106,
   "metadata": {},
   "outputs": [],
   "source": [
    "df_joined_com_a.to_csv(PIPE_C_A_TAGS, index=False)\n",
    "df_joined_com_q.to_csv(PIPE_C_Q_TAGS, index=False)"
   ]
  }
 ],
 "metadata": {
  "kernelspec": {
   "display_name": "venv-DS",
   "language": "python",
   "name": "data-science"
  },
  "language_info": {
   "codemirror_mode": {
    "name": "ipython",
    "version": 3
   },
   "file_extension": ".py",
   "mimetype": "text/x-python",
   "name": "python",
   "nbconvert_exporter": "python",
   "pygments_lexer": "ipython3",
   "version": "3.7.4"
  }
 },
 "nbformat": 4,
 "nbformat_minor": 2
}
