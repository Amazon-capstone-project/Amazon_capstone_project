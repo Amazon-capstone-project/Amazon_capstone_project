{
 "cells": [
  {
   "source": [
    "## Paths and constants"
   ],
   "cell_type": "markdown",
   "metadata": {}
  },
  {
   "cell_type": "code",
   "execution_count": null,
   "metadata": {},
   "outputs": [],
   "source": [
    "P_a_comments = r'data/raw/stackoverflow_amazon_a_comment.csv'\n",
    "P_q_comments = r'data/raw/stackoverflow_amazon_q_comment.csv'\n",
    "P_answers = r'data/raw/stackoverflow_amazon_a.csv'\n",
    "\n",
    "# Original outdated comments file path.\n",
    "# P_outdated_a_comments = r'data/shared/stackoverflow_amazon_a_comment_outdated.csv'\n",
    "# P_outdated_q_comments = r'data/shared/stackoverflow_amazon_a_comment_outdated.csv'\n",
    "\n",
    "# Output paths\n",
    "P_potential_outdated_comments = r'../data/pipeline/outdated_comments_by_keywords.csv'\n",
    "\n",
    "A_comment_columns = [\"Id\", \"PostId\", \"Score\", \"Text\",\n",
    "                     \"CreationDate\", \"UserId\",\"ContentLicense\"]\n",
    "A_answer_columns = ['Id', 'PostTypeId', 'ParentId', 'CreationDate',\n",
    "    'Score', 'Body','OwnerUserId', 'OwnerDisplayName', 'LastActivityDate', \n",
    "    'CommentCount', 'ContentLicense']"
   ]
  },
  {
   "source": [
    "## Load data"
   ],
   "cell_type": "markdown",
   "metadata": {}
  },
  {
   "cell_type": "code",
   "execution_count": null,
   "metadata": {},
   "outputs": [],
   "source": [
    "import os\n",
    "import pandas as pd\n",
    "\n",
    "def load_data(path: str) -> pd.DataFrame:\n",
    "    \"\"\"Load comments data.\"\"\"\n",
    "    comment_dtypes = {col: 'string' for col in A_comment_columns}\n",
    "    comment_dtypes['ContentLicense'] = 'category'\n",
    "    comment_dtypes['Score'] = 'int'\n",
    "    answer_dtypes = {col: 'string' for col in A_answer_columns}\n",
    "    answer_dtypes['ContentLicense'] = 'category'\n",
    "    answer_dtypes['Score'] = 'int'\n",
    "\n",
    "    if 'comment' in path:\n",
    "        columns = A_comment_columns\n",
    "        d_types = comment_dtypes\n",
    "    else:\n",
    "        columns = A_answer_columns\n",
    "        d_types = answer_dtypes\n",
    "\n",
    "    if 'data' not in os.listdir('.'):\n",
    "        path = '../' + path\n",
    "\n",
    "    df = pd.read_csv(path, error_bad_lines=False, dtype=d_types)\n",
    "\n",
    "    return df[columns]"
   ]
  },
  {
   "source": [
    "## Extract outdated ones by keywords"
   ],
   "cell_type": "markdown",
   "metadata": {}
  },
  {
   "cell_type": "code",
   "execution_count": null,
   "metadata": {},
   "outputs": [],
   "source": [
    "import pandas as pd\n",
    "\n",
    "def filter_by_keywords(df: pd.DataFrame, content_colname: str) -> pd.DataFrame:\n",
    "    \"\"\"Extract the rows where column 'Text' / 'Body' contains keywords.\"\"\"\n",
    "    A_outdated_keywords = [' outdated', ' deprecated', ' obsolete',\n",
    "                        ' discouraged', ' out of date']\n",
    "    def filter_text_with_keywords(row):\n",
    "        cond = (kw in row[content_colname] for kw in A_outdated_keywords)\n",
    "        return any(cond)\n",
    "    return df[df.apply(filter_text_with_keywords, axis=1)]\n"
   ]
  },
  {
   "cell_type": "code",
   "execution_count": null,
   "metadata": {},
   "outputs": [],
   "source": [
    "def get_outdated_comments() -> pd.DataFrame:\n",
    "    \"\"\"Get the potentially outdated comments\"\"\"\n",
    "    comments_a = load_data(P_a_comments)\n",
    "    comments_q = load_data(P_q_comments)\n",
    "    outdated_comments_a = filter_by_keywords(comments_a, 'Text')\n",
    "    outdated_comments_q = filter_by_keywords(comments_q, 'Text')\n",
    "    outdated_comments_a['of_answer'] = True\n",
    "    outdated_comments_q['of_answer'] = False\n",
    "    return pd.concat([outdated_comments_q, outdated_comments_a]).reset_index()"
   ]
  },
  {
   "cell_type": "code",
   "execution_count": null,
   "metadata": {},
   "outputs": [],
   "source": [
    "if __name__ == '__main__':\n",
    "    df_comments = get_outdated_comments()\n",
    "    df_comments.to_csv(P_potential_outdated_comments, index=False)\n",
    "    "
   ]
  },
  {
   "cell_type": "code",
   "execution_count": null,
   "metadata": {},
   "outputs": [],
   "source": []
  }
 ],
 "metadata": {
  "kernelspec": {
   "display_name": "venv-DS",
   "language": "python",
   "name": "data-science"
  },
  "language_info": {
   "codemirror_mode": {
    "name": "ipython",
    "version": 3
   },
   "file_extension": ".py",
   "mimetype": "text/x-python",
   "name": "python",
   "nbconvert_exporter": "python",
   "pygments_lexer": "ipython3",
   "version": "3.7.4-final"
  }
 },
 "nbformat": 4,
 "nbformat_minor": 2
}