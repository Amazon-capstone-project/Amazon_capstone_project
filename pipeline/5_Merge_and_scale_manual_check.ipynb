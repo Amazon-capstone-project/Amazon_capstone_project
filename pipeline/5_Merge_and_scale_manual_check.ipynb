{
 "cells": [
  {
   "cell_type": "code",
   "execution_count": 1,
   "metadata": {},
   "outputs": [],
   "source": [
    "import pandas as pd\n",
    "import numpy as np\n",
    "from collections import Counter\n",
    "import re"
   ]
  },
  {
   "cell_type": "code",
   "execution_count": 2,
   "metadata": {},
   "outputs": [
    {
     "data": {
      "text/html": [
       "<div>\n",
       "<style scoped>\n",
       "    .dataframe tbody tr th:only-of-type {\n",
       "        vertical-align: middle;\n",
       "    }\n",
       "\n",
       "    .dataframe tbody tr th {\n",
       "        vertical-align: top;\n",
       "    }\n",
       "\n",
       "    .dataframe thead th {\n",
       "        text-align: right;\n",
       "    }\n",
       "</style>\n",
       "<table border=\"1\" class=\"dataframe\">\n",
       "  <thead>\n",
       "    <tr style=\"text-align: right;\">\n",
       "      <th></th>\n",
       "      <th>Id</th>\n",
       "      <th>PostId</th>\n",
       "      <th>Score</th>\n",
       "      <th>Text</th>\n",
       "      <th>CreationDate</th>\n",
       "      <th>UserId</th>\n",
       "      <th>ContentLicense</th>\n",
       "      <th>of_answer</th>\n",
       "      <th>cnt_keywords</th>\n",
       "      <th>subject</th>\n",
       "      <th>...</th>\n",
       "      <th>ViewCount</th>\n",
       "      <th>LastEditDate</th>\n",
       "      <th>LastActivityDate</th>\n",
       "      <th>Title</th>\n",
       "      <th>Tags</th>\n",
       "      <th>AnswerCount</th>\n",
       "      <th>CommentCount</th>\n",
       "      <th>ClosedDate</th>\n",
       "      <th>FavoriteCount</th>\n",
       "      <th>CommunityOwnedDate</th>\n",
       "    </tr>\n",
       "  </thead>\n",
       "  <tbody>\n",
       "    <tr>\n",
       "      <th>0</th>\n",
       "      <td>1027927</td>\n",
       "      <td>1204191</td>\n",
       "      <td>0</td>\n",
       "      <td>Do you have a contact over at Amazon? They nee...</td>\n",
       "      <td>2009-07-30T05:38:18.620</td>\n",
       "      <td>76337</td>\n",
       "      <td>CC BY-SA 2.5</td>\n",
       "      <td>False</td>\n",
       "      <td>1</td>\n",
       "      <td>NaN</td>\n",
       "      <td>...</td>\n",
       "      <td>10400.0</td>\n",
       "      <td>2009-08-03T03:09:04.357</td>\n",
       "      <td>2009-09-05T04:11:20.040</td>\n",
       "      <td>How to sign an Amazon web service request in ....</td>\n",
       "      <td>&lt;c#&gt;&lt;wcf&gt;&lt;web-services&gt;&lt;soap&gt;&lt;amazon-web-servi...</td>\n",
       "      <td>4.0</td>\n",
       "      <td>2.0</td>\n",
       "      <td>NaN</td>\n",
       "      <td>3.0</td>\n",
       "      <td>NaN</td>\n",
       "    </tr>\n",
       "    <tr>\n",
       "      <th>1</th>\n",
       "      <td>2301473</td>\n",
       "      <td>1496066</td>\n",
       "      <td>4</td>\n",
       "      <td>This question and answers are out of date now ...</td>\n",
       "      <td>2010-02-25T02:48:51.043</td>\n",
       "      <td>50277</td>\n",
       "      <td>CC BY-SA 2.5</td>\n",
       "      <td>False</td>\n",
       "      <td>1</td>\n",
       "      <td>question</td>\n",
       "      <td>...</td>\n",
       "      <td>4772.0</td>\n",
       "      <td>2013-01-06T13:29:42.057</td>\n",
       "      <td>2018-11-17T00:09:24.550</td>\n",
       "      <td>Amazon SimpleDB Woes: Implementing counter att...</td>\n",
       "      <td>&lt;amazon-web-services&gt;&lt;amazon-simpledb&gt;</td>\n",
       "      <td>6.0</td>\n",
       "      <td>1.0</td>\n",
       "      <td>NaN</td>\n",
       "      <td>7.0</td>\n",
       "      <td>NaN</td>\n",
       "    </tr>\n",
       "    <tr>\n",
       "      <th>2</th>\n",
       "      <td>2301480</td>\n",
       "      <td>327169</td>\n",
       "      <td>1</td>\n",
       "      <td>This question and answers are out of date now ...</td>\n",
       "      <td>2010-02-25T02:51:10.927</td>\n",
       "      <td>50277</td>\n",
       "      <td>CC BY-SA 2.5</td>\n",
       "      <td>False</td>\n",
       "      <td>1</td>\n",
       "      <td>question</td>\n",
       "      <td>...</td>\n",
       "      <td>959.0</td>\n",
       "      <td>NaN</td>\n",
       "      <td>2008-11-29T13:39:08.123</td>\n",
       "      <td>How far can you really go with \"eventual\" cons...</td>\n",
       "      <td>&lt;sql&gt;&lt;database&gt;&lt;amazon-web-services&gt;&lt;amazon-si...</td>\n",
       "      <td>2.0</td>\n",
       "      <td>1.0</td>\n",
       "      <td>NaN</td>\n",
       "      <td>4.0</td>\n",
       "      <td>NaN</td>\n",
       "    </tr>\n",
       "    <tr>\n",
       "      <th>3</th>\n",
       "      <td>8008147</td>\n",
       "      <td>6735850</td>\n",
       "      <td>0</td>\n",
       "      <td>@house9, I've looked at heroku already, and th...</td>\n",
       "      <td>2011-07-19T22:43:03.567</td>\n",
       "      <td>152092</td>\n",
       "      <td>CC BY-SA 3.0</td>\n",
       "      <td>False</td>\n",
       "      <td>1</td>\n",
       "      <td>I</td>\n",
       "      <td>...</td>\n",
       "      <td>2907.0</td>\n",
       "      <td>NaN</td>\n",
       "      <td>2013-03-19T11:17:48.443</td>\n",
       "      <td>Rails 3 Server on EC2</td>\n",
       "      <td>&lt;ruby-on-rails-3&gt;&lt;amazon-ec2&gt;&lt;ruby-on-rails-3.1&gt;</td>\n",
       "      <td>3.0</td>\n",
       "      <td>3.0</td>\n",
       "      <td>NaN</td>\n",
       "      <td>3.0</td>\n",
       "      <td>NaN</td>\n",
       "    </tr>\n",
       "    <tr>\n",
       "      <th>4</th>\n",
       "      <td>9594466</td>\n",
       "      <td>7864988</td>\n",
       "      <td>0</td>\n",
       "      <td>UIDevice `uniqueIdentifier` is deprecated in i...</td>\n",
       "      <td>2011-10-23T08:13:47.107</td>\n",
       "      <td>18091</td>\n",
       "      <td>CC BY-SA 3.0</td>\n",
       "      <td>False</td>\n",
       "      <td>1</td>\n",
       "      <td>UIDevice</td>\n",
       "      <td>...</td>\n",
       "      <td>783.0</td>\n",
       "      <td>NaN</td>\n",
       "      <td>2011-10-23T09:05:42.187</td>\n",
       "      <td>ios 5 AWS SDK S3PutObjectRequest</td>\n",
       "      <td>&lt;amazon-s3&gt;&lt;amazon-web-services&gt;&lt;ios5&gt;</td>\n",
       "      <td>1.0</td>\n",
       "      <td>2.0</td>\n",
       "      <td>NaN</td>\n",
       "      <td>NaN</td>\n",
       "      <td>NaN</td>\n",
       "    </tr>\n",
       "    <tr>\n",
       "      <th>...</th>\n",
       "      <td>...</td>\n",
       "      <td>...</td>\n",
       "      <td>...</td>\n",
       "      <td>...</td>\n",
       "      <td>...</td>\n",
       "      <td>...</td>\n",
       "      <td>...</td>\n",
       "      <td>...</td>\n",
       "      <td>...</td>\n",
       "      <td>...</td>\n",
       "      <td>...</td>\n",
       "      <td>...</td>\n",
       "      <td>...</td>\n",
       "      <td>...</td>\n",
       "      <td>...</td>\n",
       "      <td>...</td>\n",
       "      <td>...</td>\n",
       "      <td>...</td>\n",
       "      <td>...</td>\n",
       "      <td>...</td>\n",
       "      <td>...</td>\n",
       "    </tr>\n",
       "    <tr>\n",
       "      <th>366</th>\n",
       "      <td>111881787</td>\n",
       "      <td>63241324</td>\n",
       "      <td>0</td>\n",
       "      <td>@BenT We are thinking of using timestamps to i...</td>\n",
       "      <td>2020-08-05T17:36:12.297</td>\n",
       "      <td>2184946</td>\n",
       "      <td>CC BY-SA 4.0</td>\n",
       "      <td>False</td>\n",
       "      <td>1</td>\n",
       "      <td>NaN</td>\n",
       "      <td>...</td>\n",
       "      <td>21.0</td>\n",
       "      <td>NaN</td>\n",
       "      <td>2020-08-11T20:48:26.050</td>\n",
       "      <td>How to avoid retrieving outdated data from AWS...</td>\n",
       "      <td>&lt;amazon-web-services&gt;&lt;iot&gt;&lt;aws-iot&gt;</td>\n",
       "      <td>1.0</td>\n",
       "      <td>2.0</td>\n",
       "      <td>NaN</td>\n",
       "      <td>NaN</td>\n",
       "      <td>NaN</td>\n",
       "    </tr>\n",
       "    <tr>\n",
       "      <th>367</th>\n",
       "      <td>112537429</td>\n",
       "      <td>63640052</td>\n",
       "      <td>0</td>\n",
       "      <td>the only error thats in there is this warning ...</td>\n",
       "      <td>2020-08-28T20:32:43.217</td>\n",
       "      <td>14184500</td>\n",
       "      <td>CC BY-SA 4.0</td>\n",
       "      <td>False</td>\n",
       "      <td>1</td>\n",
       "      <td>Buffer</td>\n",
       "      <td>...</td>\n",
       "      <td>34.0</td>\n",
       "      <td>2020-08-28T22:39:27.823</td>\n",
       "      <td>2020-08-28T22:39:27.823</td>\n",
       "      <td>S3.upload not working in production environmen...</td>\n",
       "      <td>&lt;node.js&gt;&lt;amazon-web-services&gt;&lt;amazon-s3&gt;&lt;netl...</td>\n",
       "      <td>0.0</td>\n",
       "      <td>10.0</td>\n",
       "      <td>NaN</td>\n",
       "      <td>NaN</td>\n",
       "      <td>NaN</td>\n",
       "    </tr>\n",
       "    <tr>\n",
       "      <th>368</th>\n",
       "      <td>112577969</td>\n",
       "      <td>63644158</td>\n",
       "      <td>0</td>\n",
       "      <td>Yes, using a load balancer would be ideal, but...</td>\n",
       "      <td>2020-08-31T01:47:22.793</td>\n",
       "      <td>12564768</td>\n",
       "      <td>CC BY-SA 4.0</td>\n",
       "      <td>False</td>\n",
       "      <td>1</td>\n",
       "      <td>NaN</td>\n",
       "      <td>...</td>\n",
       "      <td>19.0</td>\n",
       "      <td>2020-09-02T01:46:24.570</td>\n",
       "      <td>2020-09-02T01:46:24.570</td>\n",
       "      <td>ECS randomly terminates instances and starts a...</td>\n",
       "      <td>&lt;amazon-ec2&gt;&lt;amazon-ecs&gt;</td>\n",
       "      <td>0.0</td>\n",
       "      <td>3.0</td>\n",
       "      <td>NaN</td>\n",
       "      <td>NaN</td>\n",
       "      <td>NaN</td>\n",
       "    </tr>\n",
       "    <tr>\n",
       "      <th>369</th>\n",
       "      <td>112606415</td>\n",
       "      <td>63679395</td>\n",
       "      <td>2</td>\n",
       "      <td>Do you absolutely need a 0.11 compatible answe...</td>\n",
       "      <td>2020-08-31T23:46:36.197</td>\n",
       "      <td>2291321</td>\n",
       "      <td>CC BY-SA 4.0</td>\n",
       "      <td>False</td>\n",
       "      <td>1</td>\n",
       "      <td>0.11</td>\n",
       "      <td>...</td>\n",
       "      <td>NaN</td>\n",
       "      <td>NaN</td>\n",
       "      <td>NaN</td>\n",
       "      <td>NaN</td>\n",
       "      <td>NaN</td>\n",
       "      <td>NaN</td>\n",
       "      <td>NaN</td>\n",
       "      <td>NaN</td>\n",
       "      <td>NaN</td>\n",
       "      <td>NaN</td>\n",
       "    </tr>\n",
       "    <tr>\n",
       "      <th>370</th>\n",
       "      <td>112635110</td>\n",
       "      <td>63695581</td>\n",
       "      <td>0</td>\n",
       "      <td>As you can see `pip` uses the outdated Python ...</td>\n",
       "      <td>2020-09-01T21:25:47.887</td>\n",
       "      <td>1209921</td>\n",
       "      <td>CC BY-SA 4.0</td>\n",
       "      <td>False</td>\n",
       "      <td>1</td>\n",
       "      <td>NaN</td>\n",
       "      <td>...</td>\n",
       "      <td>27.0</td>\n",
       "      <td>NaN</td>\n",
       "      <td>2020-09-01T21:17:07.363</td>\n",
       "      <td>Django isn't recognizing crispy forms</td>\n",
       "      <td>&lt;python&gt;&lt;django&gt;&lt;amazon-web-services&gt;&lt;django-c...</td>\n",
       "      <td>0.0</td>\n",
       "      <td>2.0</td>\n",
       "      <td>NaN</td>\n",
       "      <td>NaN</td>\n",
       "      <td>NaN</td>\n",
       "    </tr>\n",
       "  </tbody>\n",
       "</table>\n",
       "<p>371 rows × 28 columns</p>\n",
       "</div>"
      ],
      "text/plain": [
       "            Id    PostId  Score  \\\n",
       "0      1027927   1204191      0   \n",
       "1      2301473   1496066      4   \n",
       "2      2301480    327169      1   \n",
       "3      8008147   6735850      0   \n",
       "4      9594466   7864988      0   \n",
       "..         ...       ...    ...   \n",
       "366  111881787  63241324      0   \n",
       "367  112537429  63640052      0   \n",
       "368  112577969  63644158      0   \n",
       "369  112606415  63679395      2   \n",
       "370  112635110  63695581      0   \n",
       "\n",
       "                                                  Text  \\\n",
       "0    Do you have a contact over at Amazon? They nee...   \n",
       "1    This question and answers are out of date now ...   \n",
       "2    This question and answers are out of date now ...   \n",
       "3    @house9, I've looked at heroku already, and th...   \n",
       "4    UIDevice `uniqueIdentifier` is deprecated in i...   \n",
       "..                                                 ...   \n",
       "366  @BenT We are thinking of using timestamps to i...   \n",
       "367  the only error thats in there is this warning ...   \n",
       "368  Yes, using a load balancer would be ideal, but...   \n",
       "369  Do you absolutely need a 0.11 compatible answe...   \n",
       "370  As you can see `pip` uses the outdated Python ...   \n",
       "\n",
       "                CreationDate    UserId ContentLicense  of_answer  \\\n",
       "0    2009-07-30T05:38:18.620     76337   CC BY-SA 2.5      False   \n",
       "1    2010-02-25T02:48:51.043     50277   CC BY-SA 2.5      False   \n",
       "2    2010-02-25T02:51:10.927     50277   CC BY-SA 2.5      False   \n",
       "3    2011-07-19T22:43:03.567    152092   CC BY-SA 3.0      False   \n",
       "4    2011-10-23T08:13:47.107     18091   CC BY-SA 3.0      False   \n",
       "..                       ...       ...            ...        ...   \n",
       "366  2020-08-05T17:36:12.297   2184946   CC BY-SA 4.0      False   \n",
       "367  2020-08-28T20:32:43.217  14184500   CC BY-SA 4.0      False   \n",
       "368  2020-08-31T01:47:22.793  12564768   CC BY-SA 4.0      False   \n",
       "369  2020-08-31T23:46:36.197   2291321   CC BY-SA 4.0      False   \n",
       "370  2020-09-01T21:25:47.887   1209921   CC BY-SA 4.0      False   \n",
       "\n",
       "     cnt_keywords   subject  ... ViewCount             LastEditDate  \\\n",
       "0               1       NaN  ...   10400.0  2009-08-03T03:09:04.357   \n",
       "1               1  question  ...    4772.0  2013-01-06T13:29:42.057   \n",
       "2               1  question  ...     959.0                      NaN   \n",
       "3               1         I  ...    2907.0                      NaN   \n",
       "4               1  UIDevice  ...     783.0                      NaN   \n",
       "..            ...       ...  ...       ...                      ...   \n",
       "366             1       NaN  ...      21.0                      NaN   \n",
       "367             1    Buffer  ...      34.0  2020-08-28T22:39:27.823   \n",
       "368             1       NaN  ...      19.0  2020-09-02T01:46:24.570   \n",
       "369             1      0.11  ...       NaN                      NaN   \n",
       "370             1       NaN  ...      27.0                      NaN   \n",
       "\n",
       "            LastActivityDate  \\\n",
       "0    2009-09-05T04:11:20.040   \n",
       "1    2018-11-17T00:09:24.550   \n",
       "2    2008-11-29T13:39:08.123   \n",
       "3    2013-03-19T11:17:48.443   \n",
       "4    2011-10-23T09:05:42.187   \n",
       "..                       ...   \n",
       "366  2020-08-11T20:48:26.050   \n",
       "367  2020-08-28T22:39:27.823   \n",
       "368  2020-09-02T01:46:24.570   \n",
       "369                      NaN   \n",
       "370  2020-09-01T21:17:07.363   \n",
       "\n",
       "                                                 Title  \\\n",
       "0    How to sign an Amazon web service request in ....   \n",
       "1    Amazon SimpleDB Woes: Implementing counter att...   \n",
       "2    How far can you really go with \"eventual\" cons...   \n",
       "3                                Rails 3 Server on EC2   \n",
       "4                     ios 5 AWS SDK S3PutObjectRequest   \n",
       "..                                                 ...   \n",
       "366  How to avoid retrieving outdated data from AWS...   \n",
       "367  S3.upload not working in production environmen...   \n",
       "368  ECS randomly terminates instances and starts a...   \n",
       "369                                                NaN   \n",
       "370              Django isn't recognizing crispy forms   \n",
       "\n",
       "                                                  Tags  AnswerCount  \\\n",
       "0    <c#><wcf><web-services><soap><amazon-web-servi...          4.0   \n",
       "1               <amazon-web-services><amazon-simpledb>          6.0   \n",
       "2    <sql><database><amazon-web-services><amazon-si...          2.0   \n",
       "3     <ruby-on-rails-3><amazon-ec2><ruby-on-rails-3.1>          3.0   \n",
       "4               <amazon-s3><amazon-web-services><ios5>          1.0   \n",
       "..                                                 ...          ...   \n",
       "366                <amazon-web-services><iot><aws-iot>          1.0   \n",
       "367  <node.js><amazon-web-services><amazon-s3><netl...          0.0   \n",
       "368                           <amazon-ec2><amazon-ecs>          0.0   \n",
       "369                                                NaN          NaN   \n",
       "370  <python><django><amazon-web-services><django-c...          0.0   \n",
       "\n",
       "    CommentCount  ClosedDate  FavoriteCount CommunityOwnedDate  \n",
       "0            2.0         NaN            3.0                NaN  \n",
       "1            1.0         NaN            7.0                NaN  \n",
       "2            1.0         NaN            4.0                NaN  \n",
       "3            3.0         NaN            3.0                NaN  \n",
       "4            2.0         NaN            NaN                NaN  \n",
       "..           ...         ...            ...                ...  \n",
       "366          2.0         NaN            NaN                NaN  \n",
       "367         10.0         NaN            NaN                NaN  \n",
       "368          3.0         NaN            NaN                NaN  \n",
       "369          NaN         NaN            NaN                NaN  \n",
       "370          2.0         NaN            NaN                NaN  \n",
       "\n",
       "[371 rows x 28 columns]"
      ]
     },
     "execution_count": 2,
     "metadata": {},
     "output_type": "execute_result"
    }
   ],
   "source": [
    "# read comments cvs\n",
    "# df_comments = pd.read_csv(\"Manual checking - comments.csv\")\n",
    "df_comments = pd.read_csv(\"./data/pipeline/cq_parent_feats.csv\")\n",
    "df_comments"
   ]
  },
  {
   "cell_type": "code",
   "execution_count": 4,
   "metadata": {},
   "outputs": [],
   "source": [
    "df_answers = pd.read_csv(\"./data/pipeline/ca_parent_feats.csv\")\n",
    "# df_answers.columns\n",
    "df_answers = df_answers.drop('Body',axis = 1)\n",
    "# df_answers['Id_ans']==df_answers['Id']"
   ]
  },
  {
   "cell_type": "code",
   "execution_count": 5,
   "metadata": {},
   "outputs": [
    {
     "data": {
      "text/plain": [
       "Index(['Id', 'PostId', 'Score', 'Text', 'CreationDate', 'UserId',\n",
       "       'ContentLicense', 'of_answer', 'cnt_keywords', 'subject', 'punctuation',\n",
       "       'negative_statement', 'sentence', 'subj_irrel', 'include_irrel',\n",
       "       'Id_que', 'CreationDate_que', 'Score_que', 'ViewCount', 'LastEditDate',\n",
       "       'LastActivityDate', 'Title', 'Tags', 'AnswerCount', 'CommentCount',\n",
       "       'ClosedDate', 'FavoriteCount', 'CommunityOwnedDate'],\n",
       "      dtype='object')"
      ]
     },
     "execution_count": 5,
     "metadata": {},
     "output_type": "execute_result"
    }
   ],
   "source": [
    "df_comments.columns"
   ]
  },
  {
   "cell_type": "code",
   "execution_count": 6,
   "metadata": {},
   "outputs": [
    {
     "data": {
      "text/plain": [
       "{'CommentCount', 'LastActivityDate'}"
      ]
     },
     "execution_count": 6,
     "metadata": {},
     "output_type": "execute_result"
    }
   ],
   "source": [
    "set(df_comments.columns)-set(df_answers.columns)"
   ]
  },
  {
   "cell_type": "code",
   "execution_count": 7,
   "metadata": {},
   "outputs": [
    {
     "data": {
      "text/plain": [
       "{'CommentCount_ans',\n",
       " 'CommentCount_que',\n",
       " 'CreationDate_ans',\n",
       " 'Id_ans',\n",
       " 'LastActivityDate_ans',\n",
       " 'LastActivityDate_que',\n",
       " 'ParentId',\n",
       " 'Score_ans'}"
      ]
     },
     "execution_count": 7,
     "metadata": {},
     "output_type": "execute_result"
    }
   ],
   "source": [
    "set(df_answers.columns)-set(df_comments.columns)"
   ]
  },
  {
   "cell_type": "code",
   "execution_count": 8,
   "metadata": {},
   "outputs": [
    {
     "name": "stdout",
     "output_type": "stream",
     "text": [
      "28\n",
      "34\n"
     ]
    }
   ],
   "source": [
    "print(len(df_comments.columns))\n",
    "print(len(df_answers.columns))"
   ]
  },
  {
   "cell_type": "code",
   "execution_count": 9,
   "metadata": {},
   "outputs": [
    {
     "name": "stderr",
     "output_type": "stream",
     "text": [
      "/Users/jianghuimin/anaconda3/lib/python3.7/site-packages/ipykernel_launcher.py:1: FutureWarning: Sorting because non-concatenation axis is not aligned. A future version\n",
      "of pandas will change to not sort by default.\n",
      "\n",
      "To accept the future behavior, pass 'sort=False'.\n",
      "\n",
      "To retain the current behavior and silence the warning, pass 'sort=True'.\n",
      "\n",
      "  \"\"\"Entry point for launching an IPython kernel.\n"
     ]
    }
   ],
   "source": [
    "df = pd.concat([df_comments,df_answers],axis = 0,ignore_index = True)"
   ]
  },
  {
   "cell_type": "code",
   "execution_count": 10,
   "metadata": {},
   "outputs": [
    {
     "name": "stdout",
     "output_type": "stream",
     "text": [
      "<class 'pandas.core.frame.DataFrame'>\n",
      "RangeIndex: 948 entries, 0 to 947\n",
      "Data columns (total 36 columns):\n",
      "AnswerCount             697 non-null float64\n",
      "ClosedDate              21 non-null object\n",
      "CommentCount            355 non-null float64\n",
      "CommentCount_ans        342 non-null object\n",
      "CommentCount_que        342 non-null float64\n",
      "CommunityOwnedDate      0 non-null float64\n",
      "ContentLicense          948 non-null object\n",
      "CreationDate            948 non-null object\n",
      "CreationDate_ans        342 non-null object\n",
      "CreationDate_que        697 non-null object\n",
      "FavoriteCount           249 non-null float64\n",
      "Id                      948 non-null int64\n",
      "Id_ans                  342 non-null float64\n",
      "Id_que                  697 non-null float64\n",
      "LastActivityDate        355 non-null object\n",
      "LastActivityDate_ans    342 non-null float64\n",
      "LastActivityDate_que    342 non-null object\n",
      "LastEditDate            364 non-null object\n",
      "ParentId                342 non-null float64\n",
      "PostId                  948 non-null int64\n",
      "Score                   948 non-null int64\n",
      "Score_ans               342 non-null float64\n",
      "Score_que               697 non-null float64\n",
      "Tags                    697 non-null object\n",
      "Text                    948 non-null object\n",
      "Title                   697 non-null object\n",
      "UserId                  948 non-null object\n",
      "ViewCount               697 non-null float64\n",
      "cnt_keywords            948 non-null int64\n",
      "include_irrel           948 non-null bool\n",
      "negative_statement      948 non-null int64\n",
      "of_answer               948 non-null bool\n",
      "punctuation             948 non-null object\n",
      "sentence                948 non-null object\n",
      "subj_irrel              948 non-null bool\n",
      "subject                 334 non-null object\n",
      "dtypes: bool(3), float64(12), int64(5), object(16)\n",
      "memory usage: 247.3+ KB\n"
     ]
    }
   ],
   "source": [
    "df.info()"
   ]
  },
  {
   "cell_type": "code",
   "execution_count": 11,
   "metadata": {},
   "outputs": [],
   "source": [
    "#CommunityOwnedDate      0 non-null float64\n",
    "#drop the columns completely lost\n",
    "df = df.drop('CommunityOwnedDate',axis = 1)"
   ]
  },
  {
   "cell_type": "code",
   "execution_count": 12,
   "metadata": {},
   "outputs": [],
   "source": [
    "def Find(string):\n",
    "    regex = r\"(?i)\\b((?:https?://|www\\d{0,3}[.]|[a-z0-9.\\-]+[.][a-z]{2,4}/)(?:[^\\s()<>]+|\\(([^\\s()<>]+|(\\([^\\s()<>]+\\)))*\\))+(?:\\(([^\\s()<>]+|(\\([^\\s()<>]+\\)))*\\)|[^\\s`!()\\[\\]{};:'\\\".,<>?«»“”‘’]))\"\n",
    "    url = re.findall(regex,string)\n",
    "    url_list=[x[0] for x in url]\n",
    "    if len(url_list) != 0:\n",
    "        return 1\n",
    "    else:\n",
    "        return 0\n",
    "df['share_link']= df['Text'].apply(lambda x:Find(x))"
   ]
  },
  {
   "cell_type": "code",
   "execution_count": 14,
   "metadata": {},
   "outputs": [],
   "source": [
    "def get_tags(tags):\n",
    "#     print(tags)\n",
    "    if tags != tags:\n",
    "        return None\n",
    "    else:\n",
    "        tags = tags[1:-1]\n",
    "        tags = tags.split('><')\n",
    "        res = []\n",
    "        for item in tags:\n",
    "            if ('aws' in item) or ('amazon' in item):\n",
    "                if item != 'aws' and item !='amazon-web-services':\n",
    "                    res.append(item)\n",
    "        if res == []:\n",
    "            return None\n",
    "        return res\n",
    "df['aws_related_tags']= df['Tags'].apply(lambda x:get_tags(x))"
   ]
  },
  {
   "cell_type": "code",
   "execution_count": 15,
   "metadata": {},
   "outputs": [],
   "source": [
    "def count_tag_num(tags):\n",
    "    if tags == None:\n",
    "        return None\n",
    "    return len(tags)\n",
    "df['tag_num']= df['aws_related_tags'].apply(lambda x:count_tag_num(x))"
   ]
  },
  {
   "cell_type": "code",
   "execution_count": 16,
   "metadata": {},
   "outputs": [
    {
     "data": {
      "text/plain": [
       "array([nan,  1.,  2.,  3.,  4.])"
      ]
     },
     "execution_count": 16,
     "metadata": {},
     "output_type": "execute_result"
    }
   ],
   "source": [
    "pd.unique(df['tag_num'])"
   ]
  },
  {
   "cell_type": "code",
   "execution_count": 17,
   "metadata": {},
   "outputs": [],
   "source": [
    "def get_tags(tags):\n",
    "    if tags != tags:\n",
    "        return None\n",
    "    else:\n",
    "        tags = tags[1:-1]\n",
    "        tags = tags.split('><')\n",
    "        res = []\n",
    "        for item in tags:\n",
    "            if ('aws' in item) or ('amazon' in item):\n",
    "                if item != 'aws' and item !='amazon-web-services':\n",
    "                    res.append(item)\n",
    "        if res == []:\n",
    "            return None\n",
    "        return res\n",
    "df['aws_related_tags']= df['Tags'].apply(lambda x:get_tags(x))"
   ]
  },
  {
   "cell_type": "code",
   "execution_count": 18,
   "metadata": {},
   "outputs": [],
   "source": [
    "def get_code(text):\n",
    "    code = re.findall('`([^\"]*)`',text)\n",
    "    if code ==[]:\n",
    "        return 0\n",
    "    else:\n",
    "        return 1\n",
    "df['share_code']= df['Text'].apply(lambda x:get_code(x))"
   ]
  },
  {
   "cell_type": "code",
   "execution_count": 19,
   "metadata": {},
   "outputs": [],
   "source": [
    "# read answers cvs\n",
    "# df_answers = pd.read_csv(\"Manual checking - answers.csv\")\n",
    "df_answers_checked = pd.read_csv(\"./data/pipeline/Manual checking - answers (1).csv\")\n",
    "df_answers_checked = df_answers_checked[:100]"
   ]
  },
  {
   "cell_type": "code",
   "execution_count": 20,
   "metadata": {},
   "outputs": [],
   "source": [
    "df_answers_checked = df_answers_checked[['answer_id','outdated (manually checked)']]"
   ]
  },
  {
   "cell_type": "code",
   "execution_count": 21,
   "metadata": {},
   "outputs": [],
   "source": [
    "df = df.merge(df_answers_checked,left_on='Id_ans',right_on='answer_id',how = 'left')"
   ]
  },
  {
   "cell_type": "code",
   "execution_count": 22,
   "metadata": {},
   "outputs": [],
   "source": [
    "# read comments cvs\n",
    "# df_comments = pd.read_csv(\"Manual checking - comments.csv\")\n",
    "df_comments_checked = pd.read_csv(\"./data/pipeline/Manual checking - comments(new).csv\")\n",
    "df_comments_checked = df_comments_checked[:194]\n"
   ]
  },
  {
   "cell_type": "code",
   "execution_count": 23,
   "metadata": {},
   "outputs": [],
   "source": [
    "# df_comments_checked "
   ]
  },
  {
   "cell_type": "code",
   "execution_count": 24,
   "metadata": {},
   "outputs": [],
   "source": [
    "df_comments_checked = df_comments_checked[['Id','outdated (manually checked)']]"
   ]
  },
  {
   "cell_type": "code",
   "execution_count": 25,
   "metadata": {},
   "outputs": [],
   "source": [
    "df = df.merge(df_comments_checked,left_on='Id',right_on='Id',how = 'left')"
   ]
  },
  {
   "cell_type": "code",
   "execution_count": 26,
   "metadata": {},
   "outputs": [],
   "source": [
    "def get_outdated(x,y):\n",
    "    if x == x:\n",
    "        return x\n",
    "    elif y == y:\n",
    "        return y\n",
    "    else:\n",
    "        return None\n",
    "df['outdated (manually checked)']= df.apply(lambda x:get_outdated(x['outdated (manually checked)_x'],x['outdated (manually checked)_y']),axis =1)"
   ]
  },
  {
   "cell_type": "code",
   "execution_count": 27,
   "metadata": {},
   "outputs": [],
   "source": [
    "def train_or_test(manual):\n",
    "    if manual == None:\n",
    "        return 'Test'\n",
    "    else:\n",
    "        return 'Train'\n",
    "df['is_training']= df['outdated (manually checked)'].apply(lambda x:train_or_test(x))\n",
    " "
   ]
  },
  {
   "cell_type": "code",
   "execution_count": 28,
   "metadata": {},
   "outputs": [],
   "source": [
    "df = df.drop(['outdated (manually checked)_x','outdated (manually checked)_y','answer_id'],axis = 1)"
   ]
  },
  {
   "cell_type": "code",
   "execution_count": 29,
   "metadata": {},
   "outputs": [],
   "source": [
    "df = df.drop(['tag_num'],axis =1)"
   ]
  },
  {
   "cell_type": "code",
   "execution_count": 30,
   "metadata": {},
   "outputs": [],
   "source": [
    "# def get_keywords(text):\n",
    "#     if ('outdated' in text or 'deprecated' in comment['body']\n",
    "#                 or 'obsolete' in comment['body'] or 'out of date' in comment['body']):"
   ]
  },
  {
   "cell_type": "code",
   "execution_count": 52,
   "metadata": {},
   "outputs": [],
   "source": [
    "df.to_csv(\"./data/pipeline/952_rows_40_columns.csv\")"
   ]
  }
 ],
 "metadata": {
  "kernelspec": {
   "display_name": "Python 3",
   "language": "python",
   "name": "python3"
  },
  "language_info": {
   "codemirror_mode": {
    "name": "ipython",
    "version": 3
   },
   "file_extension": ".py",
   "mimetype": "text/x-python",
   "name": "python",
   "nbconvert_exporter": "python",
   "pygments_lexer": "ipython3",
   "version": "3.7.3"
  }
 },
 "nbformat": 4,
 "nbformat_minor": 2
}
